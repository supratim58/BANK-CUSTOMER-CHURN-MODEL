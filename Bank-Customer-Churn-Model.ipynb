{
  "nbformat": 4,
  "nbformat_minor": 0,
  "metadata": {
    "colab": {
      "provenance": []
    },
    "kernelspec": {
      "name": "python3",
      "display_name": "Python 3"
    },
    "language_info": {
      "name": "python"
    }
  },
  "cells": [
    {
      "cell_type": "markdown",
      "source": [
        "# **BANK CUSTOMER CHURN MODEL**"
      ],
      "metadata": {
        "id": "5HBNPmCugBnY"
      }
    },
    {
      "cell_type": "markdown",
      "source": [
        "## Learning Objective:\n",
        "\n",
        "\n",
        "1.   Data Encoding\n",
        "2.   Feature Scaling\n",
        "3.   Handling Imbalence Data -\n",
        "      *   Random Under Sampling\n",
        "      *   Random Over Sampling\n",
        "4.   Support Vector Machine Classifier\n",
        "5.   Grid Search for Hyperparameter Tunning\n",
        "\n"
      ],
      "metadata": {
        "id": "mBdTNuMtgtdA"
      }
    },
    {
      "cell_type": "markdown",
      "source": [
        "## Data Source"
      ],
      "metadata": {
        "id": "FOvm49FBebIw"
      }
    },
    {
      "cell_type": "markdown",
      "source": [
        "Bank Churn Modelling.csv Dataset is taken from YBI-Foundation/Dataset from GitHub."
      ],
      "metadata": {
        "id": "qxflPPqOeyd7"
      }
    },
    {
      "cell_type": "markdown",
      "source": [
        "## Import Library"
      ],
      "metadata": {
        "id": "EWOag9rhiBYy"
      }
    },
    {
      "cell_type": "code",
      "source": [],
      "metadata": {
        "id": "MBeEEXzVfNsT"
      },
      "execution_count": null,
      "outputs": []
    },
    {
      "cell_type": "code",
      "execution_count": null,
      "metadata": {
        "id": "KGFaYMB5cTwr"
      },
      "outputs": [],
      "source": [
        "import numpy as np\n",
        "import pandas as pd\n",
        "import matplotlib.pyplot as plt\n",
        "import seaborn as sns"
      ]
    },
    {
      "cell_type": "code",
      "source": [
        "df = pd.read_csv('https://github.com/YBI-Foundation/Dataset/raw/refs/heads/main/Bank%20Churn%20Modelling.csv')"
      ],
      "metadata": {
        "id": "fSZ0VgIAiV-e"
      },
      "execution_count": null,
      "outputs": []
    },
    {
      "cell_type": "code",
      "source": [
        "df.head()"
      ],
      "metadata": {
        "colab": {
          "base_uri": "https://localhost:8080/",
          "height": 261
        },
        "id": "0AgyIKbQig38",
        "outputId": "1cae4550-9636-4e72-97b8-69882c97b9d9"
      },
      "execution_count": null,
      "outputs": [
        {
          "output_type": "execute_result",
          "data": {
            "text/plain": [
              "   CustomerId   Surname  CreditScore Geography  Gender  Age  Tenure  \\\n",
              "0    15634602  Hargrave          619    France  Female   42       2   \n",
              "1    15647311      Hill          608     Spain  Female   41       1   \n",
              "2    15619304      Onio          502    France  Female   42       8   \n",
              "3    15701354      Boni          699    France  Female   39       1   \n",
              "4    15737888  Mitchell          850     Spain  Female   43       2   \n",
              "\n",
              "     Balance  Num Of Products  Has Credit Card  Is Active Member  \\\n",
              "0       0.00                1                1                 1   \n",
              "1   83807.86                1                0                 1   \n",
              "2  159660.80                3                1                 0   \n",
              "3       0.00                2                0                 0   \n",
              "4  125510.82                1                1                 1   \n",
              "\n",
              "   Estimated Salary  Churn  \n",
              "0         101348.88      1  \n",
              "1         112542.58      0  \n",
              "2         113931.57      1  \n",
              "3          93826.63      0  \n",
              "4          79084.10      0  "
            ],
            "text/html": [
              "\n",
              "  <div id=\"df-091dec90-bfb1-4547-8e7c-f8f4fec136ab\" class=\"colab-df-container\">\n",
              "    <div>\n",
              "<style scoped>\n",
              "    .dataframe tbody tr th:only-of-type {\n",
              "        vertical-align: middle;\n",
              "    }\n",
              "\n",
              "    .dataframe tbody tr th {\n",
              "        vertical-align: top;\n",
              "    }\n",
              "\n",
              "    .dataframe thead th {\n",
              "        text-align: right;\n",
              "    }\n",
              "</style>\n",
              "<table border=\"1\" class=\"dataframe\">\n",
              "  <thead>\n",
              "    <tr style=\"text-align: right;\">\n",
              "      <th></th>\n",
              "      <th>CustomerId</th>\n",
              "      <th>Surname</th>\n",
              "      <th>CreditScore</th>\n",
              "      <th>Geography</th>\n",
              "      <th>Gender</th>\n",
              "      <th>Age</th>\n",
              "      <th>Tenure</th>\n",
              "      <th>Balance</th>\n",
              "      <th>Num Of Products</th>\n",
              "      <th>Has Credit Card</th>\n",
              "      <th>Is Active Member</th>\n",
              "      <th>Estimated Salary</th>\n",
              "      <th>Churn</th>\n",
              "    </tr>\n",
              "  </thead>\n",
              "  <tbody>\n",
              "    <tr>\n",
              "      <th>0</th>\n",
              "      <td>15634602</td>\n",
              "      <td>Hargrave</td>\n",
              "      <td>619</td>\n",
              "      <td>France</td>\n",
              "      <td>Female</td>\n",
              "      <td>42</td>\n",
              "      <td>2</td>\n",
              "      <td>0.00</td>\n",
              "      <td>1</td>\n",
              "      <td>1</td>\n",
              "      <td>1</td>\n",
              "      <td>101348.88</td>\n",
              "      <td>1</td>\n",
              "    </tr>\n",
              "    <tr>\n",
              "      <th>1</th>\n",
              "      <td>15647311</td>\n",
              "      <td>Hill</td>\n",
              "      <td>608</td>\n",
              "      <td>Spain</td>\n",
              "      <td>Female</td>\n",
              "      <td>41</td>\n",
              "      <td>1</td>\n",
              "      <td>83807.86</td>\n",
              "      <td>1</td>\n",
              "      <td>0</td>\n",
              "      <td>1</td>\n",
              "      <td>112542.58</td>\n",
              "      <td>0</td>\n",
              "    </tr>\n",
              "    <tr>\n",
              "      <th>2</th>\n",
              "      <td>15619304</td>\n",
              "      <td>Onio</td>\n",
              "      <td>502</td>\n",
              "      <td>France</td>\n",
              "      <td>Female</td>\n",
              "      <td>42</td>\n",
              "      <td>8</td>\n",
              "      <td>159660.80</td>\n",
              "      <td>3</td>\n",
              "      <td>1</td>\n",
              "      <td>0</td>\n",
              "      <td>113931.57</td>\n",
              "      <td>1</td>\n",
              "    </tr>\n",
              "    <tr>\n",
              "      <th>3</th>\n",
              "      <td>15701354</td>\n",
              "      <td>Boni</td>\n",
              "      <td>699</td>\n",
              "      <td>France</td>\n",
              "      <td>Female</td>\n",
              "      <td>39</td>\n",
              "      <td>1</td>\n",
              "      <td>0.00</td>\n",
              "      <td>2</td>\n",
              "      <td>0</td>\n",
              "      <td>0</td>\n",
              "      <td>93826.63</td>\n",
              "      <td>0</td>\n",
              "    </tr>\n",
              "    <tr>\n",
              "      <th>4</th>\n",
              "      <td>15737888</td>\n",
              "      <td>Mitchell</td>\n",
              "      <td>850</td>\n",
              "      <td>Spain</td>\n",
              "      <td>Female</td>\n",
              "      <td>43</td>\n",
              "      <td>2</td>\n",
              "      <td>125510.82</td>\n",
              "      <td>1</td>\n",
              "      <td>1</td>\n",
              "      <td>1</td>\n",
              "      <td>79084.10</td>\n",
              "      <td>0</td>\n",
              "    </tr>\n",
              "  </tbody>\n",
              "</table>\n",
              "</div>\n",
              "    <div class=\"colab-df-buttons\">\n",
              "\n",
              "  <div class=\"colab-df-container\">\n",
              "    <button class=\"colab-df-convert\" onclick=\"convertToInteractive('df-091dec90-bfb1-4547-8e7c-f8f4fec136ab')\"\n",
              "            title=\"Convert this dataframe to an interactive table.\"\n",
              "            style=\"display:none;\">\n",
              "\n",
              "  <svg xmlns=\"http://www.w3.org/2000/svg\" height=\"24px\" viewBox=\"0 -960 960 960\">\n",
              "    <path d=\"M120-120v-720h720v720H120Zm60-500h600v-160H180v160Zm220 220h160v-160H400v160Zm0 220h160v-160H400v160ZM180-400h160v-160H180v160Zm440 0h160v-160H620v160ZM180-180h160v-160H180v160Zm440 0h160v-160H620v160Z\"/>\n",
              "  </svg>\n",
              "    </button>\n",
              "\n",
              "  <style>\n",
              "    .colab-df-container {\n",
              "      display:flex;\n",
              "      gap: 12px;\n",
              "    }\n",
              "\n",
              "    .colab-df-convert {\n",
              "      background-color: #E8F0FE;\n",
              "      border: none;\n",
              "      border-radius: 50%;\n",
              "      cursor: pointer;\n",
              "      display: none;\n",
              "      fill: #1967D2;\n",
              "      height: 32px;\n",
              "      padding: 0 0 0 0;\n",
              "      width: 32px;\n",
              "    }\n",
              "\n",
              "    .colab-df-convert:hover {\n",
              "      background-color: #E2EBFA;\n",
              "      box-shadow: 0px 1px 2px rgba(60, 64, 67, 0.3), 0px 1px 3px 1px rgba(60, 64, 67, 0.15);\n",
              "      fill: #174EA6;\n",
              "    }\n",
              "\n",
              "    .colab-df-buttons div {\n",
              "      margin-bottom: 4px;\n",
              "    }\n",
              "\n",
              "    [theme=dark] .colab-df-convert {\n",
              "      background-color: #3B4455;\n",
              "      fill: #D2E3FC;\n",
              "    }\n",
              "\n",
              "    [theme=dark] .colab-df-convert:hover {\n",
              "      background-color: #434B5C;\n",
              "      box-shadow: 0px 1px 3px 1px rgba(0, 0, 0, 0.15);\n",
              "      filter: drop-shadow(0px 1px 2px rgba(0, 0, 0, 0.3));\n",
              "      fill: #FFFFFF;\n",
              "    }\n",
              "  </style>\n",
              "\n",
              "    <script>\n",
              "      const buttonEl =\n",
              "        document.querySelector('#df-091dec90-bfb1-4547-8e7c-f8f4fec136ab button.colab-df-convert');\n",
              "      buttonEl.style.display =\n",
              "        google.colab.kernel.accessAllowed ? 'block' : 'none';\n",
              "\n",
              "      async function convertToInteractive(key) {\n",
              "        const element = document.querySelector('#df-091dec90-bfb1-4547-8e7c-f8f4fec136ab');\n",
              "        const dataTable =\n",
              "          await google.colab.kernel.invokeFunction('convertToInteractive',\n",
              "                                                    [key], {});\n",
              "        if (!dataTable) return;\n",
              "\n",
              "        const docLinkHtml = 'Like what you see? Visit the ' +\n",
              "          '<a target=\"_blank\" href=https://colab.research.google.com/notebooks/data_table.ipynb>data table notebook</a>'\n",
              "          + ' to learn more about interactive tables.';\n",
              "        element.innerHTML = '';\n",
              "        dataTable['output_type'] = 'display_data';\n",
              "        await google.colab.output.renderOutput(dataTable, element);\n",
              "        const docLink = document.createElement('div');\n",
              "        docLink.innerHTML = docLinkHtml;\n",
              "        element.appendChild(docLink);\n",
              "      }\n",
              "    </script>\n",
              "  </div>\n",
              "\n",
              "\n",
              "<div id=\"df-af8b603a-8c67-4d57-94c5-36a6a342adcc\">\n",
              "  <button class=\"colab-df-quickchart\" onclick=\"quickchart('df-af8b603a-8c67-4d57-94c5-36a6a342adcc')\"\n",
              "            title=\"Suggest charts\"\n",
              "            style=\"display:none;\">\n",
              "\n",
              "<svg xmlns=\"http://www.w3.org/2000/svg\" height=\"24px\"viewBox=\"0 0 24 24\"\n",
              "     width=\"24px\">\n",
              "    <g>\n",
              "        <path d=\"M19 3H5c-1.1 0-2 .9-2 2v14c0 1.1.9 2 2 2h14c1.1 0 2-.9 2-2V5c0-1.1-.9-2-2-2zM9 17H7v-7h2v7zm4 0h-2V7h2v10zm4 0h-2v-4h2v4z\"/>\n",
              "    </g>\n",
              "</svg>\n",
              "  </button>\n",
              "\n",
              "<style>\n",
              "  .colab-df-quickchart {\n",
              "      --bg-color: #E8F0FE;\n",
              "      --fill-color: #1967D2;\n",
              "      --hover-bg-color: #E2EBFA;\n",
              "      --hover-fill-color: #174EA6;\n",
              "      --disabled-fill-color: #AAA;\n",
              "      --disabled-bg-color: #DDD;\n",
              "  }\n",
              "\n",
              "  [theme=dark] .colab-df-quickchart {\n",
              "      --bg-color: #3B4455;\n",
              "      --fill-color: #D2E3FC;\n",
              "      --hover-bg-color: #434B5C;\n",
              "      --hover-fill-color: #FFFFFF;\n",
              "      --disabled-bg-color: #3B4455;\n",
              "      --disabled-fill-color: #666;\n",
              "  }\n",
              "\n",
              "  .colab-df-quickchart {\n",
              "    background-color: var(--bg-color);\n",
              "    border: none;\n",
              "    border-radius: 50%;\n",
              "    cursor: pointer;\n",
              "    display: none;\n",
              "    fill: var(--fill-color);\n",
              "    height: 32px;\n",
              "    padding: 0;\n",
              "    width: 32px;\n",
              "  }\n",
              "\n",
              "  .colab-df-quickchart:hover {\n",
              "    background-color: var(--hover-bg-color);\n",
              "    box-shadow: 0 1px 2px rgba(60, 64, 67, 0.3), 0 1px 3px 1px rgba(60, 64, 67, 0.15);\n",
              "    fill: var(--button-hover-fill-color);\n",
              "  }\n",
              "\n",
              "  .colab-df-quickchart-complete:disabled,\n",
              "  .colab-df-quickchart-complete:disabled:hover {\n",
              "    background-color: var(--disabled-bg-color);\n",
              "    fill: var(--disabled-fill-color);\n",
              "    box-shadow: none;\n",
              "  }\n",
              "\n",
              "  .colab-df-spinner {\n",
              "    border: 2px solid var(--fill-color);\n",
              "    border-color: transparent;\n",
              "    border-bottom-color: var(--fill-color);\n",
              "    animation:\n",
              "      spin 1s steps(1) infinite;\n",
              "  }\n",
              "\n",
              "  @keyframes spin {\n",
              "    0% {\n",
              "      border-color: transparent;\n",
              "      border-bottom-color: var(--fill-color);\n",
              "      border-left-color: var(--fill-color);\n",
              "    }\n",
              "    20% {\n",
              "      border-color: transparent;\n",
              "      border-left-color: var(--fill-color);\n",
              "      border-top-color: var(--fill-color);\n",
              "    }\n",
              "    30% {\n",
              "      border-color: transparent;\n",
              "      border-left-color: var(--fill-color);\n",
              "      border-top-color: var(--fill-color);\n",
              "      border-right-color: var(--fill-color);\n",
              "    }\n",
              "    40% {\n",
              "      border-color: transparent;\n",
              "      border-right-color: var(--fill-color);\n",
              "      border-top-color: var(--fill-color);\n",
              "    }\n",
              "    60% {\n",
              "      border-color: transparent;\n",
              "      border-right-color: var(--fill-color);\n",
              "    }\n",
              "    80% {\n",
              "      border-color: transparent;\n",
              "      border-right-color: var(--fill-color);\n",
              "      border-bottom-color: var(--fill-color);\n",
              "    }\n",
              "    90% {\n",
              "      border-color: transparent;\n",
              "      border-bottom-color: var(--fill-color);\n",
              "    }\n",
              "  }\n",
              "</style>\n",
              "\n",
              "  <script>\n",
              "    async function quickchart(key) {\n",
              "      const quickchartButtonEl =\n",
              "        document.querySelector('#' + key + ' button');\n",
              "      quickchartButtonEl.disabled = true;  // To prevent multiple clicks.\n",
              "      quickchartButtonEl.classList.add('colab-df-spinner');\n",
              "      try {\n",
              "        const charts = await google.colab.kernel.invokeFunction(\n",
              "            'suggestCharts', [key], {});\n",
              "      } catch (error) {\n",
              "        console.error('Error during call to suggestCharts:', error);\n",
              "      }\n",
              "      quickchartButtonEl.classList.remove('colab-df-spinner');\n",
              "      quickchartButtonEl.classList.add('colab-df-quickchart-complete');\n",
              "    }\n",
              "    (() => {\n",
              "      let quickchartButtonEl =\n",
              "        document.querySelector('#df-af8b603a-8c67-4d57-94c5-36a6a342adcc button');\n",
              "      quickchartButtonEl.style.display =\n",
              "        google.colab.kernel.accessAllowed ? 'block' : 'none';\n",
              "    })();\n",
              "  </script>\n",
              "</div>\n",
              "\n",
              "    </div>\n",
              "  </div>\n"
            ],
            "application/vnd.google.colaboratory.intrinsic+json": {
              "type": "dataframe",
              "variable_name": "df",
              "summary": "{\n  \"name\": \"df\",\n  \"rows\": 10000,\n  \"fields\": [\n    {\n      \"column\": \"CustomerId\",\n      \"properties\": {\n        \"dtype\": \"number\",\n        \"std\": 71936,\n        \"min\": 15565701,\n        \"max\": 15815690,\n        \"num_unique_values\": 10000,\n        \"samples\": [\n          15687492,\n          15736963,\n          15721730\n        ],\n        \"semantic_type\": \"\",\n        \"description\": \"\"\n      }\n    },\n    {\n      \"column\": \"Surname\",\n      \"properties\": {\n        \"dtype\": \"category\",\n        \"num_unique_values\": 2932,\n        \"samples\": [\n          \"McGuirk\",\n          \"Torkelson\",\n          \"Rapuluchukwu\"\n        ],\n        \"semantic_type\": \"\",\n        \"description\": \"\"\n      }\n    },\n    {\n      \"column\": \"CreditScore\",\n      \"properties\": {\n        \"dtype\": \"number\",\n        \"std\": 96,\n        \"min\": 350,\n        \"max\": 850,\n        \"num_unique_values\": 460,\n        \"samples\": [\n          754,\n          533,\n          744\n        ],\n        \"semantic_type\": \"\",\n        \"description\": \"\"\n      }\n    },\n    {\n      \"column\": \"Geography\",\n      \"properties\": {\n        \"dtype\": \"category\",\n        \"num_unique_values\": 3,\n        \"samples\": [\n          \"France\",\n          \"Spain\",\n          \"Germany\"\n        ],\n        \"semantic_type\": \"\",\n        \"description\": \"\"\n      }\n    },\n    {\n      \"column\": \"Gender\",\n      \"properties\": {\n        \"dtype\": \"category\",\n        \"num_unique_values\": 2,\n        \"samples\": [\n          \"Male\",\n          \"Female\"\n        ],\n        \"semantic_type\": \"\",\n        \"description\": \"\"\n      }\n    },\n    {\n      \"column\": \"Age\",\n      \"properties\": {\n        \"dtype\": \"number\",\n        \"std\": 10,\n        \"min\": 18,\n        \"max\": 92,\n        \"num_unique_values\": 70,\n        \"samples\": [\n          61,\n          42\n        ],\n        \"semantic_type\": \"\",\n        \"description\": \"\"\n      }\n    },\n    {\n      \"column\": \"Tenure\",\n      \"properties\": {\n        \"dtype\": \"number\",\n        \"std\": 2,\n        \"min\": 0,\n        \"max\": 10,\n        \"num_unique_values\": 11,\n        \"samples\": [\n          6,\n          2\n        ],\n        \"semantic_type\": \"\",\n        \"description\": \"\"\n      }\n    },\n    {\n      \"column\": \"Balance\",\n      \"properties\": {\n        \"dtype\": \"number\",\n        \"std\": 62397.40520238623,\n        \"min\": 0.0,\n        \"max\": 250898.09,\n        \"num_unique_values\": 6382,\n        \"samples\": [\n          117707.18,\n          133050.97\n        ],\n        \"semantic_type\": \"\",\n        \"description\": \"\"\n      }\n    },\n    {\n      \"column\": \"Num Of Products\",\n      \"properties\": {\n        \"dtype\": \"number\",\n        \"std\": 0,\n        \"min\": 1,\n        \"max\": 4,\n        \"num_unique_values\": 4,\n        \"samples\": [\n          3,\n          4\n        ],\n        \"semantic_type\": \"\",\n        \"description\": \"\"\n      }\n    },\n    {\n      \"column\": \"Has Credit Card\",\n      \"properties\": {\n        \"dtype\": \"number\",\n        \"std\": 0,\n        \"min\": 0,\n        \"max\": 1,\n        \"num_unique_values\": 2,\n        \"samples\": [\n          0,\n          1\n        ],\n        \"semantic_type\": \"\",\n        \"description\": \"\"\n      }\n    },\n    {\n      \"column\": \"Is Active Member\",\n      \"properties\": {\n        \"dtype\": \"number\",\n        \"std\": 0,\n        \"min\": 0,\n        \"max\": 1,\n        \"num_unique_values\": 2,\n        \"samples\": [\n          0,\n          1\n        ],\n        \"semantic_type\": \"\",\n        \"description\": \"\"\n      }\n    },\n    {\n      \"column\": \"Estimated Salary\",\n      \"properties\": {\n        \"dtype\": \"number\",\n        \"std\": 57510.49281769822,\n        \"min\": 11.58,\n        \"max\": 199992.48,\n        \"num_unique_values\": 9999,\n        \"samples\": [\n          100809.99,\n          95273.73\n        ],\n        \"semantic_type\": \"\",\n        \"description\": \"\"\n      }\n    },\n    {\n      \"column\": \"Churn\",\n      \"properties\": {\n        \"dtype\": \"number\",\n        \"std\": 0,\n        \"min\": 0,\n        \"max\": 1,\n        \"num_unique_values\": 2,\n        \"samples\": [\n          0,\n          1\n        ],\n        \"semantic_type\": \"\",\n        \"description\": \"\"\n      }\n    }\n  ]\n}"
            }
          },
          "metadata": {},
          "execution_count": 3
        }
      ]
    },
    {
      "cell_type": "code",
      "source": [
        "df.info()"
      ],
      "metadata": {
        "colab": {
          "base_uri": "https://localhost:8080/"
        },
        "id": "r15N8oARiloK",
        "outputId": "1efa3e08-3bab-45f5-c5be-8ca675b10805"
      },
      "execution_count": null,
      "outputs": [
        {
          "output_type": "stream",
          "name": "stdout",
          "text": [
            "<class 'pandas.core.frame.DataFrame'>\n",
            "RangeIndex: 10000 entries, 0 to 9999\n",
            "Data columns (total 13 columns):\n",
            " #   Column            Non-Null Count  Dtype  \n",
            "---  ------            --------------  -----  \n",
            " 0   CustomerId        10000 non-null  int64  \n",
            " 1   Surname           10000 non-null  object \n",
            " 2   CreditScore       10000 non-null  int64  \n",
            " 3   Geography         10000 non-null  object \n",
            " 4   Gender            10000 non-null  object \n",
            " 5   Age               10000 non-null  int64  \n",
            " 6   Tenure            10000 non-null  int64  \n",
            " 7   Balance           10000 non-null  float64\n",
            " 8   Num Of Products   10000 non-null  int64  \n",
            " 9   Has Credit Card   10000 non-null  int64  \n",
            " 10  Is Active Member  10000 non-null  int64  \n",
            " 11  Estimated Salary  10000 non-null  float64\n",
            " 12  Churn             10000 non-null  int64  \n",
            "dtypes: float64(2), int64(8), object(3)\n",
            "memory usage: 1015.8+ KB\n"
          ]
        }
      ]
    },
    {
      "cell_type": "code",
      "source": [
        "df.duplicated('CustomerId').sum()"
      ],
      "metadata": {
        "colab": {
          "base_uri": "https://localhost:8080/"
        },
        "id": "EiuIECUNi1Rs",
        "outputId": "5d8c2f70-dab2-4fde-a9b5-586070489ae2"
      },
      "execution_count": null,
      "outputs": [
        {
          "output_type": "execute_result",
          "data": {
            "text/plain": [
              "0"
            ]
          },
          "metadata": {},
          "execution_count": 5
        }
      ]
    },
    {
      "cell_type": "code",
      "source": [
        "df = df.set_index('CustomerId')"
      ],
      "metadata": {
        "id": "xKu5zQNli_MO"
      },
      "execution_count": null,
      "outputs": []
    },
    {
      "cell_type": "code",
      "source": [
        "df.info()"
      ],
      "metadata": {
        "colab": {
          "base_uri": "https://localhost:8080/"
        },
        "id": "7S2UJMuGjGif",
        "outputId": "5bf03d00-fce2-4d9f-e1d7-5b802418912f"
      },
      "execution_count": null,
      "outputs": [
        {
          "output_type": "stream",
          "name": "stdout",
          "text": [
            "<class 'pandas.core.frame.DataFrame'>\n",
            "Index: 10000 entries, 15634602 to 15628319\n",
            "Data columns (total 12 columns):\n",
            " #   Column            Non-Null Count  Dtype  \n",
            "---  ------            --------------  -----  \n",
            " 0   Surname           10000 non-null  object \n",
            " 1   CreditScore       10000 non-null  int64  \n",
            " 2   Geography         10000 non-null  object \n",
            " 3   Gender            10000 non-null  object \n",
            " 4   Age               10000 non-null  int64  \n",
            " 5   Tenure            10000 non-null  int64  \n",
            " 6   Balance           10000 non-null  float64\n",
            " 7   Num Of Products   10000 non-null  int64  \n",
            " 8   Has Credit Card   10000 non-null  int64  \n",
            " 9   Is Active Member  10000 non-null  int64  \n",
            " 10  Estimated Salary  10000 non-null  float64\n",
            " 11  Churn             10000 non-null  int64  \n",
            "dtypes: float64(2), int64(7), object(3)\n",
            "memory usage: 1015.6+ KB\n"
          ]
        }
      ]
    },
    {
      "cell_type": "markdown",
      "source": [
        "## Encoding"
      ],
      "metadata": {
        "id": "91vC2SrpjbZu"
      }
    },
    {
      "cell_type": "code",
      "source": [
        "df['Geography'].value_counts()"
      ],
      "metadata": {
        "colab": {
          "base_uri": "https://localhost:8080/",
          "height": 209
        },
        "id": "8jaOgnCNjNMw",
        "outputId": "db6236ee-e630-4bf4-acf6-6fe42927b5ba"
      },
      "execution_count": null,
      "outputs": [
        {
          "output_type": "execute_result",
          "data": {
            "text/plain": [
              "Geography\n",
              "France     5014\n",
              "Germany    2509\n",
              "Spain      2477\n",
              "Name: count, dtype: int64"
            ],
            "text/html": [
              "<div>\n",
              "<style scoped>\n",
              "    .dataframe tbody tr th:only-of-type {\n",
              "        vertical-align: middle;\n",
              "    }\n",
              "\n",
              "    .dataframe tbody tr th {\n",
              "        vertical-align: top;\n",
              "    }\n",
              "\n",
              "    .dataframe thead th {\n",
              "        text-align: right;\n",
              "    }\n",
              "</style>\n",
              "<table border=\"1\" class=\"dataframe\">\n",
              "  <thead>\n",
              "    <tr style=\"text-align: right;\">\n",
              "      <th></th>\n",
              "      <th>count</th>\n",
              "    </tr>\n",
              "    <tr>\n",
              "      <th>Geography</th>\n",
              "      <th></th>\n",
              "    </tr>\n",
              "  </thead>\n",
              "  <tbody>\n",
              "    <tr>\n",
              "      <th>France</th>\n",
              "      <td>5014</td>\n",
              "    </tr>\n",
              "    <tr>\n",
              "      <th>Germany</th>\n",
              "      <td>2509</td>\n",
              "    </tr>\n",
              "    <tr>\n",
              "      <th>Spain</th>\n",
              "      <td>2477</td>\n",
              "    </tr>\n",
              "  </tbody>\n",
              "</table>\n",
              "</div><br><label><b>dtype:</b> int64</label>"
            ]
          },
          "metadata": {},
          "execution_count": 8
        }
      ]
    },
    {
      "cell_type": "code",
      "source": [
        "df.replace({'Geography': {'France': 2, 'Germany': 1, 'Spain': 0}}, inplace=True)"
      ],
      "metadata": {
        "colab": {
          "base_uri": "https://localhost:8080/"
        },
        "id": "yZas2HyLjiua",
        "outputId": "2ff6f769-5f1a-4352-dae1-4d169531e6f0"
      },
      "execution_count": null,
      "outputs": [
        {
          "output_type": "stream",
          "name": "stderr",
          "text": [
            "<ipython-input-9-f985f4a358cc>:1: FutureWarning: Downcasting behavior in `replace` is deprecated and will be removed in a future version. To retain the old behavior, explicitly call `result.infer_objects(copy=False)`. To opt-in to the future behavior, set `pd.set_option('future.no_silent_downcasting', True)`\n",
            "  df.replace({'Geography': {'France': 2, 'Germany': 1, 'Spain': 0}}, inplace=True)\n"
          ]
        }
      ]
    },
    {
      "cell_type": "code",
      "source": [
        "df['Gender'].value_counts()"
      ],
      "metadata": {
        "colab": {
          "base_uri": "https://localhost:8080/",
          "height": 178
        },
        "id": "-c7XMNENj9ti",
        "outputId": "655f2ac2-1c91-4652-c07a-67b05c838309"
      },
      "execution_count": null,
      "outputs": [
        {
          "output_type": "execute_result",
          "data": {
            "text/plain": [
              "Gender\n",
              "Male      5457\n",
              "Female    4543\n",
              "Name: count, dtype: int64"
            ],
            "text/html": [
              "<div>\n",
              "<style scoped>\n",
              "    .dataframe tbody tr th:only-of-type {\n",
              "        vertical-align: middle;\n",
              "    }\n",
              "\n",
              "    .dataframe tbody tr th {\n",
              "        vertical-align: top;\n",
              "    }\n",
              "\n",
              "    .dataframe thead th {\n",
              "        text-align: right;\n",
              "    }\n",
              "</style>\n",
              "<table border=\"1\" class=\"dataframe\">\n",
              "  <thead>\n",
              "    <tr style=\"text-align: right;\">\n",
              "      <th></th>\n",
              "      <th>count</th>\n",
              "    </tr>\n",
              "    <tr>\n",
              "      <th>Gender</th>\n",
              "      <th></th>\n",
              "    </tr>\n",
              "  </thead>\n",
              "  <tbody>\n",
              "    <tr>\n",
              "      <th>Male</th>\n",
              "      <td>5457</td>\n",
              "    </tr>\n",
              "    <tr>\n",
              "      <th>Female</th>\n",
              "      <td>4543</td>\n",
              "    </tr>\n",
              "  </tbody>\n",
              "</table>\n",
              "</div><br><label><b>dtype:</b> int64</label>"
            ]
          },
          "metadata": {},
          "execution_count": 10
        }
      ]
    },
    {
      "cell_type": "code",
      "source": [
        "df.replace({'Gender': {'Male': 0, 'Female': 1}}, inplace=True)"
      ],
      "metadata": {
        "colab": {
          "base_uri": "https://localhost:8080/"
        },
        "id": "9K4732FskGFr",
        "outputId": "d81286b4-f4c6-4480-8622-dd02a70d9656"
      },
      "execution_count": null,
      "outputs": [
        {
          "output_type": "stream",
          "name": "stderr",
          "text": [
            "<ipython-input-11-c3dddf66a94b>:1: FutureWarning: Downcasting behavior in `replace` is deprecated and will be removed in a future version. To retain the old behavior, explicitly call `result.infer_objects(copy=False)`. To opt-in to the future behavior, set `pd.set_option('future.no_silent_downcasting', True)`\n",
            "  df.replace({'Gender': {'Male': 0, 'Female': 1}}, inplace=True)\n"
          ]
        }
      ]
    },
    {
      "cell_type": "code",
      "source": [
        "df['Num Of Products'].value_counts()"
      ],
      "metadata": {
        "colab": {
          "base_uri": "https://localhost:8080/",
          "height": 241
        },
        "id": "1LCatV2VkWY6",
        "outputId": "72acecc7-1786-448c-c860-e475d1c8223b"
      },
      "execution_count": null,
      "outputs": [
        {
          "output_type": "execute_result",
          "data": {
            "text/plain": [
              "Num Of Products\n",
              "1    5084\n",
              "2    4590\n",
              "3     266\n",
              "4      60\n",
              "Name: count, dtype: int64"
            ],
            "text/html": [
              "<div>\n",
              "<style scoped>\n",
              "    .dataframe tbody tr th:only-of-type {\n",
              "        vertical-align: middle;\n",
              "    }\n",
              "\n",
              "    .dataframe tbody tr th {\n",
              "        vertical-align: top;\n",
              "    }\n",
              "\n",
              "    .dataframe thead th {\n",
              "        text-align: right;\n",
              "    }\n",
              "</style>\n",
              "<table border=\"1\" class=\"dataframe\">\n",
              "  <thead>\n",
              "    <tr style=\"text-align: right;\">\n",
              "      <th></th>\n",
              "      <th>count</th>\n",
              "    </tr>\n",
              "    <tr>\n",
              "      <th>Num Of Products</th>\n",
              "      <th></th>\n",
              "    </tr>\n",
              "  </thead>\n",
              "  <tbody>\n",
              "    <tr>\n",
              "      <th>1</th>\n",
              "      <td>5084</td>\n",
              "    </tr>\n",
              "    <tr>\n",
              "      <th>2</th>\n",
              "      <td>4590</td>\n",
              "    </tr>\n",
              "    <tr>\n",
              "      <th>3</th>\n",
              "      <td>266</td>\n",
              "    </tr>\n",
              "    <tr>\n",
              "      <th>4</th>\n",
              "      <td>60</td>\n",
              "    </tr>\n",
              "  </tbody>\n",
              "</table>\n",
              "</div><br><label><b>dtype:</b> int64</label>"
            ]
          },
          "metadata": {},
          "execution_count": 12
        }
      ]
    },
    {
      "cell_type": "code",
      "source": [
        "df.replace({'Num Of Products': {1:0, 2:1, 3:1, 4:1}}, inplace=True)"
      ],
      "metadata": {
        "id": "VP4__z2pkc-0"
      },
      "execution_count": null,
      "outputs": []
    },
    {
      "cell_type": "code",
      "source": [
        "df['Has Credit Card'].value_counts()"
      ],
      "metadata": {
        "colab": {
          "base_uri": "https://localhost:8080/",
          "height": 178
        },
        "id": "UZRJdCeBkyOo",
        "outputId": "176f6740-787c-460d-c01f-aaa9f2da004a"
      },
      "execution_count": null,
      "outputs": [
        {
          "output_type": "execute_result",
          "data": {
            "text/plain": [
              "Has Credit Card\n",
              "1    7055\n",
              "0    2945\n",
              "Name: count, dtype: int64"
            ],
            "text/html": [
              "<div>\n",
              "<style scoped>\n",
              "    .dataframe tbody tr th:only-of-type {\n",
              "        vertical-align: middle;\n",
              "    }\n",
              "\n",
              "    .dataframe tbody tr th {\n",
              "        vertical-align: top;\n",
              "    }\n",
              "\n",
              "    .dataframe thead th {\n",
              "        text-align: right;\n",
              "    }\n",
              "</style>\n",
              "<table border=\"1\" class=\"dataframe\">\n",
              "  <thead>\n",
              "    <tr style=\"text-align: right;\">\n",
              "      <th></th>\n",
              "      <th>count</th>\n",
              "    </tr>\n",
              "    <tr>\n",
              "      <th>Has Credit Card</th>\n",
              "      <th></th>\n",
              "    </tr>\n",
              "  </thead>\n",
              "  <tbody>\n",
              "    <tr>\n",
              "      <th>1</th>\n",
              "      <td>7055</td>\n",
              "    </tr>\n",
              "    <tr>\n",
              "      <th>0</th>\n",
              "      <td>2945</td>\n",
              "    </tr>\n",
              "  </tbody>\n",
              "</table>\n",
              "</div><br><label><b>dtype:</b> int64</label>"
            ]
          },
          "metadata": {},
          "execution_count": 14
        }
      ]
    },
    {
      "cell_type": "code",
      "source": [
        "df['Is Active Member'].value_counts()"
      ],
      "metadata": {
        "colab": {
          "base_uri": "https://localhost:8080/",
          "height": 178
        },
        "id": "xcZzMLGAk5Hy",
        "outputId": "8ee2fa97-af89-4bc6-fb8a-40e0bd86b18e"
      },
      "execution_count": null,
      "outputs": [
        {
          "output_type": "execute_result",
          "data": {
            "text/plain": [
              "Is Active Member\n",
              "1    5151\n",
              "0    4849\n",
              "Name: count, dtype: int64"
            ],
            "text/html": [
              "<div>\n",
              "<style scoped>\n",
              "    .dataframe tbody tr th:only-of-type {\n",
              "        vertical-align: middle;\n",
              "    }\n",
              "\n",
              "    .dataframe tbody tr th {\n",
              "        vertical-align: top;\n",
              "    }\n",
              "\n",
              "    .dataframe thead th {\n",
              "        text-align: right;\n",
              "    }\n",
              "</style>\n",
              "<table border=\"1\" class=\"dataframe\">\n",
              "  <thead>\n",
              "    <tr style=\"text-align: right;\">\n",
              "      <th></th>\n",
              "      <th>count</th>\n",
              "    </tr>\n",
              "    <tr>\n",
              "      <th>Is Active Member</th>\n",
              "      <th></th>\n",
              "    </tr>\n",
              "  </thead>\n",
              "  <tbody>\n",
              "    <tr>\n",
              "      <th>1</th>\n",
              "      <td>5151</td>\n",
              "    </tr>\n",
              "    <tr>\n",
              "      <th>0</th>\n",
              "      <td>4849</td>\n",
              "    </tr>\n",
              "  </tbody>\n",
              "</table>\n",
              "</div><br><label><b>dtype:</b> int64</label>"
            ]
          },
          "metadata": {},
          "execution_count": 15
        }
      ]
    },
    {
      "cell_type": "code",
      "source": [
        "df.loc[(df['Balance']==0), 'Churn'].value_counts()"
      ],
      "metadata": {
        "colab": {
          "base_uri": "https://localhost:8080/",
          "height": 178
        },
        "id": "2g3yFsdhk8vi",
        "outputId": "71a764eb-9d6e-4b43-a38e-b5dda3ad5d9d"
      },
      "execution_count": null,
      "outputs": [
        {
          "output_type": "execute_result",
          "data": {
            "text/plain": [
              "Churn\n",
              "0    3117\n",
              "1     500\n",
              "Name: count, dtype: int64"
            ],
            "text/html": [
              "<div>\n",
              "<style scoped>\n",
              "    .dataframe tbody tr th:only-of-type {\n",
              "        vertical-align: middle;\n",
              "    }\n",
              "\n",
              "    .dataframe tbody tr th {\n",
              "        vertical-align: top;\n",
              "    }\n",
              "\n",
              "    .dataframe thead th {\n",
              "        text-align: right;\n",
              "    }\n",
              "</style>\n",
              "<table border=\"1\" class=\"dataframe\">\n",
              "  <thead>\n",
              "    <tr style=\"text-align: right;\">\n",
              "      <th></th>\n",
              "      <th>count</th>\n",
              "    </tr>\n",
              "    <tr>\n",
              "      <th>Churn</th>\n",
              "      <th></th>\n",
              "    </tr>\n",
              "  </thead>\n",
              "  <tbody>\n",
              "    <tr>\n",
              "      <th>0</th>\n",
              "      <td>3117</td>\n",
              "    </tr>\n",
              "    <tr>\n",
              "      <th>1</th>\n",
              "      <td>500</td>\n",
              "    </tr>\n",
              "  </tbody>\n",
              "</table>\n",
              "</div><br><label><b>dtype:</b> int64</label>"
            ]
          },
          "metadata": {},
          "execution_count": 16
        }
      ]
    },
    {
      "cell_type": "code",
      "source": [
        "df['Zero Balance']=np.where(df['Balance']>0, 1, 0)"
      ],
      "metadata": {
        "id": "79Dzj2_ClSG-"
      },
      "execution_count": null,
      "outputs": []
    },
    {
      "cell_type": "code",
      "source": [
        "df['Zero Balance'].hist()"
      ],
      "metadata": {
        "colab": {
          "base_uri": "https://localhost:8080/",
          "height": 447
        },
        "id": "rdFyf0xdmEFm",
        "outputId": "c91c24e0-0b4f-42cf-a70d-12afee226b38"
      },
      "execution_count": null,
      "outputs": [
        {
          "output_type": "execute_result",
          "data": {
            "text/plain": [
              "<Axes: >"
            ]
          },
          "metadata": {},
          "execution_count": 18
        },
        {
          "output_type": "display_data",
          "data": {
            "text/plain": [
              "<Figure size 640x480 with 1 Axes>"
            ],
            "image/png": "[encoded data removed]"
          },
          "metadata": {}
        }
      ]
    },
    {
      "cell_type": "code",
      "source": [
        "df.groupby(['Churn', 'Geography']).count()"
      ],
      "metadata": {
        "colab": {
          "base_uri": "https://localhost:8080/",
          "height": 323
        },
        "id": "yjlNdKbsmIvG",
        "outputId": "28aca8c3-d567-4d7d-ce6e-67a4d42cc936"
      },
      "execution_count": null,
      "outputs": [
        {
          "output_type": "execute_result",
          "data": {
            "text/plain": [
              "                 Surname  CreditScore  Gender   Age  Tenure  Balance  \\\n",
              "Churn Geography                                                        \n",
              "0     0             2064         2064    2064  2064    2064     2064   \n",
              "      1             1695         1695    1695  1695    1695     1695   \n",
              "      2             4204         4204    4204  4204    4204     4204   \n",
              "1     0              413          413     413   413     413      413   \n",
              "      1              814          814     814   814     814      814   \n",
              "      2              810          810     810   810     810      810   \n",
              "\n",
              "                 Num Of Products  Has Credit Card  Is Active Member  \\\n",
              "Churn Geography                                                       \n",
              "0     0                     2064             2064              2064   \n",
              "      1                     1695             1695              1695   \n",
              "      2                     4204             4204              4204   \n",
              "1     0                      413              413               413   \n",
              "      1                      814              814               814   \n",
              "      2                      810              810               810   \n",
              "\n",
              "                 Estimated Salary  Zero Balance  \n",
              "Churn Geography                                  \n",
              "0     0                      2064          2064  \n",
              "      1                      1695          1695  \n",
              "      2                      4204          4204  \n",
              "1     0                       413           413  \n",
              "      1                       814           814  \n",
              "      2                       810           810  "
            ],
            "text/html": [
              "\n",
              "  <div id=\"df-fbac6520-2df6-4023-9002-67a3f7ea5e8a\" class=\"colab-df-container\">\n",
              "    <div>\n",
              "<style scoped>\n",
              "    .dataframe tbody tr th:only-of-type {\n",
              "        vertical-align: middle;\n",
              "    }\n",
              "\n",
              "    .dataframe tbody tr th {\n",
              "        vertical-align: top;\n",
              "    }\n",
              "\n",
              "    .dataframe thead th {\n",
              "        text-align: right;\n",
              "    }\n",
              "</style>\n",
              "<table border=\"1\" class=\"dataframe\">\n",
              "  <thead>\n",
              "    <tr style=\"text-align: right;\">\n",
              "      <th></th>\n",
              "      <th></th>\n",
              "      <th>Surname</th>\n",
              "      <th>CreditScore</th>\n",
              "      <th>Gender</th>\n",
              "      <th>Age</th>\n",
              "      <th>Tenure</th>\n",
              "      <th>Balance</th>\n",
              "      <th>Num Of Products</th>\n",
              "      <th>Has Credit Card</th>\n",
              "      <th>Is Active Member</th>\n",
              "      <th>Estimated Salary</th>\n",
              "      <th>Zero Balance</th>\n",
              "    </tr>\n",
              "    <tr>\n",
              "      <th>Churn</th>\n",
              "      <th>Geography</th>\n",
              "      <th></th>\n",
              "      <th></th>\n",
              "      <th></th>\n",
              "      <th></th>\n",
              "      <th></th>\n",
              "      <th></th>\n",
              "      <th></th>\n",
              "      <th></th>\n",
              "      <th></th>\n",
              "      <th></th>\n",
              "      <th></th>\n",
              "    </tr>\n",
              "  </thead>\n",
              "  <tbody>\n",
              "    <tr>\n",
              "      <th rowspan=\"3\" valign=\"top\">0</th>\n",
              "      <th>0</th>\n",
              "      <td>2064</td>\n",
              "      <td>2064</td>\n",
              "      <td>2064</td>\n",
              "      <td>2064</td>\n",
              "      <td>2064</td>\n",
              "      <td>2064</td>\n",
              "      <td>2064</td>\n",
              "      <td>2064</td>\n",
              "      <td>2064</td>\n",
              "      <td>2064</td>\n",
              "      <td>2064</td>\n",
              "    </tr>\n",
              "    <tr>\n",
              "      <th>1</th>\n",
              "      <td>1695</td>\n",
              "      <td>1695</td>\n",
              "      <td>1695</td>\n",
              "      <td>1695</td>\n",
              "      <td>1695</td>\n",
              "      <td>1695</td>\n",
              "      <td>1695</td>\n",
              "      <td>1695</td>\n",
              "      <td>1695</td>\n",
              "      <td>1695</td>\n",
              "      <td>1695</td>\n",
              "    </tr>\n",
              "    <tr>\n",
              "      <th>2</th>\n",
              "      <td>4204</td>\n",
              "      <td>4204</td>\n",
              "      <td>4204</td>\n",
              "      <td>4204</td>\n",
              "      <td>4204</td>\n",
              "      <td>4204</td>\n",
              "      <td>4204</td>\n",
              "      <td>4204</td>\n",
              "      <td>4204</td>\n",
              "      <td>4204</td>\n",
              "      <td>4204</td>\n",
              "    </tr>\n",
              "    <tr>\n",
              "      <th rowspan=\"3\" valign=\"top\">1</th>\n",
              "      <th>0</th>\n",
              "      <td>413</td>\n",
              "      <td>413</td>\n",
              "      <td>413</td>\n",
              "      <td>413</td>\n",
              "      <td>413</td>\n",
              "      <td>413</td>\n",
              "      <td>413</td>\n",
              "      <td>413</td>\n",
              "      <td>413</td>\n",
              "      <td>413</td>\n",
              "      <td>413</td>\n",
              "    </tr>\n",
              "    <tr>\n",
              "      <th>1</th>\n",
              "      <td>814</td>\n",
              "      <td>814</td>\n",
              "      <td>814</td>\n",
              "      <td>814</td>\n",
              "      <td>814</td>\n",
              "      <td>814</td>\n",
              "      <td>814</td>\n",
              "      <td>814</td>\n",
              "      <td>814</td>\n",
              "      <td>814</td>\n",
              "      <td>814</td>\n",
              "    </tr>\n",
              "    <tr>\n",
              "      <th>2</th>\n",
              "      <td>810</td>\n",
              "      <td>810</td>\n",
              "      <td>810</td>\n",
              "      <td>810</td>\n",
              "      <td>810</td>\n",
              "      <td>810</td>\n",
              "      <td>810</td>\n",
              "      <td>810</td>\n",
              "      <td>810</td>\n",
              "      <td>810</td>\n",
              "      <td>810</td>\n",
              "    </tr>\n",
              "  </tbody>\n",
              "</table>\n",
              "</div>\n",
              "    <div class=\"colab-df-buttons\">\n",
              "\n",
              "  <div class=\"colab-df-container\">\n",
              "    <button class=\"colab-df-convert\" onclick=\"convertToInteractive('df-fbac6520-2df6-4023-9002-67a3f7ea5e8a')\"\n",
              "            title=\"Convert this dataframe to an interactive table.\"\n",
              "            style=\"display:none;\">\n",
              "\n",
              "  <svg xmlns=\"http://www.w3.org/2000/svg\" height=\"24px\" viewBox=\"0 -960 960 960\">\n",
              "    <path d=\"M120-120v-720h720v720H120Zm60-500h600v-160H180v160Zm220 220h160v-160H400v160Zm0 220h160v-160H400v160ZM180-400h160v-160H180v160Zm440 0h160v-160H620v160ZM180-180h160v-160H180v160Zm440 0h160v-160H620v160Z\"/>\n",
              "  </svg>\n",
              "    </button>\n",
              "\n",
              "  <style>\n",
              "    .colab-df-container {\n",
              "      display:flex;\n",
              "      gap: 12px;\n",
              "    }\n",
              "\n",
              "    .colab-df-convert {\n",
              "      background-color: #E8F0FE;\n",
              "      border: none;\n",
              "      border-radius: 50%;\n",
              "      cursor: pointer;\n",
              "      display: none;\n",
              "      fill: #1967D2;\n",
              "      height: 32px;\n",
              "      padding: 0 0 0 0;\n",
              "      width: 32px;\n",
              "    }\n",
              "\n",
              "    .colab-df-convert:hover {\n",
              "      background-color: #E2EBFA;\n",
              "      box-shadow: 0px 1px 2px rgba(60, 64, 67, 0.3), 0px 1px 3px 1px rgba(60, 64, 67, 0.15);\n",
              "      fill: #174EA6;\n",
              "    }\n",
              "\n",
              "    .colab-df-buttons div {\n",
              "      margin-bottom: 4px;\n",
              "    }\n",
              "\n",
              "    [theme=dark] .colab-df-convert {\n",
              "      background-color: #3B4455;\n",
              "      fill: #D2E3FC;\n",
              "    }\n",
              "\n",
              "    [theme=dark] .colab-df-convert:hover {\n",
              "      background-color: #434B5C;\n",
              "      box-shadow: 0px 1px 3px 1px rgba(0, 0, 0, 0.15);\n",
              "      filter: drop-shadow(0px 1px 2px rgba(0, 0, 0, 0.3));\n",
              "      fill: #FFFFFF;\n",
              "    }\n",
              "  </style>\n",
              "\n",
              "    <script>\n",
              "      const buttonEl =\n",
              "        document.querySelector('#df-fbac6520-2df6-4023-9002-67a3f7ea5e8a button.colab-df-convert');\n",
              "      buttonEl.style.display =\n",
              "        google.colab.kernel.accessAllowed ? 'block' : 'none';\n",
              "\n",
              "      async function convertToInteractive(key) {\n",
              "        const element = document.querySelector('#df-fbac6520-2df6-4023-9002-67a3f7ea5e8a');\n",
              "        const dataTable =\n",
              "          await google.colab.kernel.invokeFunction('convertToInteractive',\n",
              "                                                    [key], {});\n",
              "        if (!dataTable) return;\n",
              "\n",
              "        const docLinkHtml = 'Like what you see? Visit the ' +\n",
              "          '<a target=\"_blank\" href=https://colab.research.google.com/notebooks/data_table.ipynb>data table notebook</a>'\n",
              "          + ' to learn more about interactive tables.';\n",
              "        element.innerHTML = '';\n",
              "        dataTable['output_type'] = 'display_data';\n",
              "        await google.colab.output.renderOutput(dataTable, element);\n",
              "        const docLink = document.createElement('div');\n",
              "        docLink.innerHTML = docLinkHtml;\n",
              "        element.appendChild(docLink);\n",
              "      }\n",
              "    </script>\n",
              "  </div>\n",
              "\n",
              "\n",
              "<div id=\"df-576c53e4-ebfe-431b-af1e-575ad8ceff2e\">\n",
              "  <button class=\"colab-df-quickchart\" onclick=\"quickchart('df-576c53e4-ebfe-431b-af1e-575ad8ceff2e')\"\n",
              "            title=\"Suggest charts\"\n",
              "            style=\"display:none;\">\n",
              "\n",
              "<svg xmlns=\"http://www.w3.org/2000/svg\" height=\"24px\"viewBox=\"0 0 24 24\"\n",
              "     width=\"24px\">\n",
              "    <g>\n",
              "        <path d=\"M19 3H5c-1.1 0-2 .9-2 2v14c0 1.1.9 2 2 2h14c1.1 0 2-.9 2-2V5c0-1.1-.9-2-2-2zM9 17H7v-7h2v7zm4 0h-2V7h2v10zm4 0h-2v-4h2v4z\"/>\n",
              "    </g>\n",
              "</svg>\n",
              "  </button>\n",
              "\n",
              "<style>\n",
              "  .colab-df-quickchart {\n",
              "      --bg-color: #E8F0FE;\n",
              "      --fill-color: #1967D2;\n",
              "      --hover-bg-color: #E2EBFA;\n",
              "      --hover-fill-color: #174EA6;\n",
              "      --disabled-fill-color: #AAA;\n",
              "      --disabled-bg-color: #DDD;\n",
              "  }\n",
              "\n",
              "  [theme=dark] .colab-df-quickchart {\n",
              "      --bg-color: #3B4455;\n",
              "      --fill-color: #D2E3FC;\n",
              "      --hover-bg-color: #434B5C;\n",
              "      --hover-fill-color: #FFFFFF;\n",
              "      --disabled-bg-color: #3B4455;\n",
              "      --disabled-fill-color: #666;\n",
              "  }\n",
              "\n",
              "  .colab-df-quickchart {\n",
              "    background-color: var(--bg-color);\n",
              "    border: none;\n",
              "    border-radius: 50%;\n",
              "    cursor: pointer;\n",
              "    display: none;\n",
              "    fill: var(--fill-color);\n",
              "    height: 32px;\n",
              "    padding: 0;\n",
              "    width: 32px;\n",
              "  }\n",
              "\n",
              "  .colab-df-quickchart:hover {\n",
              "    background-color: var(--hover-bg-color);\n",
              "    box-shadow: 0 1px 2px rgba(60, 64, 67, 0.3), 0 1px 3px 1px rgba(60, 64, 67, 0.15);\n",
              "    fill: var(--button-hover-fill-color);\n",
              "  }\n",
              "\n",
              "  .colab-df-quickchart-complete:disabled,\n",
              "  .colab-df-quickchart-complete:disabled:hover {\n",
              "    background-color: var(--disabled-bg-color);\n",
              "    fill: var(--disabled-fill-color);\n",
              "    box-shadow: none;\n",
              "  }\n",
              "\n",
              "  .colab-df-spinner {\n",
              "    border: 2px solid var(--fill-color);\n",
              "    border-color: transparent;\n",
              "    border-bottom-color: var(--fill-color);\n",
              "    animation:\n",
              "      spin 1s steps(1) infinite;\n",
              "  }\n",
              "\n",
              "  @keyframes spin {\n",
              "    0% {\n",
              "      border-color: transparent;\n",
              "      border-bottom-color: var(--fill-color);\n",
              "      border-left-color: var(--fill-color);\n",
              "    }\n",
              "    20% {\n",
              "      border-color: transparent;\n",
              "      border-left-color: var(--fill-color);\n",
              "      border-top-color: var(--fill-color);\n",
              "    }\n",
              "    30% {\n",
              "      border-color: transparent;\n",
              "      border-left-color: var(--fill-color);\n",
              "      border-top-color: var(--fill-color);\n",
              "      border-right-color: var(--fill-color);\n",
              "    }\n",
              "    40% {\n",
              "      border-color: transparent;\n",
              "      border-right-color: var(--fill-color);\n",
              "      border-top-color: var(--fill-color);\n",
              "    }\n",
              "    60% {\n",
              "      border-color: transparent;\n",
              "      border-right-color: var(--fill-color);\n",
              "    }\n",
              "    80% {\n",
              "      border-color: transparent;\n",
              "      border-right-color: var(--fill-color);\n",
              "      border-bottom-color: var(--fill-color);\n",
              "    }\n",
              "    90% {\n",
              "      border-color: transparent;\n",
              "      border-bottom-color: var(--fill-color);\n",
              "    }\n",
              "  }\n",
              "</style>\n",
              "\n",
              "  <script>\n",
              "    async function quickchart(key) {\n",
              "      const quickchartButtonEl =\n",
              "        document.querySelector('#' + key + ' button');\n",
              "      quickchartButtonEl.disabled = true;  // To prevent multiple clicks.\n",
              "      quickchartButtonEl.classList.add('colab-df-spinner');\n",
              "      try {\n",
              "        const charts = await google.colab.kernel.invokeFunction(\n",
              "            'suggestCharts', [key], {});\n",
              "      } catch (error) {\n",
              "        console.error('Error during call to suggestCharts:', error);\n",
              "      }\n",
              "      quickchartButtonEl.classList.remove('colab-df-spinner');\n",
              "      quickchartButtonEl.classList.add('colab-df-quickchart-complete');\n",
              "    }\n",
              "    (() => {\n",
              "      let quickchartButtonEl =\n",
              "        document.querySelector('#df-576c53e4-ebfe-431b-af1e-575ad8ceff2e button');\n",
              "      quickchartButtonEl.style.display =\n",
              "        google.colab.kernel.accessAllowed ? 'block' : 'none';\n",
              "    })();\n",
              "  </script>\n",
              "</div>\n",
              "\n",
              "    </div>\n",
              "  </div>\n"
            ],
            "application/vnd.google.colaboratory.intrinsic+json": {
              "type": "dataframe",
              "summary": "{\n  \"name\": \"df\",\n  \"rows\": 6,\n  \"fields\": [\n    {\n      \"column\": \"Surname\",\n      \"properties\": {\n        \"dtype\": \"number\",\n        \"std\": 1387,\n        \"min\": 413,\n        \"max\": 4204,\n        \"num_unique_values\": 6,\n        \"samples\": [\n          2064,\n          1695,\n          810\n        ],\n        \"semantic_type\": \"\",\n        \"description\": \"\"\n      }\n    },\n    {\n      \"column\": \"CreditScore\",\n      \"properties\": {\n        \"dtype\": \"number\",\n        \"std\": 1387,\n        \"min\": 413,\n        \"max\": 4204,\n        \"num_unique_values\": 6,\n        \"samples\": [\n          2064,\n          1695,\n          810\n        ],\n        \"semantic_type\": \"\",\n        \"description\": \"\"\n      }\n    },\n    {\n      \"column\": \"Gender\",\n      \"properties\": {\n        \"dtype\": \"number\",\n        \"std\": 1387,\n        \"min\": 413,\n        \"max\": 4204,\n        \"num_unique_values\": 6,\n        \"samples\": [\n          2064,\n          1695,\n          810\n        ],\n        \"semantic_type\": \"\",\n        \"description\": \"\"\n      }\n    },\n    {\n      \"column\": \"Age\",\n      \"properties\": {\n        \"dtype\": \"number\",\n        \"std\": 1387,\n        \"min\": 413,\n        \"max\": 4204,\n        \"num_unique_values\": 6,\n        \"samples\": [\n          2064,\n          1695,\n          810\n        ],\n        \"semantic_type\": \"\",\n        \"description\": \"\"\n      }\n    },\n    {\n      \"column\": \"Tenure\",\n      \"properties\": {\n        \"dtype\": \"number\",\n        \"std\": 1387,\n        \"min\": 413,\n        \"max\": 4204,\n        \"num_unique_values\": 6,\n        \"samples\": [\n          2064,\n          1695,\n          810\n        ],\n        \"semantic_type\": \"\",\n        \"description\": \"\"\n      }\n    },\n    {\n      \"column\": \"Balance\",\n      \"properties\": {\n        \"dtype\": \"number\",\n        \"std\": 1387,\n        \"min\": 413,\n        \"max\": 4204,\n        \"num_unique_values\": 6,\n        \"samples\": [\n          2064,\n          1695,\n          810\n        ],\n        \"semantic_type\": \"\",\n        \"description\": \"\"\n      }\n    },\n    {\n      \"column\": \"Num Of Products\",\n      \"properties\": {\n        \"dtype\": \"number\",\n        \"std\": 1387,\n        \"min\": 413,\n        \"max\": 4204,\n        \"num_unique_values\": 6,\n        \"samples\": [\n          2064,\n          1695,\n          810\n        ],\n        \"semantic_type\": \"\",\n        \"description\": \"\"\n      }\n    },\n    {\n      \"column\": \"Has Credit Card\",\n      \"properties\": {\n        \"dtype\": \"number\",\n        \"std\": 1387,\n        \"min\": 413,\n        \"max\": 4204,\n        \"num_unique_values\": 6,\n        \"samples\": [\n          2064,\n          1695,\n          810\n        ],\n        \"semantic_type\": \"\",\n        \"description\": \"\"\n      }\n    },\n    {\n      \"column\": \"Is Active Member\",\n      \"properties\": {\n        \"dtype\": \"number\",\n        \"std\": 1387,\n        \"min\": 413,\n        \"max\": 4204,\n        \"num_unique_values\": 6,\n        \"samples\": [\n          2064,\n          1695,\n          810\n        ],\n        \"semantic_type\": \"\",\n        \"description\": \"\"\n      }\n    },\n    {\n      \"column\": \"Estimated Salary\",\n      \"properties\": {\n        \"dtype\": \"number\",\n        \"std\": 1387,\n        \"min\": 413,\n        \"max\": 4204,\n        \"num_unique_values\": 6,\n        \"samples\": [\n          2064,\n          1695,\n          810\n        ],\n        \"semantic_type\": \"\",\n        \"description\": \"\"\n      }\n    },\n    {\n      \"column\": \"Zero Balance\",\n      \"properties\": {\n        \"dtype\": \"number\",\n        \"std\": 1387,\n        \"min\": 413,\n        \"max\": 4204,\n        \"num_unique_values\": 6,\n        \"samples\": [\n          2064,\n          1695,\n          810\n        ],\n        \"semantic_type\": \"\",\n        \"description\": \"\"\n      }\n    }\n  ]\n}"
            }
          },
          "metadata": {},
          "execution_count": 19
        }
      ]
    },
    {
      "cell_type": "markdown",
      "source": [
        "## Define Label and Features"
      ],
      "metadata": {
        "id": "2rzdOsIvnLak"
      }
    },
    {
      "cell_type": "code",
      "source": [
        "df.columns"
      ],
      "metadata": {
        "colab": {
          "base_uri": "https://localhost:8080/"
        },
        "id": "UELiNmh3mZYq",
        "outputId": "77891b30-50ce-4efb-8e4b-b2b5ed3c0132"
      },
      "execution_count": null,
      "outputs": [
        {
          "output_type": "execute_result",
          "data": {
            "text/plain": [
              "Index(['Surname', 'CreditScore', 'Geography', 'Gender', 'Age', 'Tenure',\n",
              "       'Balance', 'Num Of Products', 'Has Credit Card', 'Is Active Member',\n",
              "       'Estimated Salary', 'Churn', 'Zero Balance'],\n",
              "      dtype='object')"
            ]
          },
          "metadata": {},
          "execution_count": 20
        }
      ]
    },
    {
      "cell_type": "code",
      "source": [
        "X = df.drop(['Churn', 'Surname'], axis=1)"
      ],
      "metadata": {
        "id": "c5Tk16gmqTxc"
      },
      "execution_count": null,
      "outputs": []
    },
    {
      "cell_type": "code",
      "source": [
        "y=df['Churn']"
      ],
      "metadata": {
        "id": "9q_0WNP7qKFV"
      },
      "execution_count": null,
      "outputs": []
    },
    {
      "cell_type": "code",
      "source": [
        "X.shape, y.shape"
      ],
      "metadata": {
        "colab": {
          "base_uri": "https://localhost:8080/"
        },
        "id": "CLzy2aYVqLIl",
        "outputId": "14f5d5ad-b2a7-48e2-faf6-f15837ef68d1"
      },
      "execution_count": null,
      "outputs": [
        {
          "output_type": "execute_result",
          "data": {
            "text/plain": [
              "((10000, 11), (10000,))"
            ]
          },
          "metadata": {},
          "execution_count": 23
        }
      ]
    },
    {
      "cell_type": "markdown",
      "source": [
        "## Handling Imbalance Data"
      ],
      "metadata": {
        "id": "Z8UvPFcU_TG6"
      }
    },
    {
      "cell_type": "code",
      "source": [
        "df['Churn'].value_counts()"
      ],
      "metadata": {
        "id": "7bSHpcg1qlqV",
        "colab": {
          "base_uri": "https://localhost:8080/",
          "height": 178
        },
        "outputId": "8b027377-86fd-4f86-85db-9dca55c0e9de"
      },
      "execution_count": null,
      "outputs": [
        {
          "output_type": "execute_result",
          "data": {
            "text/plain": [
              "Churn\n",
              "0    7963\n",
              "1    2037\n",
              "Name: count, dtype: int64"
            ],
            "text/html": [
              "<div>\n",
              "<style scoped>\n",
              "    .dataframe tbody tr th:only-of-type {\n",
              "        vertical-align: middle;\n",
              "    }\n",
              "\n",
              "    .dataframe tbody tr th {\n",
              "        vertical-align: top;\n",
              "    }\n",
              "\n",
              "    .dataframe thead th {\n",
              "        text-align: right;\n",
              "    }\n",
              "</style>\n",
              "<table border=\"1\" class=\"dataframe\">\n",
              "  <thead>\n",
              "    <tr style=\"text-align: right;\">\n",
              "      <th></th>\n",
              "      <th>count</th>\n",
              "    </tr>\n",
              "    <tr>\n",
              "      <th>Churn</th>\n",
              "      <th></th>\n",
              "    </tr>\n",
              "  </thead>\n",
              "  <tbody>\n",
              "    <tr>\n",
              "      <th>0</th>\n",
              "      <td>7963</td>\n",
              "    </tr>\n",
              "    <tr>\n",
              "      <th>1</th>\n",
              "      <td>2037</td>\n",
              "    </tr>\n",
              "  </tbody>\n",
              "</table>\n",
              "</div><br><label><b>dtype:</b> int64</label>"
            ]
          },
          "metadata": {},
          "execution_count": 24
        }
      ]
    },
    {
      "cell_type": "code",
      "source": [
        "sns.countplot(x = 'Churn', data=df)"
      ],
      "metadata": {
        "colab": {
          "base_uri": "https://localhost:8080/",
          "height": 466
        },
        "id": "AT421sMtCUCJ",
        "outputId": "5d626021-bfec-4b89-c514-6ac8b775fed0"
      },
      "execution_count": null,
      "outputs": [
        {
          "output_type": "execute_result",
          "data": {
            "text/plain": [
              "<Axes: xlabel='Churn', ylabel='count'>"
            ]
          },
          "metadata": {},
          "execution_count": 25
        },
        {
          "output_type": "display_data",
          "data": {
            "text/plain": [
              "<Figure size 640x480 with 1 Axes>"
            ],
            "image/png": "[encoded data removed]"
          },
          "metadata": {}
        }
      ]
    },
    {
      "cell_type": "code",
      "source": [
        "X.shape, y.shape"
      ],
      "metadata": {
        "colab": {
          "base_uri": "https://localhost:8080/"
        },
        "id": "UpTUoCG5Clr6",
        "outputId": "e0933c26-a2eb-435a-c9bb-14c114addd43"
      },
      "execution_count": null,
      "outputs": [
        {
          "output_type": "execute_result",
          "data": {
            "text/plain": [
              "((10000, 11), (10000,))"
            ]
          },
          "metadata": {},
          "execution_count": 26
        }
      ]
    },
    {
      "cell_type": "markdown",
      "source": [
        "## Random Under Sampling"
      ],
      "metadata": {
        "id": "viUz5m2BC2Vb"
      }
    },
    {
      "cell_type": "code",
      "source": [
        "from imblearn.under_sampling import RandomUnderSampler"
      ],
      "metadata": {
        "id": "_udnb2FvCyy5"
      },
      "execution_count": null,
      "outputs": []
    },
    {
      "cell_type": "code",
      "source": [
        "rus = RandomUnderSampler(random_state=2529)"
      ],
      "metadata": {
        "id": "TU-SMn7RDDjT"
      },
      "execution_count": null,
      "outputs": []
    },
    {
      "cell_type": "code",
      "source": [
        "X_rus, y_rus = rus.fit_resample(X, y)"
      ],
      "metadata": {
        "id": "-0ff8GwpDIgC"
      },
      "execution_count": null,
      "outputs": []
    },
    {
      "cell_type": "code",
      "source": [
        "X_rus.shape, y_rus.shape, X.shape, y.shape"
      ],
      "metadata": {
        "colab": {
          "base_uri": "https://localhost:8080/"
        },
        "id": "HLxwF47kDKrZ",
        "outputId": "6a4aeda7-2646-410a-d0c6-e26f70519755"
      },
      "execution_count": null,
      "outputs": [
        {
          "output_type": "execute_result",
          "data": {
            "text/plain": [
              "((4074, 11), (4074,), (10000, 11), (10000,))"
            ]
          },
          "metadata": {},
          "execution_count": 30
        }
      ]
    },
    {
      "cell_type": "code",
      "source": [
        "y.value_counts()"
      ],
      "metadata": {
        "colab": {
          "base_uri": "https://localhost:8080/",
          "height": 178
        },
        "id": "ML3GTQslDS93",
        "outputId": "0eb396c4-d1b6-4ea0-dc9c-d2d11ee64d44"
      },
      "execution_count": null,
      "outputs": [
        {
          "output_type": "execute_result",
          "data": {
            "text/plain": [
              "Churn\n",
              "0    7963\n",
              "1    2037\n",
              "Name: count, dtype: int64"
            ],
            "text/html": [
              "<div>\n",
              "<style scoped>\n",
              "    .dataframe tbody tr th:only-of-type {\n",
              "        vertical-align: middle;\n",
              "    }\n",
              "\n",
              "    .dataframe tbody tr th {\n",
              "        vertical-align: top;\n",
              "    }\n",
              "\n",
              "    .dataframe thead th {\n",
              "        text-align: right;\n",
              "    }\n",
              "</style>\n",
              "<table border=\"1\" class=\"dataframe\">\n",
              "  <thead>\n",
              "    <tr style=\"text-align: right;\">\n",
              "      <th></th>\n",
              "      <th>count</th>\n",
              "    </tr>\n",
              "    <tr>\n",
              "      <th>Churn</th>\n",
              "      <th></th>\n",
              "    </tr>\n",
              "  </thead>\n",
              "  <tbody>\n",
              "    <tr>\n",
              "      <th>0</th>\n",
              "      <td>7963</td>\n",
              "    </tr>\n",
              "    <tr>\n",
              "      <th>1</th>\n",
              "      <td>2037</td>\n",
              "    </tr>\n",
              "  </tbody>\n",
              "</table>\n",
              "</div><br><label><b>dtype:</b> int64</label>"
            ]
          },
          "metadata": {},
          "execution_count": 31
        }
      ]
    },
    {
      "cell_type": "code",
      "source": [
        "y_rus.value_counts()"
      ],
      "metadata": {
        "colab": {
          "base_uri": "https://localhost:8080/",
          "height": 178
        },
        "id": "DXd9Pci0DlB3",
        "outputId": "ee202a37-38da-4353-953e-5095425121ae"
      },
      "execution_count": null,
      "outputs": [
        {
          "output_type": "execute_result",
          "data": {
            "text/plain": [
              "Churn\n",
              "0    2037\n",
              "1    2037\n",
              "Name: count, dtype: int64"
            ],
            "text/html": [
              "<div>\n",
              "<style scoped>\n",
              "    .dataframe tbody tr th:only-of-type {\n",
              "        vertical-align: middle;\n",
              "    }\n",
              "\n",
              "    .dataframe tbody tr th {\n",
              "        vertical-align: top;\n",
              "    }\n",
              "\n",
              "    .dataframe thead th {\n",
              "        text-align: right;\n",
              "    }\n",
              "</style>\n",
              "<table border=\"1\" class=\"dataframe\">\n",
              "  <thead>\n",
              "    <tr style=\"text-align: right;\">\n",
              "      <th></th>\n",
              "      <th>count</th>\n",
              "    </tr>\n",
              "    <tr>\n",
              "      <th>Churn</th>\n",
              "      <th></th>\n",
              "    </tr>\n",
              "  </thead>\n",
              "  <tbody>\n",
              "    <tr>\n",
              "      <th>0</th>\n",
              "      <td>2037</td>\n",
              "    </tr>\n",
              "    <tr>\n",
              "      <th>1</th>\n",
              "      <td>2037</td>\n",
              "    </tr>\n",
              "  </tbody>\n",
              "</table>\n",
              "</div><br><label><b>dtype:</b> int64</label>"
            ]
          },
          "metadata": {},
          "execution_count": 32
        }
      ]
    },
    {
      "cell_type": "code",
      "source": [
        "y_rus.plot(kind='hist')"
      ],
      "metadata": {
        "colab": {
          "base_uri": "https://localhost:8080/",
          "height": 447
        },
        "id": "N5oMBGs-DnJi",
        "outputId": "c11f3ff6-fc5c-47c2-87f7-1d3717b8dd7b"
      },
      "execution_count": null,
      "outputs": [
        {
          "output_type": "execute_result",
          "data": {
            "text/plain": [
              "<Axes: ylabel='Frequency'>"
            ]
          },
          "metadata": {},
          "execution_count": 33
        },
        {
          "output_type": "display_data",
          "data": {
            "text/plain": [
              "<Figure size 640x480 with 1 Axes>"
            ],
            "image/png": "[encoded data removed]"
          },
          "metadata": {}
        }
      ]
    },
    {
      "cell_type": "markdown",
      "source": [
        "## Random Over Sampling"
      ],
      "metadata": {
        "id": "-yVyaOkWIRm5"
      }
    },
    {
      "cell_type": "code",
      "source": [
        "from imblearn.over_sampling import RandomOverSampler"
      ],
      "metadata": {
        "id": "Im8K8I5iII7s"
      },
      "execution_count": null,
      "outputs": []
    },
    {
      "cell_type": "code",
      "source": [
        "ros = RandomOverSampler(random_state=2529)"
      ],
      "metadata": {
        "id": "fU44OSJ9IYtj"
      },
      "execution_count": null,
      "outputs": []
    },
    {
      "cell_type": "code",
      "source": [
        "X_ros, y_ros = ros.fit_resample(X, y)"
      ],
      "metadata": {
        "id": "FunOHYW_Ibjd"
      },
      "execution_count": null,
      "outputs": []
    },
    {
      "cell_type": "code",
      "source": [
        "X_ros.shape, y_ros.shape, X.shape, y.shape"
      ],
      "metadata": {
        "colab": {
          "base_uri": "https://localhost:8080/"
        },
        "id": "SASQS0QeIiHt",
        "outputId": "02a246e9-5efc-4d56-ee3b-ca03144c4de5"
      },
      "execution_count": null,
      "outputs": [
        {
          "output_type": "execute_result",
          "data": {
            "text/plain": [
              "((15926, 11), (15926,), (10000, 11), (10000,))"
            ]
          },
          "metadata": {},
          "execution_count": 37
        }
      ]
    },
    {
      "cell_type": "code",
      "source": [
        "y.value_counts()"
      ],
      "metadata": {
        "colab": {
          "base_uri": "https://localhost:8080/",
          "height": 178
        },
        "id": "YUAQKmPTIk32",
        "outputId": "3d619e75-c377-4e26-ab6e-6fec8f4c4b75"
      },
      "execution_count": null,
      "outputs": [
        {
          "output_type": "execute_result",
          "data": {
            "text/plain": [
              "Churn\n",
              "0    7963\n",
              "1    2037\n",
              "Name: count, dtype: int64"
            ],
            "text/html": [
              "<div>\n",
              "<style scoped>\n",
              "    .dataframe tbody tr th:only-of-type {\n",
              "        vertical-align: middle;\n",
              "    }\n",
              "\n",
              "    .dataframe tbody tr th {\n",
              "        vertical-align: top;\n",
              "    }\n",
              "\n",
              "    .dataframe thead th {\n",
              "        text-align: right;\n",
              "    }\n",
              "</style>\n",
              "<table border=\"1\" class=\"dataframe\">\n",
              "  <thead>\n",
              "    <tr style=\"text-align: right;\">\n",
              "      <th></th>\n",
              "      <th>count</th>\n",
              "    </tr>\n",
              "    <tr>\n",
              "      <th>Churn</th>\n",
              "      <th></th>\n",
              "    </tr>\n",
              "  </thead>\n",
              "  <tbody>\n",
              "    <tr>\n",
              "      <th>0</th>\n",
              "      <td>7963</td>\n",
              "    </tr>\n",
              "    <tr>\n",
              "      <th>1</th>\n",
              "      <td>2037</td>\n",
              "    </tr>\n",
              "  </tbody>\n",
              "</table>\n",
              "</div><br><label><b>dtype:</b> int64</label>"
            ]
          },
          "metadata": {},
          "execution_count": 38
        }
      ]
    },
    {
      "cell_type": "code",
      "source": [
        "y_ros.value_counts()"
      ],
      "metadata": {
        "colab": {
          "base_uri": "https://localhost:8080/",
          "height": 178
        },
        "id": "jS4ZGRFDItn7",
        "outputId": "e30baaa4-af3e-40f7-eb68-e7a4b9a41598"
      },
      "execution_count": null,
      "outputs": [
        {
          "output_type": "execute_result",
          "data": {
            "text/plain": [
              "Churn\n",
              "1    7963\n",
              "0    7963\n",
              "Name: count, dtype: int64"
            ],
            "text/html": [
              "<div>\n",
              "<style scoped>\n",
              "    .dataframe tbody tr th:only-of-type {\n",
              "        vertical-align: middle;\n",
              "    }\n",
              "\n",
              "    .dataframe tbody tr th {\n",
              "        vertical-align: top;\n",
              "    }\n",
              "\n",
              "    .dataframe thead th {\n",
              "        text-align: right;\n",
              "    }\n",
              "</style>\n",
              "<table border=\"1\" class=\"dataframe\">\n",
              "  <thead>\n",
              "    <tr style=\"text-align: right;\">\n",
              "      <th></th>\n",
              "      <th>count</th>\n",
              "    </tr>\n",
              "    <tr>\n",
              "      <th>Churn</th>\n",
              "      <th></th>\n",
              "    </tr>\n",
              "  </thead>\n",
              "  <tbody>\n",
              "    <tr>\n",
              "      <th>1</th>\n",
              "      <td>7963</td>\n",
              "    </tr>\n",
              "    <tr>\n",
              "      <th>0</th>\n",
              "      <td>7963</td>\n",
              "    </tr>\n",
              "  </tbody>\n",
              "</table>\n",
              "</div><br><label><b>dtype:</b> int64</label>"
            ]
          },
          "metadata": {},
          "execution_count": 39
        }
      ]
    },
    {
      "cell_type": "code",
      "source": [
        "y_ros.plot(kind='hist')"
      ],
      "metadata": {
        "colab": {
          "base_uri": "https://localhost:8080/",
          "height": 447
        },
        "id": "ik1OWauhIwaR",
        "outputId": "1e1e63e5-6ab4-463a-fe5b-2addf34d5841"
      },
      "execution_count": null,
      "outputs": [
        {
          "output_type": "execute_result",
          "data": {
            "text/plain": [
              "<Axes: ylabel='Frequency'>"
            ]
          },
          "metadata": {},
          "execution_count": 40
        },
        {
          "output_type": "display_data",
          "data": {
            "text/plain": [
              "<Figure size 640x480 with 1 Axes>"
            ],
            "image/png": "[encoded data removed]"
          },
          "metadata": {}
        }
      ]
    },
    {
      "cell_type": "markdown",
      "source": [
        "## Train Test Split"
      ],
      "metadata": {
        "id": "arKUT2oJJEBC"
      }
    },
    {
      "cell_type": "code",
      "source": [
        "from sklearn.model_selection import train_test_split"
      ],
      "metadata": {
        "id": "nJL0Fb27I0Nh"
      },
      "execution_count": null,
      "outputs": []
    },
    {
      "cell_type": "markdown",
      "source": [
        "### Split Original Data"
      ],
      "metadata": {
        "id": "KZLOfC11JLLT"
      }
    },
    {
      "cell_type": "code",
      "source": [
        "X_train, X_test, y_train, y_test = train_test_split(X, y, test_size=0.3, random_state=2529)"
      ],
      "metadata": {
        "id": "-p4RA3RrJKgv"
      },
      "execution_count": null,
      "outputs": []
    },
    {
      "cell_type": "markdown",
      "source": [
        "### Split Random Under Sample Data"
      ],
      "metadata": {
        "id": "0MMKlpsHJbW_"
      }
    },
    {
      "cell_type": "code",
      "source": [
        "X_train_rus, X_test_rus, y_train_rus, y_test_rus = train_test_split(X_rus, y_rus, test_size=0.3, random_state=2529)"
      ],
      "metadata": {
        "id": "0jEbbIdRJaw8"
      },
      "execution_count": null,
      "outputs": []
    },
    {
      "cell_type": "markdown",
      "source": [
        "### Split Random Over Sample Data"
      ],
      "metadata": {
        "id": "nGrda4B9JoX6"
      }
    },
    {
      "cell_type": "code",
      "source": [
        "X_train_ros, X_test_ros, y_train_ros, y_test_ros = train_test_split(X_ros, y_ros, test_size=0.3, random_state=2529)"
      ],
      "metadata": {
        "id": "fp2dj23pJnX_"
      },
      "execution_count": null,
      "outputs": []
    },
    {
      "cell_type": "markdown",
      "source": [
        "## Standardize Features"
      ],
      "metadata": {
        "id": "hRs2IxcOKIXU"
      }
    },
    {
      "cell_type": "code",
      "source": [
        "from sklearn.preprocessing import StandardScaler"
      ],
      "metadata": {
        "id": "O2FJS1puJyyf"
      },
      "execution_count": null,
      "outputs": []
    },
    {
      "cell_type": "code",
      "source": [
        "sc = StandardScaler()"
      ],
      "metadata": {
        "id": "jw4essYfKQc0"
      },
      "execution_count": null,
      "outputs": []
    },
    {
      "cell_type": "markdown",
      "source": [
        "### Standardize Original Data"
      ],
      "metadata": {
        "id": "pdbudYGeKUan"
      }
    },
    {
      "cell_type": "code",
      "source": [
        "X_train[['CreditScore', 'Age', 'Tenure', 'Balance', 'Estimated Salary']] = sc.fit_transform(X_train[['CreditScore', 'Age', 'Tenure', 'Balance', 'Estimated Salary']])"
      ],
      "metadata": {
        "id": "Q3YgpDBiKTIN"
      },
      "execution_count": null,
      "outputs": []
    },
    {
      "cell_type": "code",
      "source": [
        "X_test[['CreditScore', 'Age', 'Tenure', 'Balance', 'Estimated Salary']] = sc.fit_transform(X_test[['CreditScore', 'Age', 'Tenure', 'Balance', 'Estimated Salary']])"
      ],
      "metadata": {
        "id": "gN7vuTKxK0BS"
      },
      "execution_count": null,
      "outputs": []
    },
    {
      "cell_type": "markdown",
      "source": [
        "### Standardize Random Under Sample Data"
      ],
      "metadata": {
        "id": "DGuRKPX9LU3G"
      }
    },
    {
      "cell_type": "code",
      "source": [
        "X_train_rus[['CreditScore', 'Age', 'Tenure', 'Balance', 'Estimated Salary']] = sc.fit_transform(X_train_rus[['CreditScore', 'Age', 'Tenure', 'Balance', 'Estimated Salary']])"
      ],
      "metadata": {
        "id": "gX3bagssLfxC"
      },
      "execution_count": null,
      "outputs": []
    },
    {
      "cell_type": "code",
      "source": [
        "X_test_rus[['CreditScore', 'Age', 'Tenure', 'Balance', 'Estimated Salary']] = sc.fit_transform(X_test_rus[['CreditScore', 'Age', 'Tenure', 'Balance', 'Estimated Salary']])"
      ],
      "metadata": {
        "id": "l3k8zRxJLTgm"
      },
      "execution_count": null,
      "outputs": []
    },
    {
      "cell_type": "markdown",
      "source": [
        "### Standardize Random Over Sample Data"
      ],
      "metadata": {
        "id": "LCQf4OuyLmU-"
      }
    },
    {
      "cell_type": "code",
      "source": [
        "X_train_ros[['CreditScore', 'Age', 'Tenure', 'Balance', 'Estimated Salary']] = sc.fit_transform(X_train_ros[['CreditScore', 'Age', 'Tenure', 'Balance', 'Estimated Salary']])"
      ],
      "metadata": {
        "id": "qG-_SzlULss5"
      },
      "execution_count": null,
      "outputs": []
    },
    {
      "cell_type": "code",
      "source": [
        "X_test_ros[['CreditScore', 'Age', 'Tenure', 'Balance', 'Estimated Salary']] = sc.fit_transform(X_test_ros[['CreditScore', 'Age', 'Tenure', 'Balance', 'Estimated Salary']])"
      ],
      "metadata": {
        "id": "E6WEi11pLy04"
      },
      "execution_count": null,
      "outputs": []
    },
    {
      "cell_type": "markdown",
      "source": [
        "## Support Vector Machine Classifier"
      ],
      "metadata": {
        "id": "T4CbBt0cL9DG"
      }
    },
    {
      "cell_type": "code",
      "source": [
        "from sklearn.svm import SVC"
      ],
      "metadata": {
        "id": "Xvgep0vvL4ad"
      },
      "execution_count": null,
      "outputs": []
    },
    {
      "cell_type": "code",
      "source": [
        "svc = SVC()"
      ],
      "metadata": {
        "id": "HXeq5Sy-MI0U"
      },
      "execution_count": null,
      "outputs": []
    },
    {
      "cell_type": "code",
      "source": [
        "svc.fit(X_train, y_train)"
      ],
      "metadata": {
        "colab": {
          "base_uri": "https://localhost:8080/",
          "height": 80
        },
        "id": "_98cFjakMKv-",
        "outputId": "d8e9a2b0-0414-4980-af95-ea898348b558"
      },
      "execution_count": null,
      "outputs": [
        {
          "output_type": "execute_result",
          "data": {
            "text/plain": [
              "SVC()"
            ],
            "text/html": [
              "<style>#sk-container-id-1 {\n",
              "  /* Definition of color scheme common for light and dark mode */\n",
              "  --sklearn-color-text: black;\n",
              "  --sklearn-color-line: gray;\n",
              "  /* Definition of color scheme for unfitted estimators */\n",
              "  --sklearn-color-unfitted-level-0: #fff5e6;\n",
              "  --sklearn-color-unfitted-level-1: #f6e4d2;\n",
              "  --sklearn-color-unfitted-level-2: #ffe0b3;\n",
              "  --sklearn-color-unfitted-level-3: chocolate;\n",
              "  /* Definition of color scheme for fitted estimators */\n",
              "  --sklearn-color-fitted-level-0: #f0f8ff;\n",
              "  --sklearn-color-fitted-level-1: #d4ebff;\n",
              "  --sklearn-color-fitted-level-2: #b3dbfd;\n",
              "  --sklearn-color-fitted-level-3: cornflowerblue;\n",
              "\n",
              "  /* Specific color for light theme */\n",
              "  --sklearn-color-text-on-default-background: var(--sg-text-color, var(--theme-code-foreground, var(--jp-content-font-color1, black)));\n",
              "  --sklearn-color-background: var(--sg-background-color, var(--theme-background, var(--jp-layout-color0, white)));\n",
              "  --sklearn-color-border-box: var(--sg-text-color, var(--theme-code-foreground, var(--jp-content-font-color1, black)));\n",
              "  --sklearn-color-icon: #696969;\n",
              "\n",
              "  @media (prefers-color-scheme: dark) {\n",
              "    /* Redefinition of color scheme for dark theme */\n",
              "    --sklearn-color-text-on-default-background: var(--sg-text-color, var(--theme-code-foreground, var(--jp-content-font-color1, white)));\n",
              "    --sklearn-color-background: var(--sg-background-color, var(--theme-background, var(--jp-layout-color0, #111)));\n",
              "    --sklearn-color-border-box: var(--sg-text-color, var(--theme-code-foreground, var(--jp-content-font-color1, white)));\n",
              "    --sklearn-color-icon: #878787;\n",
              "  }\n",
              "}\n",
              "\n",
              "#sk-container-id-1 {\n",
              "  color: var(--sklearn-color-text);\n",
              "}\n",
              "\n",
              "#sk-container-id-1 pre {\n",
              "  padding: 0;\n",
              "}\n",
              "\n",
              "#sk-container-id-1 input.sk-hidden--visually {\n",
              "  border: 0;\n",
              "  clip: rect(1px 1px 1px 1px);\n",
              "  clip: rect(1px, 1px, 1px, 1px);\n",
              "  height: 1px;\n",
              "  margin: -1px;\n",
              "  overflow: hidden;\n",
              "  padding: 0;\n",
              "  position: absolute;\n",
              "  width: 1px;\n",
              "}\n",
              "\n",
              "#sk-container-id-1 div.sk-dashed-wrapped {\n",
              "  border: 1px dashed var(--sklearn-color-line);\n",
              "  margin: 0 0.4em 0.5em 0.4em;\n",
              "  box-sizing: border-box;\n",
              "  padding-bottom: 0.4em;\n",
              "  background-color: var(--sklearn-color-background);\n",
              "}\n",
              "\n",
              "#sk-container-id-1 div.sk-container {\n",
              "  /* jupyter's `normalize.less` sets `[hidden] { display: none; }`\n",
              "     but bootstrap.min.css set `[hidden] { display: none !important; }`\n",
              "     so we also need the `!important` here to be able to override the\n",
              "     default hidden behavior on the sphinx rendered scikit-learn.org.\n",
              "     See: https://github.com/scikit-learn/scikit-learn/issues/21755 */\n",
              "  display: inline-block !important;\n",
              "  position: relative;\n",
              "}\n",
              "\n",
              "#sk-container-id-1 div.sk-text-repr-fallback {\n",
              "  display: none;\n",
              "}\n",
              "\n",
              "div.sk-parallel-item,\n",
              "div.sk-serial,\n",
              "div.sk-item {\n",
              "  /* draw centered vertical line to link estimators */\n",
              "  background-image: linear-gradient(var(--sklearn-color-text-on-default-background), var(--sklearn-color-text-on-default-background));\n",
              "  background-size: 2px 100%;\n",
              "  background-repeat: no-repeat;\n",
              "  background-position: center center;\n",
              "}\n",
              "\n",
              "/* Parallel-specific style estimator block */\n",
              "\n",
              "#sk-container-id-1 div.sk-parallel-item::after {\n",
              "  content: \"\";\n",
              "  width: 100%;\n",
              "  border-bottom: 2px solid var(--sklearn-color-text-on-default-background);\n",
              "  flex-grow: 1;\n",
              "}\n",
              "\n",
              "#sk-container-id-1 div.sk-parallel {\n",
              "  display: flex;\n",
              "  align-items: stretch;\n",
              "  justify-content: center;\n",
              "  background-color: var(--sklearn-color-background);\n",
              "  position: relative;\n",
              "}\n",
              "\n",
              "#sk-container-id-1 div.sk-parallel-item {\n",
              "  display: flex;\n",
              "  flex-direction: column;\n",
              "}\n",
              "\n",
              "#sk-container-id-1 div.sk-parallel-item:first-child::after {\n",
              "  align-self: flex-end;\n",
              "  width: 50%;\n",
              "}\n",
              "\n",
              "#sk-container-id-1 div.sk-parallel-item:last-child::after {\n",
              "  align-self: flex-start;\n",
              "  width: 50%;\n",
              "}\n",
              "\n",
              "#sk-container-id-1 div.sk-parallel-item:only-child::after {\n",
              "  width: 0;\n",
              "}\n",
              "\n",
              "/* Serial-specific style estimator block */\n",
              "\n",
              "#sk-container-id-1 div.sk-serial {\n",
              "  display: flex;\n",
              "  flex-direction: column;\n",
              "  align-items: center;\n",
              "  background-color: var(--sklearn-color-background);\n",
              "  padding-right: 1em;\n",
              "  padding-left: 1em;\n",
              "}\n",
              "\n",
              "\n",
              "/* Toggleable style: style used for estimator/Pipeline/ColumnTransformer box that is\n",
              "clickable and can be expanded/collapsed.\n",
              "- Pipeline and ColumnTransformer use this feature and define the default style\n",
              "- Estimators will overwrite some part of the style using the `sk-estimator` class\n",
              "*/\n",
              "\n",
              "/* Pipeline and ColumnTransformer style (default) */\n",
              "\n",
              "#sk-container-id-1 div.sk-toggleable {\n",
              "  /* Default theme specific background. It is overwritten whether we have a\n",
              "  specific estimator or a Pipeline/ColumnTransformer */\n",
              "  background-color: var(--sklearn-color-background);\n",
              "}\n",
              "\n",
              "/* Toggleable label */\n",
              "#sk-container-id-1 label.sk-toggleable__label {\n",
              "  cursor: pointer;\n",
              "  display: block;\n",
              "  width: 100%;\n",
              "  margin-bottom: 0;\n",
              "  padding: 0.5em;\n",
              "  box-sizing: border-box;\n",
              "  text-align: center;\n",
              "}\n",
              "\n",
              "#sk-container-id-1 label.sk-toggleable__label-arrow:before {\n",
              "  /* Arrow on the left of the label */\n",
              "  content: \"▸\";\n",
              "  float: left;\n",
              "  margin-right: 0.25em;\n",
              "  color: var(--sklearn-color-icon);\n",
              "}\n",
              "\n",
              "#sk-container-id-1 label.sk-toggleable__label-arrow:hover:before {\n",
              "  color: var(--sklearn-color-text);\n",
              "}\n",
              "\n",
              "/* Toggleable content - dropdown */\n",
              "\n",
              "#sk-container-id-1 div.sk-toggleable__content {\n",
              "  max-height: 0;\n",
              "  max-width: 0;\n",
              "  overflow: hidden;\n",
              "  text-align: left;\n",
              "  /* unfitted */\n",
              "  background-color: var(--sklearn-color-unfitted-level-0);\n",
              "}\n",
              "\n",
              "#sk-container-id-1 div.sk-toggleable__content.fitted {\n",
              "  /* fitted */\n",
              "  background-color: var(--sklearn-color-fitted-level-0);\n",
              "}\n",
              "\n",
              "#sk-container-id-1 div.sk-toggleable__content pre {\n",
              "  margin: 0.2em;\n",
              "  border-radius: 0.25em;\n",
              "  color: var(--sklearn-color-text);\n",
              "  /* unfitted */\n",
              "  background-color: var(--sklearn-color-unfitted-level-0);\n",
              "}\n",
              "\n",
              "#sk-container-id-1 div.sk-toggleable__content.fitted pre {\n",
              "  /* unfitted */\n",
              "  background-color: var(--sklearn-color-fitted-level-0);\n",
              "}\n",
              "\n",
              "#sk-container-id-1 input.sk-toggleable__control:checked~div.sk-toggleable__content {\n",
              "  /* Expand drop-down */\n",
              "  max-height: 200px;\n",
              "  max-width: 100%;\n",
              "  overflow: auto;\n",
              "}\n",
              "\n",
              "#sk-container-id-1 input.sk-toggleable__control:checked~label.sk-toggleable__label-arrow:before {\n",
              "  content: \"▾\";\n",
              "}\n",
              "\n",
              "/* Pipeline/ColumnTransformer-specific style */\n",
              "\n",
              "#sk-container-id-1 div.sk-label input.sk-toggleable__control:checked~label.sk-toggleable__label {\n",
              "  color: var(--sklearn-color-text);\n",
              "  background-color: var(--sklearn-color-unfitted-level-2);\n",
              "}\n",
              "\n",
              "#sk-container-id-1 div.sk-label.fitted input.sk-toggleable__control:checked~label.sk-toggleable__label {\n",
              "  background-color: var(--sklearn-color-fitted-level-2);\n",
              "}\n",
              "\n",
              "/* Estimator-specific style */\n",
              "\n",
              "/* Colorize estimator box */\n",
              "#sk-container-id-1 div.sk-estimator input.sk-toggleable__control:checked~label.sk-toggleable__label {\n",
              "  /* unfitted */\n",
              "  background-color: var(--sklearn-color-unfitted-level-2);\n",
              "}\n",
              "\n",
              "#sk-container-id-1 div.sk-estimator.fitted input.sk-toggleable__control:checked~label.sk-toggleable__label {\n",
              "  /* fitted */\n",
              "  background-color: var(--sklearn-color-fitted-level-2);\n",
              "}\n",
              "\n",
              "#sk-container-id-1 div.sk-label label.sk-toggleable__label,\n",
              "#sk-container-id-1 div.sk-label label {\n",
              "  /* The background is the default theme color */\n",
              "  color: var(--sklearn-color-text-on-default-background);\n",
              "}\n",
              "\n",
              "/* On hover, darken the color of the background */\n",
              "#sk-container-id-1 div.sk-label:hover label.sk-toggleable__label {\n",
              "  color: var(--sklearn-color-text);\n",
              "  background-color: var(--sklearn-color-unfitted-level-2);\n",
              "}\n",
              "\n",
              "/* Label box, darken color on hover, fitted */\n",
              "#sk-container-id-1 div.sk-label.fitted:hover label.sk-toggleable__label.fitted {\n",
              "  color: var(--sklearn-color-text);\n",
              "  background-color: var(--sklearn-color-fitted-level-2);\n",
              "}\n",
              "\n",
              "/* Estimator label */\n",
              "\n",
              "#sk-container-id-1 div.sk-label label {\n",
              "  font-family: monospace;\n",
              "  font-weight: bold;\n",
              "  display: inline-block;\n",
              "  line-height: 1.2em;\n",
              "}\n",
              "\n",
              "#sk-container-id-1 div.sk-label-container {\n",
              "  text-align: center;\n",
              "}\n",
              "\n",
              "/* Estimator-specific */\n",
              "#sk-container-id-1 div.sk-estimator {\n",
              "  font-family: monospace;\n",
              "  border: 1px dotted var(--sklearn-color-border-box);\n",
              "  border-radius: 0.25em;\n",
              "  box-sizing: border-box;\n",
              "  margin-bottom: 0.5em;\n",
              "  /* unfitted */\n",
              "  background-color: var(--sklearn-color-unfitted-level-0);\n",
              "}\n",
              "\n",
              "#sk-container-id-1 div.sk-estimator.fitted {\n",
              "  /* fitted */\n",
              "  background-color: var(--sklearn-color-fitted-level-0);\n",
              "}\n",
              "\n",
              "/* on hover */\n",
              "#sk-container-id-1 div.sk-estimator:hover {\n",
              "  /* unfitted */\n",
              "  background-color: var(--sklearn-color-unfitted-level-2);\n",
              "}\n",
              "\n",
              "#sk-container-id-1 div.sk-estimator.fitted:hover {\n",
              "  /* fitted */\n",
              "  background-color: var(--sklearn-color-fitted-level-2);\n",
              "}\n",
              "\n",
              "/* Specification for estimator info (e.g. \"i\" and \"?\") */\n",
              "\n",
              "/* Common style for \"i\" and \"?\" */\n",
              "\n",
              ".sk-estimator-doc-link,\n",
              "a:link.sk-estimator-doc-link,\n",
              "a:visited.sk-estimator-doc-link {\n",
              "  float: right;\n",
              "  font-size: smaller;\n",
              "  line-height: 1em;\n",
              "  font-family: monospace;\n",
              "  background-color: var(--sklearn-color-background);\n",
              "  border-radius: 1em;\n",
              "  height: 1em;\n",
              "  width: 1em;\n",
              "  text-decoration: none !important;\n",
              "  margin-left: 1ex;\n",
              "  /* unfitted */\n",
              "  border: var(--sklearn-color-unfitted-level-1) 1pt solid;\n",
              "  color: var(--sklearn-color-unfitted-level-1);\n",
              "}\n",
              "\n",
              ".sk-estimator-doc-link.fitted,\n",
              "a:link.sk-estimator-doc-link.fitted,\n",
              "a:visited.sk-estimator-doc-link.fitted {\n",
              "  /* fitted */\n",
              "  border: var(--sklearn-color-fitted-level-1) 1pt solid;\n",
              "  color: var(--sklearn-color-fitted-level-1);\n",
              "}\n",
              "\n",
              "/* On hover */\n",
              "div.sk-estimator:hover .sk-estimator-doc-link:hover,\n",
              ".sk-estimator-doc-link:hover,\n",
              "div.sk-label-container:hover .sk-estimator-doc-link:hover,\n",
              ".sk-estimator-doc-link:hover {\n",
              "  /* unfitted */\n",
              "  background-color: var(--sklearn-color-unfitted-level-3);\n",
              "  color: var(--sklearn-color-background);\n",
              "  text-decoration: none;\n",
              "}\n",
              "\n",
              "div.sk-estimator.fitted:hover .sk-estimator-doc-link.fitted:hover,\n",
              ".sk-estimator-doc-link.fitted:hover,\n",
              "div.sk-label-container:hover .sk-estimator-doc-link.fitted:hover,\n",
              ".sk-estimator-doc-link.fitted:hover {\n",
              "  /* fitted */\n",
              "  background-color: var(--sklearn-color-fitted-level-3);\n",
              "  color: var(--sklearn-color-background);\n",
              "  text-decoration: none;\n",
              "}\n",
              "\n",
              "/* Span, style for the box shown on hovering the info icon */\n",
              ".sk-estimator-doc-link span {\n",
              "  display: none;\n",
              "  z-index: 9999;\n",
              "  position: relative;\n",
              "  font-weight: normal;\n",
              "  right: .2ex;\n",
              "  padding: .5ex;\n",
              "  margin: .5ex;\n",
              "  width: min-content;\n",
              "  min-width: 20ex;\n",
              "  max-width: 50ex;\n",
              "  color: var(--sklearn-color-text);\n",
              "  box-shadow: 2pt 2pt 4pt #999;\n",
              "  /* unfitted */\n",
              "  background: var(--sklearn-color-unfitted-level-0);\n",
              "  border: .5pt solid var(--sklearn-color-unfitted-level-3);\n",
              "}\n",
              "\n",
              ".sk-estimator-doc-link.fitted span {\n",
              "  /* fitted */\n",
              "  background: var(--sklearn-color-fitted-level-0);\n",
              "  border: var(--sklearn-color-fitted-level-3);\n",
              "}\n",
              "\n",
              ".sk-estimator-doc-link:hover span {\n",
              "  display: block;\n",
              "}\n",
              "\n",
              "/* \"?\"-specific style due to the `<a>` HTML tag */\n",
              "\n",
              "#sk-container-id-1 a.estimator_doc_link {\n",
              "  float: right;\n",
              "  font-size: 1rem;\n",
              "  line-height: 1em;\n",
              "  font-family: monospace;\n",
              "  background-color: var(--sklearn-color-background);\n",
              "  border-radius: 1rem;\n",
              "  height: 1rem;\n",
              "  width: 1rem;\n",
              "  text-decoration: none;\n",
              "  /* unfitted */\n",
              "  color: var(--sklearn-color-unfitted-level-1);\n",
              "  border: var(--sklearn-color-unfitted-level-1) 1pt solid;\n",
              "}\n",
              "\n",
              "#sk-container-id-1 a.estimator_doc_link.fitted {\n",
              "  /* fitted */\n",
              "  border: var(--sklearn-color-fitted-level-1) 1pt solid;\n",
              "  color: var(--sklearn-color-fitted-level-1);\n",
              "}\n",
              "\n",
              "/* On hover */\n",
              "#sk-container-id-1 a.estimator_doc_link:hover {\n",
              "  /* unfitted */\n",
              "  background-color: var(--sklearn-color-unfitted-level-3);\n",
              "  color: var(--sklearn-color-background);\n",
              "  text-decoration: none;\n",
              "}\n",
              "\n",
              "#sk-container-id-1 a.estimator_doc_link.fitted:hover {\n",
              "  /* fitted */\n",
              "  background-color: var(--sklearn-color-fitted-level-3);\n",
              "}\n",
              "</style><div id=\"sk-container-id-1\" class=\"sk-top-container\"><div class=\"sk-text-repr-fallback\"><pre>SVC()</pre><b>In a Jupyter environment, please rerun this cell to show the HTML representation or trust the notebook. <br />On GitHub, the HTML representation is unable to render, please try loading this page with nbviewer.org.</b></div><div class=\"sk-container\" hidden><div class=\"sk-item\"><div class=\"sk-estimator fitted sk-toggleable\"><input class=\"sk-toggleable__control sk-hidden--visually\" id=\"sk-estimator-id-1\" type=\"checkbox\" checked><label for=\"sk-estimator-id-1\" class=\"sk-toggleable__label fitted sk-toggleable__label-arrow fitted\">&nbsp;&nbsp;SVC<a class=\"sk-estimator-doc-link fitted\" rel=\"noreferrer\" target=\"_blank\" href=\"https://scikit-learn.org/1.5/modules/generated/sklearn.svm.SVC.html\">?<span>Documentation for SVC</span></a><span class=\"sk-estimator-doc-link fitted\">i<span>Fitted</span></span></label><div class=\"sk-toggleable__content fitted\"><pre>SVC()</pre></div> </div></div></div></div>"
            ]
          },
          "metadata": {},
          "execution_count": 55
        }
      ]
    },
    {
      "cell_type": "code",
      "source": [
        "y_pred = svc.predict(X_test)"
      ],
      "metadata": {
        "id": "xmyP6RlVMM_E"
      },
      "execution_count": null,
      "outputs": []
    },
    {
      "cell_type": "markdown",
      "source": [
        "## Model Accuracy"
      ],
      "metadata": {
        "id": "nOQutomyMZXI"
      }
    },
    {
      "cell_type": "code",
      "source": [
        "from sklearn.metrics import confusion_matrix, classification_report"
      ],
      "metadata": {
        "id": "yqSgn8R4MPu8"
      },
      "execution_count": null,
      "outputs": []
    },
    {
      "cell_type": "code",
      "source": [
        "confusion_matrix(y_test, y_pred)"
      ],
      "metadata": {
        "colab": {
          "base_uri": "https://localhost:8080/"
        },
        "id": "AIrbYw36Mfeo",
        "outputId": "89cb79e6-60a3-494c-91bc-1bb9d6fb17f4"
      },
      "execution_count": null,
      "outputs": [
        {
          "output_type": "execute_result",
          "data": {
            "text/plain": [
              "array([[2381,   33],\n",
              "       [ 436,  150]])"
            ]
          },
          "metadata": {},
          "execution_count": 58
        }
      ]
    },
    {
      "cell_type": "code",
      "source": [
        "print(classification_report(y_test, y_pred))"
      ],
      "metadata": {
        "colab": {
          "base_uri": "https://localhost:8080/"
        },
        "id": "4cfGCSDzMl1F",
        "outputId": "cd0182fc-46ad-445f-e2ba-2905bb539666"
      },
      "execution_count": null,
      "outputs": [
        {
          "output_type": "stream",
          "name": "stdout",
          "text": [
            "              precision    recall  f1-score   support\n",
            "\n",
            "           0       0.85      0.99      0.91      2414\n",
            "           1       0.82      0.26      0.39       586\n",
            "\n",
            "    accuracy                           0.84      3000\n",
            "   macro avg       0.83      0.62      0.65      3000\n",
            "weighted avg       0.84      0.84      0.81      3000\n",
            "\n"
          ]
        }
      ]
    },
    {
      "cell_type": "markdown",
      "source": [
        "## Hyperparameter Tunning"
      ],
      "metadata": {
        "id": "EC_1rCTHy5SX"
      }
    },
    {
      "cell_type": "code",
      "source": [
        "from sklearn.model_selection import GridSearchCV"
      ],
      "metadata": {
        "id": "RAT53ZL6MoK-"
      },
      "execution_count": null,
      "outputs": []
    },
    {
      "cell_type": "code",
      "source": [
        "param_grid = {'C': [0.1,1,10],\n",
        "              'gamma': [1,0.1,0.01],\n",
        "              'kernel': ['rbf'],\n",
        "              'class_weight': ['balanced']}"
      ],
      "metadata": {
        "id": "HjBJw6uXzG7h"
      },
      "execution_count": null,
      "outputs": []
    },
    {
      "cell_type": "code",
      "source": [
        "grid = GridSearchCV(SVC(), param_grid, refit=True, verbose=2, cv=2)\n",
        "grid.fit(X_train,y_train)"
      ],
      "metadata": {
        "colab": {
          "base_uri": "https://localhost:8080/",
          "height": 464
        },
        "id": "NJ2vYt31zsqy",
        "outputId": "5b254645-b913-4731-d3bd-4cfa59505fd3"
      },
      "execution_count": null,
      "outputs": [
        {
          "output_type": "stream",
          "name": "stdout",
          "text": [
            "Fitting 2 folds for each of 9 candidates, totalling 18 fits\n",
            "[CV] END ..C=0.1, class_weight=balanced, gamma=1, kernel=rbf; total time=   2.5s\n",
            "[CV] END ..C=0.1, class_weight=balanced, gamma=1, kernel=rbf; total time=   1.8s\n",
            "[CV] END C=0.1, class_weight=balanced, gamma=0.1, kernel=rbf; total time=   1.0s\n",
            "[CV] END C=0.1, class_weight=balanced, gamma=0.1, kernel=rbf; total time=   1.1s\n",
            "[CV] END C=0.1, class_weight=balanced, gamma=0.01, kernel=rbf; total time=   1.2s\n",
            "[CV] END C=0.1, class_weight=balanced, gamma=0.01, kernel=rbf; total time=   1.2s\n",
            "[CV] END ....C=1, class_weight=balanced, gamma=1, kernel=rbf; total time=   1.2s\n",
            "[CV] END ....C=1, class_weight=balanced, gamma=1, kernel=rbf; total time=   1.3s\n",
            "[CV] END ..C=1, class_weight=balanced, gamma=0.1, kernel=rbf; total time=   0.9s\n",
            "[CV] END ..C=1, class_weight=balanced, gamma=0.1, kernel=rbf; total time=   1.0s\n",
            "[CV] END .C=1, class_weight=balanced, gamma=0.01, kernel=rbf; total time=   1.5s\n",
            "[CV] END .C=1, class_weight=balanced, gamma=0.01, kernel=rbf; total time=   1.8s\n",
            "[CV] END ...C=10, class_weight=balanced, gamma=1, kernel=rbf; total time=   1.4s\n",
            "[CV] END ...C=10, class_weight=balanced, gamma=1, kernel=rbf; total time=   1.2s\n",
            "[CV] END .C=10, class_weight=balanced, gamma=0.1, kernel=rbf; total time=   1.0s\n",
            "[CV] END .C=10, class_weight=balanced, gamma=0.1, kernel=rbf; total time=   1.0s\n",
            "[CV] END C=10, class_weight=balanced, gamma=0.01, kernel=rbf; total time=   0.9s\n",
            "[CV] END C=10, class_weight=balanced, gamma=0.01, kernel=rbf; total time=   1.0s\n"
          ]
        },
        {
          "output_type": "execute_result",
          "data": {
            "text/plain": [
              "GridSearchCV(cv=2, estimator=SVC(),\n",
              "             param_grid={'C': [0.1, 1, 10], 'class_weight': ['balanced'],\n",
              "                         'gamma': [1, 0.1, 0.01], 'kernel': ['rbf']},\n",
              "             verbose=2)"
            ],
            "text/html": [
              "<style>#sk-container-id-2 {\n",
              "  /* Definition of color scheme common for light and dark mode */\n",
              "  --sklearn-color-text: black;\n",
              "  --sklearn-color-line: gray;\n",
              "  /* Definition of color scheme for unfitted estimators */\n",
              "  --sklearn-color-unfitted-level-0: #fff5e6;\n",
              "  --sklearn-color-unfitted-level-1: #f6e4d2;\n",
              "  --sklearn-color-unfitted-level-2: #ffe0b3;\n",
              "  --sklearn-color-unfitted-level-3: chocolate;\n",
              "  /* Definition of color scheme for fitted estimators */\n",
              "  --sklearn-color-fitted-level-0: #f0f8ff;\n",
              "  --sklearn-color-fitted-level-1: #d4ebff;\n",
              "  --sklearn-color-fitted-level-2: #b3dbfd;\n",
              "  --sklearn-color-fitted-level-3: cornflowerblue;\n",
              "\n",
              "  /* Specific color for light theme */\n",
              "  --sklearn-color-text-on-default-background: var(--sg-text-color, var(--theme-code-foreground, var(--jp-content-font-color1, black)));\n",
              "  --sklearn-color-background: var(--sg-background-color, var(--theme-background, var(--jp-layout-color0, white)));\n",
              "  --sklearn-color-border-box: var(--sg-text-color, var(--theme-code-foreground, var(--jp-content-font-color1, black)));\n",
              "  --sklearn-color-icon: #696969;\n",
              "\n",
              "  @media (prefers-color-scheme: dark) {\n",
              "    /* Redefinition of color scheme for dark theme */\n",
              "    --sklearn-color-text-on-default-background: var(--sg-text-color, var(--theme-code-foreground, var(--jp-content-font-color1, white)));\n",
              "    --sklearn-color-background: var(--sg-background-color, var(--theme-background, var(--jp-layout-color0, #111)));\n",
              "    --sklearn-color-border-box: var(--sg-text-color, var(--theme-code-foreground, var(--jp-content-font-color1, white)));\n",
              "    --sklearn-color-icon: #878787;\n",
              "  }\n",
              "}\n",
              "\n",
              "#sk-container-id-2 {\n",
              "  color: var(--sklearn-color-text);\n",
              "}\n",
              "\n",
              "#sk-container-id-2 pre {\n",
              "  padding: 0;\n",
              "}\n",
              "\n",
              "#sk-container-id-2 input.sk-hidden--visually {\n",
              "  border: 0;\n",
              "  clip: rect(1px 1px 1px 1px);\n",
              "  clip: rect(1px, 1px, 1px, 1px);\n",
              "  height: 1px;\n",
              "  margin: -1px;\n",
              "  overflow: hidden;\n",
              "  padding: 0;\n",
              "  position: absolute;\n",
              "  width: 1px;\n",
              "}\n",
              "\n",
              "#sk-container-id-2 div.sk-dashed-wrapped {\n",
              "  border: 1px dashed var(--sklearn-color-line);\n",
              "  margin: 0 0.4em 0.5em 0.4em;\n",
              "  box-sizing: border-box;\n",
              "  padding-bottom: 0.4em;\n",
              "  background-color: var(--sklearn-color-background);\n",
              "}\n",
              "\n",
              "#sk-container-id-2 div.sk-container {\n",
              "  /* jupyter's `normalize.less` sets `[hidden] { display: none; }`\n",
              "     but bootstrap.min.css set `[hidden] { display: none !important; }`\n",
              "     so we also need the `!important` here to be able to override the\n",
              "     default hidden behavior on the sphinx rendered scikit-learn.org.\n",
              "     See: https://github.com/scikit-learn/scikit-learn/issues/21755 */\n",
              "  display: inline-block !important;\n",
              "  position: relative;\n",
              "}\n",
              "\n",
              "#sk-container-id-2 div.sk-text-repr-fallback {\n",
              "  display: none;\n",
              "}\n",
              "\n",
              "div.sk-parallel-item,\n",
              "div.sk-serial,\n",
              "div.sk-item {\n",
              "  /* draw centered vertical line to link estimators */\n",
              "  background-image: linear-gradient(var(--sklearn-color-text-on-default-background), var(--sklearn-color-text-on-default-background));\n",
              "  background-size: 2px 100%;\n",
              "  background-repeat: no-repeat;\n",
              "  background-position: center center;\n",
              "}\n",
              "\n",
              "/* Parallel-specific style estimator block */\n",
              "\n",
              "#sk-container-id-2 div.sk-parallel-item::after {\n",
              "  content: \"\";\n",
              "  width: 100%;\n",
              "  border-bottom: 2px solid var(--sklearn-color-text-on-default-background);\n",
              "  flex-grow: 1;\n",
              "}\n",
              "\n",
              "#sk-container-id-2 div.sk-parallel {\n",
              "  display: flex;\n",
              "  align-items: stretch;\n",
              "  justify-content: center;\n",
              "  background-color: var(--sklearn-color-background);\n",
              "  position: relative;\n",
              "}\n",
              "\n",
              "#sk-container-id-2 div.sk-parallel-item {\n",
              "  display: flex;\n",
              "  flex-direction: column;\n",
              "}\n",
              "\n",
              "#sk-container-id-2 div.sk-parallel-item:first-child::after {\n",
              "  align-self: flex-end;\n",
              "  width: 50%;\n",
              "}\n",
              "\n",
              "#sk-container-id-2 div.sk-parallel-item:last-child::after {\n",
              "  align-self: flex-start;\n",
              "  width: 50%;\n",
              "}\n",
              "\n",
              "#sk-container-id-2 div.sk-parallel-item:only-child::after {\n",
              "  width: 0;\n",
              "}\n",
              "\n",
              "/* Serial-specific style estimator block */\n",
              "\n",
              "#sk-container-id-2 div.sk-serial {\n",
              "  display: flex;\n",
              "  flex-direction: column;\n",
              "  align-items: center;\n",
              "  background-color: var(--sklearn-color-background);\n",
              "  padding-right: 1em;\n",
              "  padding-left: 1em;\n",
              "}\n",
              "\n",
              "\n",
              "/* Toggleable style: style used for estimator/Pipeline/ColumnTransformer box that is\n",
              "clickable and can be expanded/collapsed.\n",
              "- Pipeline and ColumnTransformer use this feature and define the default style\n",
              "- Estimators will overwrite some part of the style using the `sk-estimator` class\n",
              "*/\n",
              "\n",
              "/* Pipeline and ColumnTransformer style (default) */\n",
              "\n",
              "#sk-container-id-2 div.sk-toggleable {\n",
              "  /* Default theme specific background. It is overwritten whether we have a\n",
              "  specific estimator or a Pipeline/ColumnTransformer */\n",
              "  background-color: var(--sklearn-color-background);\n",
              "}\n",
              "\n",
              "/* Toggleable label */\n",
              "#sk-container-id-2 label.sk-toggleable__label {\n",
              "  cursor: pointer;\n",
              "  display: block;\n",
              "  width: 100%;\n",
              "  margin-bottom: 0;\n",
              "  padding: 0.5em;\n",
              "  box-sizing: border-box;\n",
              "  text-align: center;\n",
              "}\n",
              "\n",
              "#sk-container-id-2 label.sk-toggleable__label-arrow:before {\n",
              "  /* Arrow on the left of the label */\n",
              "  content: \"▸\";\n",
              "  float: left;\n",
              "  margin-right: 0.25em;\n",
              "  color: var(--sklearn-color-icon);\n",
              "}\n",
              "\n",
              "#sk-container-id-2 label.sk-toggleable__label-arrow:hover:before {\n",
              "  color: var(--sklearn-color-text);\n",
              "}\n",
              "\n",
              "/* Toggleable content - dropdown */\n",
              "\n",
              "#sk-container-id-2 div.sk-toggleable__content {\n",
              "  max-height: 0;\n",
              "  max-width: 0;\n",
              "  overflow: hidden;\n",
              "  text-align: left;\n",
              "  /* unfitted */\n",
              "  background-color: var(--sklearn-color-unfitted-level-0);\n",
              "}\n",
              "\n",
              "#sk-container-id-2 div.sk-toggleable__content.fitted {\n",
              "  /* fitted */\n",
              "  background-color: var(--sklearn-color-fitted-level-0);\n",
              "}\n",
              "\n",
              "#sk-container-id-2 div.sk-toggleable__content pre {\n",
              "  margin: 0.2em;\n",
              "  border-radius: 0.25em;\n",
              "  color: var(--sklearn-color-text);\n",
              "  /* unfitted */\n",
              "  background-color: var(--sklearn-color-unfitted-level-0);\n",
              "}\n",
              "\n",
              "#sk-container-id-2 div.sk-toggleable__content.fitted pre {\n",
              "  /* unfitted */\n",
              "  background-color: var(--sklearn-color-fitted-level-0);\n",
              "}\n",
              "\n",
              "#sk-container-id-2 input.sk-toggleable__control:checked~div.sk-toggleable__content {\n",
              "  /* Expand drop-down */\n",
              "  max-height: 200px;\n",
              "  max-width: 100%;\n",
              "  overflow: auto;\n",
              "}\n",
              "\n",
              "#sk-container-id-2 input.sk-toggleable__control:checked~label.sk-toggleable__label-arrow:before {\n",
              "  content: \"▾\";\n",
              "}\n",
              "\n",
              "/* Pipeline/ColumnTransformer-specific style */\n",
              "\n",
              "#sk-container-id-2 div.sk-label input.sk-toggleable__control:checked~label.sk-toggleable__label {\n",
              "  color: var(--sklearn-color-text);\n",
              "  background-color: var(--sklearn-color-unfitted-level-2);\n",
              "}\n",
              "\n",
              "#sk-container-id-2 div.sk-label.fitted input.sk-toggleable__control:checked~label.sk-toggleable__label {\n",
              "  background-color: var(--sklearn-color-fitted-level-2);\n",
              "}\n",
              "\n",
              "/* Estimator-specific style */\n",
              "\n",
              "/* Colorize estimator box */\n",
              "#sk-container-id-2 div.sk-estimator input.sk-toggleable__control:checked~label.sk-toggleable__label {\n",
              "  /* unfitted */\n",
              "  background-color: var(--sklearn-color-unfitted-level-2);\n",
              "}\n",
              "\n",
              "#sk-container-id-2 div.sk-estimator.fitted input.sk-toggleable__control:checked~label.sk-toggleable__label {\n",
              "  /* fitted */\n",
              "  background-color: var(--sklearn-color-fitted-level-2);\n",
              "}\n",
              "\n",
              "#sk-container-id-2 div.sk-label label.sk-toggleable__label,\n",
              "#sk-container-id-2 div.sk-label label {\n",
              "  /* The background is the default theme color */\n",
              "  color: var(--sklearn-color-text-on-default-background);\n",
              "}\n",
              "\n",
              "/* On hover, darken the color of the background */\n",
              "#sk-container-id-2 div.sk-label:hover label.sk-toggleable__label {\n",
              "  color: var(--sklearn-color-text);\n",
              "  background-color: var(--sklearn-color-unfitted-level-2);\n",
              "}\n",
              "\n",
              "/* Label box, darken color on hover, fitted */\n",
              "#sk-container-id-2 div.sk-label.fitted:hover label.sk-toggleable__label.fitted {\n",
              "  color: var(--sklearn-color-text);\n",
              "  background-color: var(--sklearn-color-fitted-level-2);\n",
              "}\n",
              "\n",
              "/* Estimator label */\n",
              "\n",
              "#sk-container-id-2 div.sk-label label {\n",
              "  font-family: monospace;\n",
              "  font-weight: bold;\n",
              "  display: inline-block;\n",
              "  line-height: 1.2em;\n",
              "}\n",
              "\n",
              "#sk-container-id-2 div.sk-label-container {\n",
              "  text-align: center;\n",
              "}\n",
              "\n",
              "/* Estimator-specific */\n",
              "#sk-container-id-2 div.sk-estimator {\n",
              "  font-family: monospace;\n",
              "  border: 1px dotted var(--sklearn-color-border-box);\n",
              "  border-radius: 0.25em;\n",
              "  box-sizing: border-box;\n",
              "  margin-bottom: 0.5em;\n",
              "  /* unfitted */\n",
              "  background-color: var(--sklearn-color-unfitted-level-0);\n",
              "}\n",
              "\n",
              "#sk-container-id-2 div.sk-estimator.fitted {\n",
              "  /* fitted */\n",
              "  background-color: var(--sklearn-color-fitted-level-0);\n",
              "}\n",
              "\n",
              "/* on hover */\n",
              "#sk-container-id-2 div.sk-estimator:hover {\n",
              "  /* unfitted */\n",
              "  background-color: var(--sklearn-color-unfitted-level-2);\n",
              "}\n",
              "\n",
              "#sk-container-id-2 div.sk-estimator.fitted:hover {\n",
              "  /* fitted */\n",
              "  background-color: var(--sklearn-color-fitted-level-2);\n",
              "}\n",
              "\n",
              "/* Specification for estimator info (e.g. \"i\" and \"?\") */\n",
              "\n",
              "/* Common style for \"i\" and \"?\" */\n",
              "\n",
              ".sk-estimator-doc-link,\n",
              "a:link.sk-estimator-doc-link,\n",
              "a:visited.sk-estimator-doc-link {\n",
              "  float: right;\n",
              "  font-size: smaller;\n",
              "  line-height: 1em;\n",
              "  font-family: monospace;\n",
              "  background-color: var(--sklearn-color-background);\n",
              "  border-radius: 1em;\n",
              "  height: 1em;\n",
              "  width: 1em;\n",
              "  text-decoration: none !important;\n",
              "  margin-left: 1ex;\n",
              "  /* unfitted */\n",
              "  border: var(--sklearn-color-unfitted-level-1) 1pt solid;\n",
              "  color: var(--sklearn-color-unfitted-level-1);\n",
              "}\n",
              "\n",
              ".sk-estimator-doc-link.fitted,\n",
              "a:link.sk-estimator-doc-link.fitted,\n",
              "a:visited.sk-estimator-doc-link.fitted {\n",
              "  /* fitted */\n",
              "  border: var(--sklearn-color-fitted-level-1) 1pt solid;\n",
              "  color: var(--sklearn-color-fitted-level-1);\n",
              "}\n",
              "\n",
              "/* On hover */\n",
              "div.sk-estimator:hover .sk-estimator-doc-link:hover,\n",
              ".sk-estimator-doc-link:hover,\n",
              "div.sk-label-container:hover .sk-estimator-doc-link:hover,\n",
              ".sk-estimator-doc-link:hover {\n",
              "  /* unfitted */\n",
              "  background-color: var(--sklearn-color-unfitted-level-3);\n",
              "  color: var(--sklearn-color-background);\n",
              "  text-decoration: none;\n",
              "}\n",
              "\n",
              "div.sk-estimator.fitted:hover .sk-estimator-doc-link.fitted:hover,\n",
              ".sk-estimator-doc-link.fitted:hover,\n",
              "div.sk-label-container:hover .sk-estimator-doc-link.fitted:hover,\n",
              ".sk-estimator-doc-link.fitted:hover {\n",
              "  /* fitted */\n",
              "  background-color: var(--sklearn-color-fitted-level-3);\n",
              "  color: var(--sklearn-color-background);\n",
              "  text-decoration: none;\n",
              "}\n",
              "\n",
              "/* Span, style for the box shown on hovering the info icon */\n",
              ".sk-estimator-doc-link span {\n",
              "  display: none;\n",
              "  z-index: 9999;\n",
              "  position: relative;\n",
              "  font-weight: normal;\n",
              "  right: .2ex;\n",
              "  padding: .5ex;\n",
              "  margin: .5ex;\n",
              "  width: min-content;\n",
              "  min-width: 20ex;\n",
              "  max-width: 50ex;\n",
              "  color: var(--sklearn-color-text);\n",
              "  box-shadow: 2pt 2pt 4pt #999;\n",
              "  /* unfitted */\n",
              "  background: var(--sklearn-color-unfitted-level-0);\n",
              "  border: .5pt solid var(--sklearn-color-unfitted-level-3);\n",
              "}\n",
              "\n",
              ".sk-estimator-doc-link.fitted span {\n",
              "  /* fitted */\n",
              "  background: var(--sklearn-color-fitted-level-0);\n",
              "  border: var(--sklearn-color-fitted-level-3);\n",
              "}\n",
              "\n",
              ".sk-estimator-doc-link:hover span {\n",
              "  display: block;\n",
              "}\n",
              "\n",
              "/* \"?\"-specific style due to the `<a>` HTML tag */\n",
              "\n",
              "#sk-container-id-2 a.estimator_doc_link {\n",
              "  float: right;\n",
              "  font-size: 1rem;\n",
              "  line-height: 1em;\n",
              "  font-family: monospace;\n",
              "  background-color: var(--sklearn-color-background);\n",
              "  border-radius: 1rem;\n",
              "  height: 1rem;\n",
              "  width: 1rem;\n",
              "  text-decoration: none;\n",
              "  /* unfitted */\n",
              "  color: var(--sklearn-color-unfitted-level-1);\n",
              "  border: var(--sklearn-color-unfitted-level-1) 1pt solid;\n",
              "}\n",
              "\n",
              "#sk-container-id-2 a.estimator_doc_link.fitted {\n",
              "  /* fitted */\n",
              "  border: var(--sklearn-color-fitted-level-1) 1pt solid;\n",
              "  color: var(--sklearn-color-fitted-level-1);\n",
              "}\n",
              "\n",
              "/* On hover */\n",
              "#sk-container-id-2 a.estimator_doc_link:hover {\n",
              "  /* unfitted */\n",
              "  background-color: var(--sklearn-color-unfitted-level-3);\n",
              "  color: var(--sklearn-color-background);\n",
              "  text-decoration: none;\n",
              "}\n",
              "\n",
              "#sk-container-id-2 a.estimator_doc_link.fitted:hover {\n",
              "  /* fitted */\n",
              "  background-color: var(--sklearn-color-fitted-level-3);\n",
              "}\n",
              "</style><div id=\"sk-container-id-2\" class=\"sk-top-container\"><div class=\"sk-text-repr-fallback\"><pre>GridSearchCV(cv=2, estimator=SVC(),\n",
              "             param_grid={&#x27;C&#x27;: [0.1, 1, 10], &#x27;class_weight&#x27;: [&#x27;balanced&#x27;],\n",
              "                         &#x27;gamma&#x27;: [1, 0.1, 0.01], &#x27;kernel&#x27;: [&#x27;rbf&#x27;]},\n",
              "             verbose=2)</pre><b>In a Jupyter environment, please rerun this cell to show the HTML representation or trust the notebook. <br />On GitHub, the HTML representation is unable to render, please try loading this page with nbviewer.org.</b></div><div class=\"sk-container\" hidden><div class=\"sk-item sk-dashed-wrapped\"><div class=\"sk-label-container\"><div class=\"sk-label fitted sk-toggleable\"><input class=\"sk-toggleable__control sk-hidden--visually\" id=\"sk-estimator-id-2\" type=\"checkbox\" ><label for=\"sk-estimator-id-2\" class=\"sk-toggleable__label fitted sk-toggleable__label-arrow fitted\">&nbsp;&nbsp;GridSearchCV<a class=\"sk-estimator-doc-link fitted\" rel=\"noreferrer\" target=\"_blank\" href=\"https://scikit-learn.org/1.5/modules/generated/sklearn.model_selection.GridSearchCV.html\">?<span>Documentation for GridSearchCV</span></a><span class=\"sk-estimator-doc-link fitted\">i<span>Fitted</span></span></label><div class=\"sk-toggleable__content fitted\"><pre>GridSearchCV(cv=2, estimator=SVC(),\n",
              "             param_grid={&#x27;C&#x27;: [0.1, 1, 10], &#x27;class_weight&#x27;: [&#x27;balanced&#x27;],\n",
              "                         &#x27;gamma&#x27;: [1, 0.1, 0.01], &#x27;kernel&#x27;: [&#x27;rbf&#x27;]},\n",
              "             verbose=2)</pre></div> </div></div><div class=\"sk-parallel\"><div class=\"sk-parallel-item\"><div class=\"sk-item\"><div class=\"sk-label-container\"><div class=\"sk-label fitted sk-toggleable\"><input class=\"sk-toggleable__control sk-hidden--visually\" id=\"sk-estimator-id-3\" type=\"checkbox\" ><label for=\"sk-estimator-id-3\" class=\"sk-toggleable__label fitted sk-toggleable__label-arrow fitted\">best_estimator_: SVC</label><div class=\"sk-toggleable__content fitted\"><pre>SVC(C=10, class_weight=&#x27;balanced&#x27;, gamma=1)</pre></div> </div></div><div class=\"sk-serial\"><div class=\"sk-item\"><div class=\"sk-estimator fitted sk-toggleable\"><input class=\"sk-toggleable__control sk-hidden--visually\" id=\"sk-estimator-id-4\" type=\"checkbox\" ><label for=\"sk-estimator-id-4\" class=\"sk-toggleable__label fitted sk-toggleable__label-arrow fitted\">&nbsp;SVC<a class=\"sk-estimator-doc-link fitted\" rel=\"noreferrer\" target=\"_blank\" href=\"https://scikit-learn.org/1.5/modules/generated/sklearn.svm.SVC.html\">?<span>Documentation for SVC</span></a></label><div class=\"sk-toggleable__content fitted\"><pre>SVC(C=10, class_weight=&#x27;balanced&#x27;, gamma=1)</pre></div> </div></div></div></div></div></div></div></div></div>"
            ]
          },
          "metadata": {},
          "execution_count": 64
        }
      ]
    },
    {
      "cell_type": "code",
      "source": [
        "print(grid.best_estimator_)"
      ],
      "metadata": {
        "colab": {
          "base_uri": "https://localhost:8080/"
        },
        "id": "KLC3Imkl0Crn",
        "outputId": "19d9675a-5edc-498b-d6ca-14d8c1da15fc"
      },
      "execution_count": null,
      "outputs": [
        {
          "output_type": "stream",
          "name": "stdout",
          "text": [
            "SVC(C=10, class_weight='balanced', gamma=1)\n"
          ]
        }
      ]
    },
    {
      "cell_type": "code",
      "source": [
        "grid_predictions = grid.predict(X_test)"
      ],
      "metadata": {
        "id": "kuZxFkh702li"
      },
      "execution_count": null,
      "outputs": []
    },
    {
      "cell_type": "code",
      "source": [
        "confusion_matrix(y_test, grid_predictions)"
      ],
      "metadata": {
        "colab": {
          "base_uri": "https://localhost:8080/"
        },
        "id": "oYr15S6i07uw",
        "outputId": "97250da8-21f4-4e68-d58a-60f998fcbc0d"
      },
      "execution_count": null,
      "outputs": [
        {
          "output_type": "execute_result",
          "data": {
            "text/plain": [
              "array([[2159,  255],\n",
              "       [ 343,  243]])"
            ]
          },
          "metadata": {},
          "execution_count": 67
        }
      ]
    },
    {
      "cell_type": "code",
      "source": [
        "print(classification_report(y_test, grid_predictions))"
      ],
      "metadata": {
        "colab": {
          "base_uri": "https://localhost:8080/"
        },
        "id": "VzdXltP_1BSO",
        "outputId": "5e742716-398a-4bbd-e241-917e2e28f8b1"
      },
      "execution_count": null,
      "outputs": [
        {
          "output_type": "stream",
          "name": "stdout",
          "text": [
            "              precision    recall  f1-score   support\n",
            "\n",
            "           0       0.86      0.89      0.88      2414\n",
            "           1       0.49      0.41      0.45       586\n",
            "\n",
            "    accuracy                           0.80      3000\n",
            "   macro avg       0.68      0.65      0.66      3000\n",
            "weighted avg       0.79      0.80      0.79      3000\n",
            "\n"
          ]
        }
      ]
    },
    {
      "cell_type": "markdown",
      "source": [
        "## Model with Random Under Sampling"
      ],
      "metadata": {
        "id": "vbUAl1FB1SDg"
      }
    },
    {
      "cell_type": "code",
      "source": [
        "svc_rus = SVC()"
      ],
      "metadata": {
        "id": "QxOpHmH81I8C"
      },
      "execution_count": null,
      "outputs": []
    },
    {
      "cell_type": "code",
      "source": [
        "svc_rus.fit(X_train_rus, y_train_rus)"
      ],
      "metadata": {
        "colab": {
          "base_uri": "https://localhost:8080/",
          "height": 80
        },
        "id": "_udQc_JW1cOL",
        "outputId": "c709320a-294f-46eb-b137-bda38cf65ffb"
      },
      "execution_count": null,
      "outputs": [
        {
          "output_type": "execute_result",
          "data": {
            "text/plain": [
              "SVC()"
            ],
            "text/html": [
              "<style>#sk-container-id-3 {\n",
              "  /* Definition of color scheme common for light and dark mode */\n",
              "  --sklearn-color-text: black;\n",
              "  --sklearn-color-line: gray;\n",
              "  /* Definition of color scheme for unfitted estimators */\n",
              "  --sklearn-color-unfitted-level-0: #fff5e6;\n",
              "  --sklearn-color-unfitted-level-1: #f6e4d2;\n",
              "  --sklearn-color-unfitted-level-2: #ffe0b3;\n",
              "  --sklearn-color-unfitted-level-3: chocolate;\n",
              "  /* Definition of color scheme for fitted estimators */\n",
              "  --sklearn-color-fitted-level-0: #f0f8ff;\n",
              "  --sklearn-color-fitted-level-1: #d4ebff;\n",
              "  --sklearn-color-fitted-level-2: #b3dbfd;\n",
              "  --sklearn-color-fitted-level-3: cornflowerblue;\n",
              "\n",
              "  /* Specific color for light theme */\n",
              "  --sklearn-color-text-on-default-background: var(--sg-text-color, var(--theme-code-foreground, var(--jp-content-font-color1, black)));\n",
              "  --sklearn-color-background: var(--sg-background-color, var(--theme-background, var(--jp-layout-color0, white)));\n",
              "  --sklearn-color-border-box: var(--sg-text-color, var(--theme-code-foreground, var(--jp-content-font-color1, black)));\n",
              "  --sklearn-color-icon: #696969;\n",
              "\n",
              "  @media (prefers-color-scheme: dark) {\n",
              "    /* Redefinition of color scheme for dark theme */\n",
              "    --sklearn-color-text-on-default-background: var(--sg-text-color, var(--theme-code-foreground, var(--jp-content-font-color1, white)));\n",
              "    --sklearn-color-background: var(--sg-background-color, var(--theme-background, var(--jp-layout-color0, #111)));\n",
              "    --sklearn-color-border-box: var(--sg-text-color, var(--theme-code-foreground, var(--jp-content-font-color1, white)));\n",
              "    --sklearn-color-icon: #878787;\n",
              "  }\n",
              "}\n",
              "\n",
              "#sk-container-id-3 {\n",
              "  color: var(--sklearn-color-text);\n",
              "}\n",
              "\n",
              "#sk-container-id-3 pre {\n",
              "  padding: 0;\n",
              "}\n",
              "\n",
              "#sk-container-id-3 input.sk-hidden--visually {\n",
              "  border: 0;\n",
              "  clip: rect(1px 1px 1px 1px);\n",
              "  clip: rect(1px, 1px, 1px, 1px);\n",
              "  height: 1px;\n",
              "  margin: -1px;\n",
              "  overflow: hidden;\n",
              "  padding: 0;\n",
              "  position: absolute;\n",
              "  width: 1px;\n",
              "}\n",
              "\n",
              "#sk-container-id-3 div.sk-dashed-wrapped {\n",
              "  border: 1px dashed var(--sklearn-color-line);\n",
              "  margin: 0 0.4em 0.5em 0.4em;\n",
              "  box-sizing: border-box;\n",
              "  padding-bottom: 0.4em;\n",
              "  background-color: var(--sklearn-color-background);\n",
              "}\n",
              "\n",
              "#sk-container-id-3 div.sk-container {\n",
              "  /* jupyter's `normalize.less` sets `[hidden] { display: none; }`\n",
              "     but bootstrap.min.css set `[hidden] { display: none !important; }`\n",
              "     so we also need the `!important` here to be able to override the\n",
              "     default hidden behavior on the sphinx rendered scikit-learn.org.\n",
              "     See: https://github.com/scikit-learn/scikit-learn/issues/21755 */\n",
              "  display: inline-block !important;\n",
              "  position: relative;\n",
              "}\n",
              "\n",
              "#sk-container-id-3 div.sk-text-repr-fallback {\n",
              "  display: none;\n",
              "}\n",
              "\n",
              "div.sk-parallel-item,\n",
              "div.sk-serial,\n",
              "div.sk-item {\n",
              "  /* draw centered vertical line to link estimators */\n",
              "  background-image: linear-gradient(var(--sklearn-color-text-on-default-background), var(--sklearn-color-text-on-default-background));\n",
              "  background-size: 2px 100%;\n",
              "  background-repeat: no-repeat;\n",
              "  background-position: center center;\n",
              "}\n",
              "\n",
              "/* Parallel-specific style estimator block */\n",
              "\n",
              "#sk-container-id-3 div.sk-parallel-item::after {\n",
              "  content: \"\";\n",
              "  width: 100%;\n",
              "  border-bottom: 2px solid var(--sklearn-color-text-on-default-background);\n",
              "  flex-grow: 1;\n",
              "}\n",
              "\n",
              "#sk-container-id-3 div.sk-parallel {\n",
              "  display: flex;\n",
              "  align-items: stretch;\n",
              "  justify-content: center;\n",
              "  background-color: var(--sklearn-color-background);\n",
              "  position: relative;\n",
              "}\n",
              "\n",
              "#sk-container-id-3 div.sk-parallel-item {\n",
              "  display: flex;\n",
              "  flex-direction: column;\n",
              "}\n",
              "\n",
              "#sk-container-id-3 div.sk-parallel-item:first-child::after {\n",
              "  align-self: flex-end;\n",
              "  width: 50%;\n",
              "}\n",
              "\n",
              "#sk-container-id-3 div.sk-parallel-item:last-child::after {\n",
              "  align-self: flex-start;\n",
              "  width: 50%;\n",
              "}\n",
              "\n",
              "#sk-container-id-3 div.sk-parallel-item:only-child::after {\n",
              "  width: 0;\n",
              "}\n",
              "\n",
              "/* Serial-specific style estimator block */\n",
              "\n",
              "#sk-container-id-3 div.sk-serial {\n",
              "  display: flex;\n",
              "  flex-direction: column;\n",
              "  align-items: center;\n",
              "  background-color: var(--sklearn-color-background);\n",
              "  padding-right: 1em;\n",
              "  padding-left: 1em;\n",
              "}\n",
              "\n",
              "\n",
              "/* Toggleable style: style used for estimator/Pipeline/ColumnTransformer box that is\n",
              "clickable and can be expanded/collapsed.\n",
              "- Pipeline and ColumnTransformer use this feature and define the default style\n",
              "- Estimators will overwrite some part of the style using the `sk-estimator` class\n",
              "*/\n",
              "\n",
              "/* Pipeline and ColumnTransformer style (default) */\n",
              "\n",
              "#sk-container-id-3 div.sk-toggleable {\n",
              "  /* Default theme specific background. It is overwritten whether we have a\n",
              "  specific estimator or a Pipeline/ColumnTransformer */\n",
              "  background-color: var(--sklearn-color-background);\n",
              "}\n",
              "\n",
              "/* Toggleable label */\n",
              "#sk-container-id-3 label.sk-toggleable__label {\n",
              "  cursor: pointer;\n",
              "  display: block;\n",
              "  width: 100%;\n",
              "  margin-bottom: 0;\n",
              "  padding: 0.5em;\n",
              "  box-sizing: border-box;\n",
              "  text-align: center;\n",
              "}\n",
              "\n",
              "#sk-container-id-3 label.sk-toggleable__label-arrow:before {\n",
              "  /* Arrow on the left of the label */\n",
              "  content: \"▸\";\n",
              "  float: left;\n",
              "  margin-right: 0.25em;\n",
              "  color: var(--sklearn-color-icon);\n",
              "}\n",
              "\n",
              "#sk-container-id-3 label.sk-toggleable__label-arrow:hover:before {\n",
              "  color: var(--sklearn-color-text);\n",
              "}\n",
              "\n",
              "/* Toggleable content - dropdown */\n",
              "\n",
              "#sk-container-id-3 div.sk-toggleable__content {\n",
              "  max-height: 0;\n",
              "  max-width: 0;\n",
              "  overflow: hidden;\n",
              "  text-align: left;\n",
              "  /* unfitted */\n",
              "  background-color: var(--sklearn-color-unfitted-level-0);\n",
              "}\n",
              "\n",
              "#sk-container-id-3 div.sk-toggleable__content.fitted {\n",
              "  /* fitted */\n",
              "  background-color: var(--sklearn-color-fitted-level-0);\n",
              "}\n",
              "\n",
              "#sk-container-id-3 div.sk-toggleable__content pre {\n",
              "  margin: 0.2em;\n",
              "  border-radius: 0.25em;\n",
              "  color: var(--sklearn-color-text);\n",
              "  /* unfitted */\n",
              "  background-color: var(--sklearn-color-unfitted-level-0);\n",
              "}\n",
              "\n",
              "#sk-container-id-3 div.sk-toggleable__content.fitted pre {\n",
              "  /* unfitted */\n",
              "  background-color: var(--sklearn-color-fitted-level-0);\n",
              "}\n",
              "\n",
              "#sk-container-id-3 input.sk-toggleable__control:checked~div.sk-toggleable__content {\n",
              "  /* Expand drop-down */\n",
              "  max-height: 200px;\n",
              "  max-width: 100%;\n",
              "  overflow: auto;\n",
              "}\n",
              "\n",
              "#sk-container-id-3 input.sk-toggleable__control:checked~label.sk-toggleable__label-arrow:before {\n",
              "  content: \"▾\";\n",
              "}\n",
              "\n",
              "/* Pipeline/ColumnTransformer-specific style */\n",
              "\n",
              "#sk-container-id-3 div.sk-label input.sk-toggleable__control:checked~label.sk-toggleable__label {\n",
              "  color: var(--sklearn-color-text);\n",
              "  background-color: var(--sklearn-color-unfitted-level-2);\n",
              "}\n",
              "\n",
              "#sk-container-id-3 div.sk-label.fitted input.sk-toggleable__control:checked~label.sk-toggleable__label {\n",
              "  background-color: var(--sklearn-color-fitted-level-2);\n",
              "}\n",
              "\n",
              "/* Estimator-specific style */\n",
              "\n",
              "/* Colorize estimator box */\n",
              "#sk-container-id-3 div.sk-estimator input.sk-toggleable__control:checked~label.sk-toggleable__label {\n",
              "  /* unfitted */\n",
              "  background-color: var(--sklearn-color-unfitted-level-2);\n",
              "}\n",
              "\n",
              "#sk-container-id-3 div.sk-estimator.fitted input.sk-toggleable__control:checked~label.sk-toggleable__label {\n",
              "  /* fitted */\n",
              "  background-color: var(--sklearn-color-fitted-level-2);\n",
              "}\n",
              "\n",
              "#sk-container-id-3 div.sk-label label.sk-toggleable__label,\n",
              "#sk-container-id-3 div.sk-label label {\n",
              "  /* The background is the default theme color */\n",
              "  color: var(--sklearn-color-text-on-default-background);\n",
              "}\n",
              "\n",
              "/* On hover, darken the color of the background */\n",
              "#sk-container-id-3 div.sk-label:hover label.sk-toggleable__label {\n",
              "  color: var(--sklearn-color-text);\n",
              "  background-color: var(--sklearn-color-unfitted-level-2);\n",
              "}\n",
              "\n",
              "/* Label box, darken color on hover, fitted */\n",
              "#sk-container-id-3 div.sk-label.fitted:hover label.sk-toggleable__label.fitted {\n",
              "  color: var(--sklearn-color-text);\n",
              "  background-color: var(--sklearn-color-fitted-level-2);\n",
              "}\n",
              "\n",
              "/* Estimator label */\n",
              "\n",
              "#sk-container-id-3 div.sk-label label {\n",
              "  font-family: monospace;\n",
              "  font-weight: bold;\n",
              "  display: inline-block;\n",
              "  line-height: 1.2em;\n",
              "}\n",
              "\n",
              "#sk-container-id-3 div.sk-label-container {\n",
              "  text-align: center;\n",
              "}\n",
              "\n",
              "/* Estimator-specific */\n",
              "#sk-container-id-3 div.sk-estimator {\n",
              "  font-family: monospace;\n",
              "  border: 1px dotted var(--sklearn-color-border-box);\n",
              "  border-radius: 0.25em;\n",
              "  box-sizing: border-box;\n",
              "  margin-bottom: 0.5em;\n",
              "  /* unfitted */\n",
              "  background-color: var(--sklearn-color-unfitted-level-0);\n",
              "}\n",
              "\n",
              "#sk-container-id-3 div.sk-estimator.fitted {\n",
              "  /* fitted */\n",
              "  background-color: var(--sklearn-color-fitted-level-0);\n",
              "}\n",
              "\n",
              "/* on hover */\n",
              "#sk-container-id-3 div.sk-estimator:hover {\n",
              "  /* unfitted */\n",
              "  background-color: var(--sklearn-color-unfitted-level-2);\n",
              "}\n",
              "\n",
              "#sk-container-id-3 div.sk-estimator.fitted:hover {\n",
              "  /* fitted */\n",
              "  background-color: var(--sklearn-color-fitted-level-2);\n",
              "}\n",
              "\n",
              "/* Specification for estimator info (e.g. \"i\" and \"?\") */\n",
              "\n",
              "/* Common style for \"i\" and \"?\" */\n",
              "\n",
              ".sk-estimator-doc-link,\n",
              "a:link.sk-estimator-doc-link,\n",
              "a:visited.sk-estimator-doc-link {\n",
              "  float: right;\n",
              "  font-size: smaller;\n",
              "  line-height: 1em;\n",
              "  font-family: monospace;\n",
              "  background-color: var(--sklearn-color-background);\n",
              "  border-radius: 1em;\n",
              "  height: 1em;\n",
              "  width: 1em;\n",
              "  text-decoration: none !important;\n",
              "  margin-left: 1ex;\n",
              "  /* unfitted */\n",
              "  border: var(--sklearn-color-unfitted-level-1) 1pt solid;\n",
              "  color: var(--sklearn-color-unfitted-level-1);\n",
              "}\n",
              "\n",
              ".sk-estimator-doc-link.fitted,\n",
              "a:link.sk-estimator-doc-link.fitted,\n",
              "a:visited.sk-estimator-doc-link.fitted {\n",
              "  /* fitted */\n",
              "  border: var(--sklearn-color-fitted-level-1) 1pt solid;\n",
              "  color: var(--sklearn-color-fitted-level-1);\n",
              "}\n",
              "\n",
              "/* On hover */\n",
              "div.sk-estimator:hover .sk-estimator-doc-link:hover,\n",
              ".sk-estimator-doc-link:hover,\n",
              "div.sk-label-container:hover .sk-estimator-doc-link:hover,\n",
              ".sk-estimator-doc-link:hover {\n",
              "  /* unfitted */\n",
              "  background-color: var(--sklearn-color-unfitted-level-3);\n",
              "  color: var(--sklearn-color-background);\n",
              "  text-decoration: none;\n",
              "}\n",
              "\n",
              "div.sk-estimator.fitted:hover .sk-estimator-doc-link.fitted:hover,\n",
              ".sk-estimator-doc-link.fitted:hover,\n",
              "div.sk-label-container:hover .sk-estimator-doc-link.fitted:hover,\n",
              ".sk-estimator-doc-link.fitted:hover {\n",
              "  /* fitted */\n",
              "  background-color: var(--sklearn-color-fitted-level-3);\n",
              "  color: var(--sklearn-color-background);\n",
              "  text-decoration: none;\n",
              "}\n",
              "\n",
              "/* Span, style for the box shown on hovering the info icon */\n",
              ".sk-estimator-doc-link span {\n",
              "  display: none;\n",
              "  z-index: 9999;\n",
              "  position: relative;\n",
              "  font-weight: normal;\n",
              "  right: .2ex;\n",
              "  padding: .5ex;\n",
              "  margin: .5ex;\n",
              "  width: min-content;\n",
              "  min-width: 20ex;\n",
              "  max-width: 50ex;\n",
              "  color: var(--sklearn-color-text);\n",
              "  box-shadow: 2pt 2pt 4pt #999;\n",
              "  /* unfitted */\n",
              "  background: var(--sklearn-color-unfitted-level-0);\n",
              "  border: .5pt solid var(--sklearn-color-unfitted-level-3);\n",
              "}\n",
              "\n",
              ".sk-estimator-doc-link.fitted span {\n",
              "  /* fitted */\n",
              "  background: var(--sklearn-color-fitted-level-0);\n",
              "  border: var(--sklearn-color-fitted-level-3);\n",
              "}\n",
              "\n",
              ".sk-estimator-doc-link:hover span {\n",
              "  display: block;\n",
              "}\n",
              "\n",
              "/* \"?\"-specific style due to the `<a>` HTML tag */\n",
              "\n",
              "#sk-container-id-3 a.estimator_doc_link {\n",
              "  float: right;\n",
              "  font-size: 1rem;\n",
              "  line-height: 1em;\n",
              "  font-family: monospace;\n",
              "  background-color: var(--sklearn-color-background);\n",
              "  border-radius: 1rem;\n",
              "  height: 1rem;\n",
              "  width: 1rem;\n",
              "  text-decoration: none;\n",
              "  /* unfitted */\n",
              "  color: var(--sklearn-color-unfitted-level-1);\n",
              "  border: var(--sklearn-color-unfitted-level-1) 1pt solid;\n",
              "}\n",
              "\n",
              "#sk-container-id-3 a.estimator_doc_link.fitted {\n",
              "  /* fitted */\n",
              "  border: var(--sklearn-color-fitted-level-1) 1pt solid;\n",
              "  color: var(--sklearn-color-fitted-level-1);\n",
              "}\n",
              "\n",
              "/* On hover */\n",
              "#sk-container-id-3 a.estimator_doc_link:hover {\n",
              "  /* unfitted */\n",
              "  background-color: var(--sklearn-color-unfitted-level-3);\n",
              "  color: var(--sklearn-color-background);\n",
              "  text-decoration: none;\n",
              "}\n",
              "\n",
              "#sk-container-id-3 a.estimator_doc_link.fitted:hover {\n",
              "  /* fitted */\n",
              "  background-color: var(--sklearn-color-fitted-level-3);\n",
              "}\n",
              "</style><div id=\"sk-container-id-3\" class=\"sk-top-container\"><div class=\"sk-text-repr-fallback\"><pre>SVC()</pre><b>In a Jupyter environment, please rerun this cell to show the HTML representation or trust the notebook. <br />On GitHub, the HTML representation is unable to render, please try loading this page with nbviewer.org.</b></div><div class=\"sk-container\" hidden><div class=\"sk-item\"><div class=\"sk-estimator fitted sk-toggleable\"><input class=\"sk-toggleable__control sk-hidden--visually\" id=\"sk-estimator-id-5\" type=\"checkbox\" checked><label for=\"sk-estimator-id-5\" class=\"sk-toggleable__label fitted sk-toggleable__label-arrow fitted\">&nbsp;&nbsp;SVC<a class=\"sk-estimator-doc-link fitted\" rel=\"noreferrer\" target=\"_blank\" href=\"https://scikit-learn.org/1.5/modules/generated/sklearn.svm.SVC.html\">?<span>Documentation for SVC</span></a><span class=\"sk-estimator-doc-link fitted\">i<span>Fitted</span></span></label><div class=\"sk-toggleable__content fitted\"><pre>SVC()</pre></div> </div></div></div></div>"
            ]
          },
          "metadata": {},
          "execution_count": 70
        }
      ]
    },
    {
      "cell_type": "code",
      "source": [
        "y_pred_rus = svc_rus.predict(X_test_rus)"
      ],
      "metadata": {
        "id": "XfUAdvbb1hB7"
      },
      "execution_count": null,
      "outputs": []
    },
    {
      "cell_type": "markdown",
      "source": [
        "## Model Accuracy"
      ],
      "metadata": {
        "id": "PLlQxyAF1pMQ"
      }
    },
    {
      "cell_type": "code",
      "source": [
        "confusion_matrix(y_test_rus, y_pred_rus)"
      ],
      "metadata": {
        "colab": {
          "base_uri": "https://localhost:8080/"
        },
        "id": "ATkfOSLP1oDE",
        "outputId": "61d89d26-a26b-4679-8b2e-c804c5d2bb9f"
      },
      "execution_count": null,
      "outputs": [
        {
          "output_type": "execute_result",
          "data": {
            "text/plain": [
              "array([[470, 157],\n",
              "       [174, 422]])"
            ]
          },
          "metadata": {},
          "execution_count": 72
        }
      ]
    },
    {
      "cell_type": "code",
      "source": [
        "print(classification_report(y_test_rus, y_pred_rus))"
      ],
      "metadata": {
        "colab": {
          "base_uri": "https://localhost:8080/"
        },
        "id": "6eH1oRjL1wci",
        "outputId": "5c073b67-50a8-4db0-b2f2-719d46688356"
      },
      "execution_count": null,
      "outputs": [
        {
          "output_type": "stream",
          "name": "stdout",
          "text": [
            "              precision    recall  f1-score   support\n",
            "\n",
            "           0       0.73      0.75      0.74       627\n",
            "           1       0.73      0.71      0.72       596\n",
            "\n",
            "    accuracy                           0.73      1223\n",
            "   macro avg       0.73      0.73      0.73      1223\n",
            "weighted avg       0.73      0.73      0.73      1223\n",
            "\n"
          ]
        }
      ]
    },
    {
      "cell_type": "code",
      "source": [
        "param_grid = {'C': [0.1,1,10],\n",
        "              'gamma': [1,0.1,0.01],\n",
        "              'kernel': ['rbf'],\n",
        "              'class_weight': ['balanced']}"
      ],
      "metadata": {
        "id": "IwLHBrmW16qw"
      },
      "execution_count": null,
      "outputs": []
    },
    {
      "cell_type": "code",
      "source": [
        "grid_rus = GridSearchCV(SVC(), param_grid, refit=True, verbose=2, cv=2)\n",
        "grid_rus.fit(X_train_rus,y_train_rus)"
      ],
      "metadata": {
        "colab": {
          "base_uri": "https://localhost:8080/",
          "height": 464
        },
        "id": "PSQtEa-C2OFo",
        "outputId": "28d83ff8-9d32-4032-c429-9ee5c0173e50"
      },
      "execution_count": null,
      "outputs": [
        {
          "output_type": "stream",
          "name": "stdout",
          "text": [
            "Fitting 2 folds for each of 9 candidates, totalling 18 fits\n",
            "[CV] END ..C=0.1, class_weight=balanced, gamma=1, kernel=rbf; total time=   0.5s\n",
            "[CV] END ..C=0.1, class_weight=balanced, gamma=1, kernel=rbf; total time=   0.9s\n",
            "[CV] END C=0.1, class_weight=balanced, gamma=0.1, kernel=rbf; total time=   0.6s\n",
            "[CV] END C=0.1, class_weight=balanced, gamma=0.1, kernel=rbf; total time=   0.5s\n",
            "[CV] END C=0.1, class_weight=balanced, gamma=0.01, kernel=rbf; total time=   0.8s\n",
            "[CV] END C=0.1, class_weight=balanced, gamma=0.01, kernel=rbf; total time=   0.7s\n",
            "[CV] END ....C=1, class_weight=balanced, gamma=1, kernel=rbf; total time=   0.4s\n",
            "[CV] END ....C=1, class_weight=balanced, gamma=1, kernel=rbf; total time=   0.4s\n",
            "[CV] END ..C=1, class_weight=balanced, gamma=0.1, kernel=rbf; total time=   0.3s\n",
            "[CV] END ..C=1, class_weight=balanced, gamma=0.1, kernel=rbf; total time=   0.3s\n",
            "[CV] END .C=1, class_weight=balanced, gamma=0.01, kernel=rbf; total time=   0.2s\n",
            "[CV] END .C=1, class_weight=balanced, gamma=0.01, kernel=rbf; total time=   0.2s\n",
            "[CV] END ...C=10, class_weight=balanced, gamma=1, kernel=rbf; total time=   0.2s\n",
            "[CV] END ...C=10, class_weight=balanced, gamma=1, kernel=rbf; total time=   0.2s\n",
            "[CV] END .C=10, class_weight=balanced, gamma=0.1, kernel=rbf; total time=   0.2s\n",
            "[CV] END .C=10, class_weight=balanced, gamma=0.1, kernel=rbf; total time=   0.2s\n",
            "[CV] END C=10, class_weight=balanced, gamma=0.01, kernel=rbf; total time=   0.2s\n",
            "[CV] END C=10, class_weight=balanced, gamma=0.01, kernel=rbf; total time=   0.2s\n"
          ]
        },
        {
          "output_type": "execute_result",
          "data": {
            "text/plain": [
              "GridSearchCV(cv=2, estimator=SVC(),\n",
              "             param_grid={'C': [0.1, 1, 10], 'class_weight': ['balanced'],\n",
              "                         'gamma': [1, 0.1, 0.01], 'kernel': ['rbf']},\n",
              "             verbose=2)"
            ],
            "text/html": [
              "<style>#sk-container-id-4 {\n",
              "  /* Definition of color scheme common for light and dark mode */\n",
              "  --sklearn-color-text: black;\n",
              "  --sklearn-color-line: gray;\n",
              "  /* Definition of color scheme for unfitted estimators */\n",
              "  --sklearn-color-unfitted-level-0: #fff5e6;\n",
              "  --sklearn-color-unfitted-level-1: #f6e4d2;\n",
              "  --sklearn-color-unfitted-level-2: #ffe0b3;\n",
              "  --sklearn-color-unfitted-level-3: chocolate;\n",
              "  /* Definition of color scheme for fitted estimators */\n",
              "  --sklearn-color-fitted-level-0: #f0f8ff;\n",
              "  --sklearn-color-fitted-level-1: #d4ebff;\n",
              "  --sklearn-color-fitted-level-2: #b3dbfd;\n",
              "  --sklearn-color-fitted-level-3: cornflowerblue;\n",
              "\n",
              "  /* Specific color for light theme */\n",
              "  --sklearn-color-text-on-default-background: var(--sg-text-color, var(--theme-code-foreground, var(--jp-content-font-color1, black)));\n",
              "  --sklearn-color-background: var(--sg-background-color, var(--theme-background, var(--jp-layout-color0, white)));\n",
              "  --sklearn-color-border-box: var(--sg-text-color, var(--theme-code-foreground, var(--jp-content-font-color1, black)));\n",
              "  --sklearn-color-icon: #696969;\n",
              "\n",
              "  @media (prefers-color-scheme: dark) {\n",
              "    /* Redefinition of color scheme for dark theme */\n",
              "    --sklearn-color-text-on-default-background: var(--sg-text-color, var(--theme-code-foreground, var(--jp-content-font-color1, white)));\n",
              "    --sklearn-color-background: var(--sg-background-color, var(--theme-background, var(--jp-layout-color0, #111)));\n",
              "    --sklearn-color-border-box: var(--sg-text-color, var(--theme-code-foreground, var(--jp-content-font-color1, white)));\n",
              "    --sklearn-color-icon: #878787;\n",
              "  }\n",
              "}\n",
              "\n",
              "#sk-container-id-4 {\n",
              "  color: var(--sklearn-color-text);\n",
              "}\n",
              "\n",
              "#sk-container-id-4 pre {\n",
              "  padding: 0;\n",
              "}\n",
              "\n",
              "#sk-container-id-4 input.sk-hidden--visually {\n",
              "  border: 0;\n",
              "  clip: rect(1px 1px 1px 1px);\n",
              "  clip: rect(1px, 1px, 1px, 1px);\n",
              "  height: 1px;\n",
              "  margin: -1px;\n",
              "  overflow: hidden;\n",
              "  padding: 0;\n",
              "  position: absolute;\n",
              "  width: 1px;\n",
              "}\n",
              "\n",
              "#sk-container-id-4 div.sk-dashed-wrapped {\n",
              "  border: 1px dashed var(--sklearn-color-line);\n",
              "  margin: 0 0.4em 0.5em 0.4em;\n",
              "  box-sizing: border-box;\n",
              "  padding-bottom: 0.4em;\n",
              "  background-color: var(--sklearn-color-background);\n",
              "}\n",
              "\n",
              "#sk-container-id-4 div.sk-container {\n",
              "  /* jupyter's `normalize.less` sets `[hidden] { display: none; }`\n",
              "     but bootstrap.min.css set `[hidden] { display: none !important; }`\n",
              "     so we also need the `!important` here to be able to override the\n",
              "     default hidden behavior on the sphinx rendered scikit-learn.org.\n",
              "     See: https://github.com/scikit-learn/scikit-learn/issues/21755 */\n",
              "  display: inline-block !important;\n",
              "  position: relative;\n",
              "}\n",
              "\n",
              "#sk-container-id-4 div.sk-text-repr-fallback {\n",
              "  display: none;\n",
              "}\n",
              "\n",
              "div.sk-parallel-item,\n",
              "div.sk-serial,\n",
              "div.sk-item {\n",
              "  /* draw centered vertical line to link estimators */\n",
              "  background-image: linear-gradient(var(--sklearn-color-text-on-default-background), var(--sklearn-color-text-on-default-background));\n",
              "  background-size: 2px 100%;\n",
              "  background-repeat: no-repeat;\n",
              "  background-position: center center;\n",
              "}\n",
              "\n",
              "/* Parallel-specific style estimator block */\n",
              "\n",
              "#sk-container-id-4 div.sk-parallel-item::after {\n",
              "  content: \"\";\n",
              "  width: 100%;\n",
              "  border-bottom: 2px solid var(--sklearn-color-text-on-default-background);\n",
              "  flex-grow: 1;\n",
              "}\n",
              "\n",
              "#sk-container-id-4 div.sk-parallel {\n",
              "  display: flex;\n",
              "  align-items: stretch;\n",
              "  justify-content: center;\n",
              "  background-color: var(--sklearn-color-background);\n",
              "  position: relative;\n",
              "}\n",
              "\n",
              "#sk-container-id-4 div.sk-parallel-item {\n",
              "  display: flex;\n",
              "  flex-direction: column;\n",
              "}\n",
              "\n",
              "#sk-container-id-4 div.sk-parallel-item:first-child::after {\n",
              "  align-self: flex-end;\n",
              "  width: 50%;\n",
              "}\n",
              "\n",
              "#sk-container-id-4 div.sk-parallel-item:last-child::after {\n",
              "  align-self: flex-start;\n",
              "  width: 50%;\n",
              "}\n",
              "\n",
              "#sk-container-id-4 div.sk-parallel-item:only-child::after {\n",
              "  width: 0;\n",
              "}\n",
              "\n",
              "/* Serial-specific style estimator block */\n",
              "\n",
              "#sk-container-id-4 div.sk-serial {\n",
              "  display: flex;\n",
              "  flex-direction: column;\n",
              "  align-items: center;\n",
              "  background-color: var(--sklearn-color-background);\n",
              "  padding-right: 1em;\n",
              "  padding-left: 1em;\n",
              "}\n",
              "\n",
              "\n",
              "/* Toggleable style: style used for estimator/Pipeline/ColumnTransformer box that is\n",
              "clickable and can be expanded/collapsed.\n",
              "- Pipeline and ColumnTransformer use this feature and define the default style\n",
              "- Estimators will overwrite some part of the style using the `sk-estimator` class\n",
              "*/\n",
              "\n",
              "/* Pipeline and ColumnTransformer style (default) */\n",
              "\n",
              "#sk-container-id-4 div.sk-toggleable {\n",
              "  /* Default theme specific background. It is overwritten whether we have a\n",
              "  specific estimator or a Pipeline/ColumnTransformer */\n",
              "  background-color: var(--sklearn-color-background);\n",
              "}\n",
              "\n",
              "/* Toggleable label */\n",
              "#sk-container-id-4 label.sk-toggleable__label {\n",
              "  cursor: pointer;\n",
              "  display: block;\n",
              "  width: 100%;\n",
              "  margin-bottom: 0;\n",
              "  padding: 0.5em;\n",
              "  box-sizing: border-box;\n",
              "  text-align: center;\n",
              "}\n",
              "\n",
              "#sk-container-id-4 label.sk-toggleable__label-arrow:before {\n",
              "  /* Arrow on the left of the label */\n",
              "  content: \"▸\";\n",
              "  float: left;\n",
              "  margin-right: 0.25em;\n",
              "  color: var(--sklearn-color-icon);\n",
              "}\n",
              "\n",
              "#sk-container-id-4 label.sk-toggleable__label-arrow:hover:before {\n",
              "  color: var(--sklearn-color-text);\n",
              "}\n",
              "\n",
              "/* Toggleable content - dropdown */\n",
              "\n",
              "#sk-container-id-4 div.sk-toggleable__content {\n",
              "  max-height: 0;\n",
              "  max-width: 0;\n",
              "  overflow: hidden;\n",
              "  text-align: left;\n",
              "  /* unfitted */\n",
              "  background-color: var(--sklearn-color-unfitted-level-0);\n",
              "}\n",
              "\n",
              "#sk-container-id-4 div.sk-toggleable__content.fitted {\n",
              "  /* fitted */\n",
              "  background-color: var(--sklearn-color-fitted-level-0);\n",
              "}\n",
              "\n",
              "#sk-container-id-4 div.sk-toggleable__content pre {\n",
              "  margin: 0.2em;\n",
              "  border-radius: 0.25em;\n",
              "  color: var(--sklearn-color-text);\n",
              "  /* unfitted */\n",
              "  background-color: var(--sklearn-color-unfitted-level-0);\n",
              "}\n",
              "\n",
              "#sk-container-id-4 div.sk-toggleable__content.fitted pre {\n",
              "  /* unfitted */\n",
              "  background-color: var(--sklearn-color-fitted-level-0);\n",
              "}\n",
              "\n",
              "#sk-container-id-4 input.sk-toggleable__control:checked~div.sk-toggleable__content {\n",
              "  /* Expand drop-down */\n",
              "  max-height: 200px;\n",
              "  max-width: 100%;\n",
              "  overflow: auto;\n",
              "}\n",
              "\n",
              "#sk-container-id-4 input.sk-toggleable__control:checked~label.sk-toggleable__label-arrow:before {\n",
              "  content: \"▾\";\n",
              "}\n",
              "\n",
              "/* Pipeline/ColumnTransformer-specific style */\n",
              "\n",
              "#sk-container-id-4 div.sk-label input.sk-toggleable__control:checked~label.sk-toggleable__label {\n",
              "  color: var(--sklearn-color-text);\n",
              "  background-color: var(--sklearn-color-unfitted-level-2);\n",
              "}\n",
              "\n",
              "#sk-container-id-4 div.sk-label.fitted input.sk-toggleable__control:checked~label.sk-toggleable__label {\n",
              "  background-color: var(--sklearn-color-fitted-level-2);\n",
              "}\n",
              "\n",
              "/* Estimator-specific style */\n",
              "\n",
              "/* Colorize estimator box */\n",
              "#sk-container-id-4 div.sk-estimator input.sk-toggleable__control:checked~label.sk-toggleable__label {\n",
              "  /* unfitted */\n",
              "  background-color: var(--sklearn-color-unfitted-level-2);\n",
              "}\n",
              "\n",
              "#sk-container-id-4 div.sk-estimator.fitted input.sk-toggleable__control:checked~label.sk-toggleable__label {\n",
              "  /* fitted */\n",
              "  background-color: var(--sklearn-color-fitted-level-2);\n",
              "}\n",
              "\n",
              "#sk-container-id-4 div.sk-label label.sk-toggleable__label,\n",
              "#sk-container-id-4 div.sk-label label {\n",
              "  /* The background is the default theme color */\n",
              "  color: var(--sklearn-color-text-on-default-background);\n",
              "}\n",
              "\n",
              "/* On hover, darken the color of the background */\n",
              "#sk-container-id-4 div.sk-label:hover label.sk-toggleable__label {\n",
              "  color: var(--sklearn-color-text);\n",
              "  background-color: var(--sklearn-color-unfitted-level-2);\n",
              "}\n",
              "\n",
              "/* Label box, darken color on hover, fitted */\n",
              "#sk-container-id-4 div.sk-label.fitted:hover label.sk-toggleable__label.fitted {\n",
              "  color: var(--sklearn-color-text);\n",
              "  background-color: var(--sklearn-color-fitted-level-2);\n",
              "}\n",
              "\n",
              "/* Estimator label */\n",
              "\n",
              "#sk-container-id-4 div.sk-label label {\n",
              "  font-family: monospace;\n",
              "  font-weight: bold;\n",
              "  display: inline-block;\n",
              "  line-height: 1.2em;\n",
              "}\n",
              "\n",
              "#sk-container-id-4 div.sk-label-container {\n",
              "  text-align: center;\n",
              "}\n",
              "\n",
              "/* Estimator-specific */\n",
              "#sk-container-id-4 div.sk-estimator {\n",
              "  font-family: monospace;\n",
              "  border: 1px dotted var(--sklearn-color-border-box);\n",
              "  border-radius: 0.25em;\n",
              "  box-sizing: border-box;\n",
              "  margin-bottom: 0.5em;\n",
              "  /* unfitted */\n",
              "  background-color: var(--sklearn-color-unfitted-level-0);\n",
              "}\n",
              "\n",
              "#sk-container-id-4 div.sk-estimator.fitted {\n",
              "  /* fitted */\n",
              "  background-color: var(--sklearn-color-fitted-level-0);\n",
              "}\n",
              "\n",
              "/* on hover */\n",
              "#sk-container-id-4 div.sk-estimator:hover {\n",
              "  /* unfitted */\n",
              "  background-color: var(--sklearn-color-unfitted-level-2);\n",
              "}\n",
              "\n",
              "#sk-container-id-4 div.sk-estimator.fitted:hover {\n",
              "  /* fitted */\n",
              "  background-color: var(--sklearn-color-fitted-level-2);\n",
              "}\n",
              "\n",
              "/* Specification for estimator info (e.g. \"i\" and \"?\") */\n",
              "\n",
              "/* Common style for \"i\" and \"?\" */\n",
              "\n",
              ".sk-estimator-doc-link,\n",
              "a:link.sk-estimator-doc-link,\n",
              "a:visited.sk-estimator-doc-link {\n",
              "  float: right;\n",
              "  font-size: smaller;\n",
              "  line-height: 1em;\n",
              "  font-family: monospace;\n",
              "  background-color: var(--sklearn-color-background);\n",
              "  border-radius: 1em;\n",
              "  height: 1em;\n",
              "  width: 1em;\n",
              "  text-decoration: none !important;\n",
              "  margin-left: 1ex;\n",
              "  /* unfitted */\n",
              "  border: var(--sklearn-color-unfitted-level-1) 1pt solid;\n",
              "  color: var(--sklearn-color-unfitted-level-1);\n",
              "}\n",
              "\n",
              ".sk-estimator-doc-link.fitted,\n",
              "a:link.sk-estimator-doc-link.fitted,\n",
              "a:visited.sk-estimator-doc-link.fitted {\n",
              "  /* fitted */\n",
              "  border: var(--sklearn-color-fitted-level-1) 1pt solid;\n",
              "  color: var(--sklearn-color-fitted-level-1);\n",
              "}\n",
              "\n",
              "/* On hover */\n",
              "div.sk-estimator:hover .sk-estimator-doc-link:hover,\n",
              ".sk-estimator-doc-link:hover,\n",
              "div.sk-label-container:hover .sk-estimator-doc-link:hover,\n",
              ".sk-estimator-doc-link:hover {\n",
              "  /* unfitted */\n",
              "  background-color: var(--sklearn-color-unfitted-level-3);\n",
              "  color: var(--sklearn-color-background);\n",
              "  text-decoration: none;\n",
              "}\n",
              "\n",
              "div.sk-estimator.fitted:hover .sk-estimator-doc-link.fitted:hover,\n",
              ".sk-estimator-doc-link.fitted:hover,\n",
              "div.sk-label-container:hover .sk-estimator-doc-link.fitted:hover,\n",
              ".sk-estimator-doc-link.fitted:hover {\n",
              "  /* fitted */\n",
              "  background-color: var(--sklearn-color-fitted-level-3);\n",
              "  color: var(--sklearn-color-background);\n",
              "  text-decoration: none;\n",
              "}\n",
              "\n",
              "/* Span, style for the box shown on hovering the info icon */\n",
              ".sk-estimator-doc-link span {\n",
              "  display: none;\n",
              "  z-index: 9999;\n",
              "  position: relative;\n",
              "  font-weight: normal;\n",
              "  right: .2ex;\n",
              "  padding: .5ex;\n",
              "  margin: .5ex;\n",
              "  width: min-content;\n",
              "  min-width: 20ex;\n",
              "  max-width: 50ex;\n",
              "  color: var(--sklearn-color-text);\n",
              "  box-shadow: 2pt 2pt 4pt #999;\n",
              "  /* unfitted */\n",
              "  background: var(--sklearn-color-unfitted-level-0);\n",
              "  border: .5pt solid var(--sklearn-color-unfitted-level-3);\n",
              "}\n",
              "\n",
              ".sk-estimator-doc-link.fitted span {\n",
              "  /* fitted */\n",
              "  background: var(--sklearn-color-fitted-level-0);\n",
              "  border: var(--sklearn-color-fitted-level-3);\n",
              "}\n",
              "\n",
              ".sk-estimator-doc-link:hover span {\n",
              "  display: block;\n",
              "}\n",
              "\n",
              "/* \"?\"-specific style due to the `<a>` HTML tag */\n",
              "\n",
              "#sk-container-id-4 a.estimator_doc_link {\n",
              "  float: right;\n",
              "  font-size: 1rem;\n",
              "  line-height: 1em;\n",
              "  font-family: monospace;\n",
              "  background-color: var(--sklearn-color-background);\n",
              "  border-radius: 1rem;\n",
              "  height: 1rem;\n",
              "  width: 1rem;\n",
              "  text-decoration: none;\n",
              "  /* unfitted */\n",
              "  color: var(--sklearn-color-unfitted-level-1);\n",
              "  border: var(--sklearn-color-unfitted-level-1) 1pt solid;\n",
              "}\n",
              "\n",
              "#sk-container-id-4 a.estimator_doc_link.fitted {\n",
              "  /* fitted */\n",
              "  border: var(--sklearn-color-fitted-level-1) 1pt solid;\n",
              "  color: var(--sklearn-color-fitted-level-1);\n",
              "}\n",
              "\n",
              "/* On hover */\n",
              "#sk-container-id-4 a.estimator_doc_link:hover {\n",
              "  /* unfitted */\n",
              "  background-color: var(--sklearn-color-unfitted-level-3);\n",
              "  color: var(--sklearn-color-background);\n",
              "  text-decoration: none;\n",
              "}\n",
              "\n",
              "#sk-container-id-4 a.estimator_doc_link.fitted:hover {\n",
              "  /* fitted */\n",
              "  background-color: var(--sklearn-color-fitted-level-3);\n",
              "}\n",
              "</style><div id=\"sk-container-id-4\" class=\"sk-top-container\"><div class=\"sk-text-repr-fallback\"><pre>GridSearchCV(cv=2, estimator=SVC(),\n",
              "             param_grid={&#x27;C&#x27;: [0.1, 1, 10], &#x27;class_weight&#x27;: [&#x27;balanced&#x27;],\n",
              "                         &#x27;gamma&#x27;: [1, 0.1, 0.01], &#x27;kernel&#x27;: [&#x27;rbf&#x27;]},\n",
              "             verbose=2)</pre><b>In a Jupyter environment, please rerun this cell to show the HTML representation or trust the notebook. <br />On GitHub, the HTML representation is unable to render, please try loading this page with nbviewer.org.</b></div><div class=\"sk-container\" hidden><div class=\"sk-item sk-dashed-wrapped\"><div class=\"sk-label-container\"><div class=\"sk-label fitted sk-toggleable\"><input class=\"sk-toggleable__control sk-hidden--visually\" id=\"sk-estimator-id-6\" type=\"checkbox\" ><label for=\"sk-estimator-id-6\" class=\"sk-toggleable__label fitted sk-toggleable__label-arrow fitted\">&nbsp;&nbsp;GridSearchCV<a class=\"sk-estimator-doc-link fitted\" rel=\"noreferrer\" target=\"_blank\" href=\"https://scikit-learn.org/1.5/modules/generated/sklearn.model_selection.GridSearchCV.html\">?<span>Documentation for GridSearchCV</span></a><span class=\"sk-estimator-doc-link fitted\">i<span>Fitted</span></span></label><div class=\"sk-toggleable__content fitted\"><pre>GridSearchCV(cv=2, estimator=SVC(),\n",
              "             param_grid={&#x27;C&#x27;: [0.1, 1, 10], &#x27;class_weight&#x27;: [&#x27;balanced&#x27;],\n",
              "                         &#x27;gamma&#x27;: [1, 0.1, 0.01], &#x27;kernel&#x27;: [&#x27;rbf&#x27;]},\n",
              "             verbose=2)</pre></div> </div></div><div class=\"sk-parallel\"><div class=\"sk-parallel-item\"><div class=\"sk-item\"><div class=\"sk-label-container\"><div class=\"sk-label fitted sk-toggleable\"><input class=\"sk-toggleable__control sk-hidden--visually\" id=\"sk-estimator-id-7\" type=\"checkbox\" ><label for=\"sk-estimator-id-7\" class=\"sk-toggleable__label fitted sk-toggleable__label-arrow fitted\">best_estimator_: SVC</label><div class=\"sk-toggleable__content fitted\"><pre>SVC(C=1, class_weight=&#x27;balanced&#x27;, gamma=0.1)</pre></div> </div></div><div class=\"sk-serial\"><div class=\"sk-item\"><div class=\"sk-estimator fitted sk-toggleable\"><input class=\"sk-toggleable__control sk-hidden--visually\" id=\"sk-estimator-id-8\" type=\"checkbox\" ><label for=\"sk-estimator-id-8\" class=\"sk-toggleable__label fitted sk-toggleable__label-arrow fitted\">&nbsp;SVC<a class=\"sk-estimator-doc-link fitted\" rel=\"noreferrer\" target=\"_blank\" href=\"https://scikit-learn.org/1.5/modules/generated/sklearn.svm.SVC.html\">?<span>Documentation for SVC</span></a></label><div class=\"sk-toggleable__content fitted\"><pre>SVC(C=1, class_weight=&#x27;balanced&#x27;, gamma=0.1)</pre></div> </div></div></div></div></div></div></div></div></div>"
            ]
          },
          "metadata": {},
          "execution_count": 75
        }
      ]
    },
    {
      "cell_type": "code",
      "source": [
        "print(grid_rus.best_estimator_)"
      ],
      "metadata": {
        "colab": {
          "base_uri": "https://localhost:8080/"
        },
        "id": "SjDPuftx2ZVW",
        "outputId": "194b9b36-56ea-432f-ebb2-2070f8cb20c1"
      },
      "execution_count": null,
      "outputs": [
        {
          "output_type": "stream",
          "name": "stdout",
          "text": [
            "SVC(C=1, class_weight='balanced', gamma=0.1)\n"
          ]
        }
      ]
    },
    {
      "cell_type": "code",
      "source": [
        "grid_predictions_rus = grid_rus.predict(X_test_rus)"
      ],
      "metadata": {
        "id": "j6TpzN9I2ief"
      },
      "execution_count": null,
      "outputs": []
    },
    {
      "cell_type": "code",
      "source": [
        "confusion_matrix(y_test_rus, grid_predictions_rus)"
      ],
      "metadata": {
        "colab": {
          "base_uri": "https://localhost:8080/"
        },
        "id": "oV2tL6b82s3D",
        "outputId": "d9660e44-b636-4fe5-f391-29667bc721fa"
      },
      "execution_count": null,
      "outputs": [
        {
          "output_type": "execute_result",
          "data": {
            "text/plain": [
              "array([[476, 151],\n",
              "       [172, 424]])"
            ]
          },
          "metadata": {},
          "execution_count": 78
        }
      ]
    },
    {
      "cell_type": "code",
      "source": [
        "print(classification_report(y_test_rus, grid_predictions_rus))"
      ],
      "metadata": {
        "colab": {
          "base_uri": "https://localhost:8080/"
        },
        "id": "0B-lpD0T21Hs",
        "outputId": "0b2a5f30-9e52-4f00-8f60-1c7790cc5549"
      },
      "execution_count": null,
      "outputs": [
        {
          "output_type": "stream",
          "name": "stdout",
          "text": [
            "              precision    recall  f1-score   support\n",
            "\n",
            "           0       0.73      0.76      0.75       627\n",
            "           1       0.74      0.71      0.72       596\n",
            "\n",
            "    accuracy                           0.74      1223\n",
            "   macro avg       0.74      0.74      0.74      1223\n",
            "weighted avg       0.74      0.74      0.74      1223\n",
            "\n"
          ]
        }
      ]
    },
    {
      "cell_type": "markdown",
      "source": [
        "## Model with Random Over Sampling"
      ],
      "metadata": {
        "id": "y5B3g9xv3Gzc"
      }
    },
    {
      "cell_type": "code",
      "source": [
        "svc_ros = SVC()"
      ],
      "metadata": {
        "id": "A4_CDzbR27bn"
      },
      "execution_count": null,
      "outputs": []
    },
    {
      "cell_type": "code",
      "source": [
        "svc_ros.fit(X_train_ros, y_train_ros)"
      ],
      "metadata": {
        "colab": {
          "base_uri": "https://localhost:8080/",
          "height": 80
        },
        "id": "kSjsE6KL3Quu",
        "outputId": "97df2583-ab74-4fa3-d685-5505c3812b38"
      },
      "execution_count": null,
      "outputs": [
        {
          "output_type": "execute_result",
          "data": {
            "text/plain": [
              "SVC()"
            ],
            "text/html": [
              "<style>#sk-container-id-5 {\n",
              "  /* Definition of color scheme common for light and dark mode */\n",
              "  --sklearn-color-text: black;\n",
              "  --sklearn-color-line: gray;\n",
              "  /* Definition of color scheme for unfitted estimators */\n",
              "  --sklearn-color-unfitted-level-0: #fff5e6;\n",
              "  --sklearn-color-unfitted-level-1: #f6e4d2;\n",
              "  --sklearn-color-unfitted-level-2: #ffe0b3;\n",
              "  --sklearn-color-unfitted-level-3: chocolate;\n",
              "  /* Definition of color scheme for fitted estimators */\n",
              "  --sklearn-color-fitted-level-0: #f0f8ff;\n",
              "  --sklearn-color-fitted-level-1: #d4ebff;\n",
              "  --sklearn-color-fitted-level-2: #b3dbfd;\n",
              "  --sklearn-color-fitted-level-3: cornflowerblue;\n",
              "\n",
              "  /* Specific color for light theme */\n",
              "  --sklearn-color-text-on-default-background: var(--sg-text-color, var(--theme-code-foreground, var(--jp-content-font-color1, black)));\n",
              "  --sklearn-color-background: var(--sg-background-color, var(--theme-background, var(--jp-layout-color0, white)));\n",
              "  --sklearn-color-border-box: var(--sg-text-color, var(--theme-code-foreground, var(--jp-content-font-color1, black)));\n",
              "  --sklearn-color-icon: #696969;\n",
              "\n",
              "  @media (prefers-color-scheme: dark) {\n",
              "    /* Redefinition of color scheme for dark theme */\n",
              "    --sklearn-color-text-on-default-background: var(--sg-text-color, var(--theme-code-foreground, var(--jp-content-font-color1, white)));\n",
              "    --sklearn-color-background: var(--sg-background-color, var(--theme-background, var(--jp-layout-color0, #111)));\n",
              "    --sklearn-color-border-box: var(--sg-text-color, var(--theme-code-foreground, var(--jp-content-font-color1, white)));\n",
              "    --sklearn-color-icon: #878787;\n",
              "  }\n",
              "}\n",
              "\n",
              "#sk-container-id-5 {\n",
              "  color: var(--sklearn-color-text);\n",
              "}\n",
              "\n",
              "#sk-container-id-5 pre {\n",
              "  padding: 0;\n",
              "}\n",
              "\n",
              "#sk-container-id-5 input.sk-hidden--visually {\n",
              "  border: 0;\n",
              "  clip: rect(1px 1px 1px 1px);\n",
              "  clip: rect(1px, 1px, 1px, 1px);\n",
              "  height: 1px;\n",
              "  margin: -1px;\n",
              "  overflow: hidden;\n",
              "  padding: 0;\n",
              "  position: absolute;\n",
              "  width: 1px;\n",
              "}\n",
              "\n",
              "#sk-container-id-5 div.sk-dashed-wrapped {\n",
              "  border: 1px dashed var(--sklearn-color-line);\n",
              "  margin: 0 0.4em 0.5em 0.4em;\n",
              "  box-sizing: border-box;\n",
              "  padding-bottom: 0.4em;\n",
              "  background-color: var(--sklearn-color-background);\n",
              "}\n",
              "\n",
              "#sk-container-id-5 div.sk-container {\n",
              "  /* jupyter's `normalize.less` sets `[hidden] { display: none; }`\n",
              "     but bootstrap.min.css set `[hidden] { display: none !important; }`\n",
              "     so we also need the `!important` here to be able to override the\n",
              "     default hidden behavior on the sphinx rendered scikit-learn.org.\n",
              "     See: https://github.com/scikit-learn/scikit-learn/issues/21755 */\n",
              "  display: inline-block !important;\n",
              "  position: relative;\n",
              "}\n",
              "\n",
              "#sk-container-id-5 div.sk-text-repr-fallback {\n",
              "  display: none;\n",
              "}\n",
              "\n",
              "div.sk-parallel-item,\n",
              "div.sk-serial,\n",
              "div.sk-item {\n",
              "  /* draw centered vertical line to link estimators */\n",
              "  background-image: linear-gradient(var(--sklearn-color-text-on-default-background), var(--sklearn-color-text-on-default-background));\n",
              "  background-size: 2px 100%;\n",
              "  background-repeat: no-repeat;\n",
              "  background-position: center center;\n",
              "}\n",
              "\n",
              "/* Parallel-specific style estimator block */\n",
              "\n",
              "#sk-container-id-5 div.sk-parallel-item::after {\n",
              "  content: \"\";\n",
              "  width: 100%;\n",
              "  border-bottom: 2px solid var(--sklearn-color-text-on-default-background);\n",
              "  flex-grow: 1;\n",
              "}\n",
              "\n",
              "#sk-container-id-5 div.sk-parallel {\n",
              "  display: flex;\n",
              "  align-items: stretch;\n",
              "  justify-content: center;\n",
              "  background-color: var(--sklearn-color-background);\n",
              "  position: relative;\n",
              "}\n",
              "\n",
              "#sk-container-id-5 div.sk-parallel-item {\n",
              "  display: flex;\n",
              "  flex-direction: column;\n",
              "}\n",
              "\n",
              "#sk-container-id-5 div.sk-parallel-item:first-child::after {\n",
              "  align-self: flex-end;\n",
              "  width: 50%;\n",
              "}\n",
              "\n",
              "#sk-container-id-5 div.sk-parallel-item:last-child::after {\n",
              "  align-self: flex-start;\n",
              "  width: 50%;\n",
              "}\n",
              "\n",
              "#sk-container-id-5 div.sk-parallel-item:only-child::after {\n",
              "  width: 0;\n",
              "}\n",
              "\n",
              "/* Serial-specific style estimator block */\n",
              "\n",
              "#sk-container-id-5 div.sk-serial {\n",
              "  display: flex;\n",
              "  flex-direction: column;\n",
              "  align-items: center;\n",
              "  background-color: var(--sklearn-color-background);\n",
              "  padding-right: 1em;\n",
              "  padding-left: 1em;\n",
              "}\n",
              "\n",
              "\n",
              "/* Toggleable style: style used for estimator/Pipeline/ColumnTransformer box that is\n",
              "clickable and can be expanded/collapsed.\n",
              "- Pipeline and ColumnTransformer use this feature and define the default style\n",
              "- Estimators will overwrite some part of the style using the `sk-estimator` class\n",
              "*/\n",
              "\n",
              "/* Pipeline and ColumnTransformer style (default) */\n",
              "\n",
              "#sk-container-id-5 div.sk-toggleable {\n",
              "  /* Default theme specific background. It is overwritten whether we have a\n",
              "  specific estimator or a Pipeline/ColumnTransformer */\n",
              "  background-color: var(--sklearn-color-background);\n",
              "}\n",
              "\n",
              "/* Toggleable label */\n",
              "#sk-container-id-5 label.sk-toggleable__label {\n",
              "  cursor: pointer;\n",
              "  display: block;\n",
              "  width: 100%;\n",
              "  margin-bottom: 0;\n",
              "  padding: 0.5em;\n",
              "  box-sizing: border-box;\n",
              "  text-align: center;\n",
              "}\n",
              "\n",
              "#sk-container-id-5 label.sk-toggleable__label-arrow:before {\n",
              "  /* Arrow on the left of the label */\n",
              "  content: \"▸\";\n",
              "  float: left;\n",
              "  margin-right: 0.25em;\n",
              "  color: var(--sklearn-color-icon);\n",
              "}\n",
              "\n",
              "#sk-container-id-5 label.sk-toggleable__label-arrow:hover:before {\n",
              "  color: var(--sklearn-color-text);\n",
              "}\n",
              "\n",
              "/* Toggleable content - dropdown */\n",
              "\n",
              "#sk-container-id-5 div.sk-toggleable__content {\n",
              "  max-height: 0;\n",
              "  max-width: 0;\n",
              "  overflow: hidden;\n",
              "  text-align: left;\n",
              "  /* unfitted */\n",
              "  background-color: var(--sklearn-color-unfitted-level-0);\n",
              "}\n",
              "\n",
              "#sk-container-id-5 div.sk-toggleable__content.fitted {\n",
              "  /* fitted */\n",
              "  background-color: var(--sklearn-color-fitted-level-0);\n",
              "}\n",
              "\n",
              "#sk-container-id-5 div.sk-toggleable__content pre {\n",
              "  margin: 0.2em;\n",
              "  border-radius: 0.25em;\n",
              "  color: var(--sklearn-color-text);\n",
              "  /* unfitted */\n",
              "  background-color: var(--sklearn-color-unfitted-level-0);\n",
              "}\n",
              "\n",
              "#sk-container-id-5 div.sk-toggleable__content.fitted pre {\n",
              "  /* unfitted */\n",
              "  background-color: var(--sklearn-color-fitted-level-0);\n",
              "}\n",
              "\n",
              "#sk-container-id-5 input.sk-toggleable__control:checked~div.sk-toggleable__content {\n",
              "  /* Expand drop-down */\n",
              "  max-height: 200px;\n",
              "  max-width: 100%;\n",
              "  overflow: auto;\n",
              "}\n",
              "\n",
              "#sk-container-id-5 input.sk-toggleable__control:checked~label.sk-toggleable__label-arrow:before {\n",
              "  content: \"▾\";\n",
              "}\n",
              "\n",
              "/* Pipeline/ColumnTransformer-specific style */\n",
              "\n",
              "#sk-container-id-5 div.sk-label input.sk-toggleable__control:checked~label.sk-toggleable__label {\n",
              "  color: var(--sklearn-color-text);\n",
              "  background-color: var(--sklearn-color-unfitted-level-2);\n",
              "}\n",
              "\n",
              "#sk-container-id-5 div.sk-label.fitted input.sk-toggleable__control:checked~label.sk-toggleable__label {\n",
              "  background-color: var(--sklearn-color-fitted-level-2);\n",
              "}\n",
              "\n",
              "/* Estimator-specific style */\n",
              "\n",
              "/* Colorize estimator box */\n",
              "#sk-container-id-5 div.sk-estimator input.sk-toggleable__control:checked~label.sk-toggleable__label {\n",
              "  /* unfitted */\n",
              "  background-color: var(--sklearn-color-unfitted-level-2);\n",
              "}\n",
              "\n",
              "#sk-container-id-5 div.sk-estimator.fitted input.sk-toggleable__control:checked~label.sk-toggleable__label {\n",
              "  /* fitted */\n",
              "  background-color: var(--sklearn-color-fitted-level-2);\n",
              "}\n",
              "\n",
              "#sk-container-id-5 div.sk-label label.sk-toggleable__label,\n",
              "#sk-container-id-5 div.sk-label label {\n",
              "  /* The background is the default theme color */\n",
              "  color: var(--sklearn-color-text-on-default-background);\n",
              "}\n",
              "\n",
              "/* On hover, darken the color of the background */\n",
              "#sk-container-id-5 div.sk-label:hover label.sk-toggleable__label {\n",
              "  color: var(--sklearn-color-text);\n",
              "  background-color: var(--sklearn-color-unfitted-level-2);\n",
              "}\n",
              "\n",
              "/* Label box, darken color on hover, fitted */\n",
              "#sk-container-id-5 div.sk-label.fitted:hover label.sk-toggleable__label.fitted {\n",
              "  color: var(--sklearn-color-text);\n",
              "  background-color: var(--sklearn-color-fitted-level-2);\n",
              "}\n",
              "\n",
              "/* Estimator label */\n",
              "\n",
              "#sk-container-id-5 div.sk-label label {\n",
              "  font-family: monospace;\n",
              "  font-weight: bold;\n",
              "  display: inline-block;\n",
              "  line-height: 1.2em;\n",
              "}\n",
              "\n",
              "#sk-container-id-5 div.sk-label-container {\n",
              "  text-align: center;\n",
              "}\n",
              "\n",
              "/* Estimator-specific */\n",
              "#sk-container-id-5 div.sk-estimator {\n",
              "  font-family: monospace;\n",
              "  border: 1px dotted var(--sklearn-color-border-box);\n",
              "  border-radius: 0.25em;\n",
              "  box-sizing: border-box;\n",
              "  margin-bottom: 0.5em;\n",
              "  /* unfitted */\n",
              "  background-color: var(--sklearn-color-unfitted-level-0);\n",
              "}\n",
              "\n",
              "#sk-container-id-5 div.sk-estimator.fitted {\n",
              "  /* fitted */\n",
              "  background-color: var(--sklearn-color-fitted-level-0);\n",
              "}\n",
              "\n",
              "/* on hover */\n",
              "#sk-container-id-5 div.sk-estimator:hover {\n",
              "  /* unfitted */\n",
              "  background-color: var(--sklearn-color-unfitted-level-2);\n",
              "}\n",
              "\n",
              "#sk-container-id-5 div.sk-estimator.fitted:hover {\n",
              "  /* fitted */\n",
              "  background-color: var(--sklearn-color-fitted-level-2);\n",
              "}\n",
              "\n",
              "/* Specification for estimator info (e.g. \"i\" and \"?\") */\n",
              "\n",
              "/* Common style for \"i\" and \"?\" */\n",
              "\n",
              ".sk-estimator-doc-link,\n",
              "a:link.sk-estimator-doc-link,\n",
              "a:visited.sk-estimator-doc-link {\n",
              "  float: right;\n",
              "  font-size: smaller;\n",
              "  line-height: 1em;\n",
              "  font-family: monospace;\n",
              "  background-color: var(--sklearn-color-background);\n",
              "  border-radius: 1em;\n",
              "  height: 1em;\n",
              "  width: 1em;\n",
              "  text-decoration: none !important;\n",
              "  margin-left: 1ex;\n",
              "  /* unfitted */\n",
              "  border: var(--sklearn-color-unfitted-level-1) 1pt solid;\n",
              "  color: var(--sklearn-color-unfitted-level-1);\n",
              "}\n",
              "\n",
              ".sk-estimator-doc-link.fitted,\n",
              "a:link.sk-estimator-doc-link.fitted,\n",
              "a:visited.sk-estimator-doc-link.fitted {\n",
              "  /* fitted */\n",
              "  border: var(--sklearn-color-fitted-level-1) 1pt solid;\n",
              "  color: var(--sklearn-color-fitted-level-1);\n",
              "}\n",
              "\n",
              "/* On hover */\n",
              "div.sk-estimator:hover .sk-estimator-doc-link:hover,\n",
              ".sk-estimator-doc-link:hover,\n",
              "div.sk-label-container:hover .sk-estimator-doc-link:hover,\n",
              ".sk-estimator-doc-link:hover {\n",
              "  /* unfitted */\n",
              "  background-color: var(--sklearn-color-unfitted-level-3);\n",
              "  color: var(--sklearn-color-background);\n",
              "  text-decoration: none;\n",
              "}\n",
              "\n",
              "div.sk-estimator.fitted:hover .sk-estimator-doc-link.fitted:hover,\n",
              ".sk-estimator-doc-link.fitted:hover,\n",
              "div.sk-label-container:hover .sk-estimator-doc-link.fitted:hover,\n",
              ".sk-estimator-doc-link.fitted:hover {\n",
              "  /* fitted */\n",
              "  background-color: var(--sklearn-color-fitted-level-3);\n",
              "  color: var(--sklearn-color-background);\n",
              "  text-decoration: none;\n",
              "}\n",
              "\n",
              "/* Span, style for the box shown on hovering the info icon */\n",
              ".sk-estimator-doc-link span {\n",
              "  display: none;\n",
              "  z-index: 9999;\n",
              "  position: relative;\n",
              "  font-weight: normal;\n",
              "  right: .2ex;\n",
              "  padding: .5ex;\n",
              "  margin: .5ex;\n",
              "  width: min-content;\n",
              "  min-width: 20ex;\n",
              "  max-width: 50ex;\n",
              "  color: var(--sklearn-color-text);\n",
              "  box-shadow: 2pt 2pt 4pt #999;\n",
              "  /* unfitted */\n",
              "  background: var(--sklearn-color-unfitted-level-0);\n",
              "  border: .5pt solid var(--sklearn-color-unfitted-level-3);\n",
              "}\n",
              "\n",
              ".sk-estimator-doc-link.fitted span {\n",
              "  /* fitted */\n",
              "  background: var(--sklearn-color-fitted-level-0);\n",
              "  border: var(--sklearn-color-fitted-level-3);\n",
              "}\n",
              "\n",
              ".sk-estimator-doc-link:hover span {\n",
              "  display: block;\n",
              "}\n",
              "\n",
              "/* \"?\"-specific style due to the `<a>` HTML tag */\n",
              "\n",
              "#sk-container-id-5 a.estimator_doc_link {\n",
              "  float: right;\n",
              "  font-size: 1rem;\n",
              "  line-height: 1em;\n",
              "  font-family: monospace;\n",
              "  background-color: var(--sklearn-color-background);\n",
              "  border-radius: 1rem;\n",
              "  height: 1rem;\n",
              "  width: 1rem;\n",
              "  text-decoration: none;\n",
              "  /* unfitted */\n",
              "  color: var(--sklearn-color-unfitted-level-1);\n",
              "  border: var(--sklearn-color-unfitted-level-1) 1pt solid;\n",
              "}\n",
              "\n",
              "#sk-container-id-5 a.estimator_doc_link.fitted {\n",
              "  /* fitted */\n",
              "  border: var(--sklearn-color-fitted-level-1) 1pt solid;\n",
              "  color: var(--sklearn-color-fitted-level-1);\n",
              "}\n",
              "\n",
              "/* On hover */\n",
              "#sk-container-id-5 a.estimator_doc_link:hover {\n",
              "  /* unfitted */\n",
              "  background-color: var(--sklearn-color-unfitted-level-3);\n",
              "  color: var(--sklearn-color-background);\n",
              "  text-decoration: none;\n",
              "}\n",
              "\n",
              "#sk-container-id-5 a.estimator_doc_link.fitted:hover {\n",
              "  /* fitted */\n",
              "  background-color: var(--sklearn-color-fitted-level-3);\n",
              "}\n",
              "</style><div id=\"sk-container-id-5\" class=\"sk-top-container\"><div class=\"sk-text-repr-fallback\"><pre>SVC()</pre><b>In a Jupyter environment, please rerun this cell to show the HTML representation or trust the notebook. <br />On GitHub, the HTML representation is unable to render, please try loading this page with nbviewer.org.</b></div><div class=\"sk-container\" hidden><div class=\"sk-item\"><div class=\"sk-estimator fitted sk-toggleable\"><input class=\"sk-toggleable__control sk-hidden--visually\" id=\"sk-estimator-id-9\" type=\"checkbox\" checked><label for=\"sk-estimator-id-9\" class=\"sk-toggleable__label fitted sk-toggleable__label-arrow fitted\">&nbsp;&nbsp;SVC<a class=\"sk-estimator-doc-link fitted\" rel=\"noreferrer\" target=\"_blank\" href=\"https://scikit-learn.org/1.5/modules/generated/sklearn.svm.SVC.html\">?<span>Documentation for SVC</span></a><span class=\"sk-estimator-doc-link fitted\">i<span>Fitted</span></span></label><div class=\"sk-toggleable__content fitted\"><pre>SVC()</pre></div> </div></div></div></div>"
            ]
          },
          "metadata": {},
          "execution_count": 81
        }
      ]
    },
    {
      "cell_type": "code",
      "source": [
        "y_pred_ros = svc_ros.predict(X_test_ros)"
      ],
      "metadata": {
        "id": "6jE4N6Mj3UoH"
      },
      "execution_count": null,
      "outputs": []
    },
    {
      "cell_type": "markdown",
      "source": [
        "## Model Accuracy"
      ],
      "metadata": {
        "id": "g6LcYbtp3Z1L"
      }
    },
    {
      "cell_type": "code",
      "source": [
        "confusion_matrix(y_test_ros, y_pred_ros)"
      ],
      "metadata": {
        "colab": {
          "base_uri": "https://localhost:8080/"
        },
        "id": "uQn9-Ex23ZfA",
        "outputId": "c595df3c-e90a-47a7-81b4-5cc807ef2986"
      },
      "execution_count": null,
      "outputs": [
        {
          "output_type": "execute_result",
          "data": {
            "text/plain": [
              "array([[1823,  556],\n",
              "       [ 626, 1773]])"
            ]
          },
          "metadata": {},
          "execution_count": 83
        }
      ]
    },
    {
      "cell_type": "code",
      "source": [
        "print(classification_report(y_test_ros, y_pred_ros))"
      ],
      "metadata": {
        "colab": {
          "base_uri": "https://localhost:8080/"
        },
        "id": "wbj3lTU_3i9r",
        "outputId": "d1d80682-e8ab-4773-d81a-75615eba5312"
      },
      "execution_count": null,
      "outputs": [
        {
          "output_type": "stream",
          "name": "stdout",
          "text": [
            "              precision    recall  f1-score   support\n",
            "\n",
            "           0       0.74      0.77      0.76      2379\n",
            "           1       0.76      0.74      0.75      2399\n",
            "\n",
            "    accuracy                           0.75      4778\n",
            "   macro avg       0.75      0.75      0.75      4778\n",
            "weighted avg       0.75      0.75      0.75      4778\n",
            "\n"
          ]
        }
      ]
    },
    {
      "cell_type": "markdown",
      "source": [
        "## Hyperparameter Tunning"
      ],
      "metadata": {
        "id": "Pnw4PmVG3y-o"
      }
    },
    {
      "cell_type": "code",
      "source": [
        "param_grid = {'C': [0.1,1,10],\n",
        "              'gamma': [1,0.1,0.01],\n",
        "              'kernel': ['rbf'],\n",
        "              'class_weight': ['balanced']}"
      ],
      "metadata": {
        "id": "oXrLjogP3sJH"
      },
      "execution_count": null,
      "outputs": []
    },
    {
      "cell_type": "code",
      "source": [
        "grid_ros = GridSearchCV(SVC(), param_grid, refit=True, verbose=2, cv=2)\n",
        "grid_ros.fit(X_train_ros,y_train_ros)"
      ],
      "metadata": {
        "colab": {
          "base_uri": "https://localhost:8080/",
          "height": 464
        },
        "id": "IOWms9dY3Yo3",
        "outputId": "3158380a-39b0-4a7c-fc4e-42031d162fd6"
      },
      "execution_count": null,
      "outputs": [
        {
          "output_type": "stream",
          "name": "stdout",
          "text": [
            "Fitting 2 folds for each of 9 candidates, totalling 18 fits\n",
            "[CV] END ..C=0.1, class_weight=balanced, gamma=1, kernel=rbf; total time=   6.9s\n",
            "[CV] END ..C=0.1, class_weight=balanced, gamma=1, kernel=rbf; total time=   3.6s\n",
            "[CV] END C=0.1, class_weight=balanced, gamma=0.1, kernel=rbf; total time=   2.6s\n",
            "[CV] END C=0.1, class_weight=balanced, gamma=0.1, kernel=rbf; total time=   3.6s\n",
            "[CV] END C=0.1, class_weight=balanced, gamma=0.01, kernel=rbf; total time=   3.6s\n",
            "[CV] END C=0.1, class_weight=balanced, gamma=0.01, kernel=rbf; total time=   2.9s\n",
            "[CV] END ....C=1, class_weight=balanced, gamma=1, kernel=rbf; total time=   7.1s\n",
            "[CV] END ....C=1, class_weight=balanced, gamma=1, kernel=rbf; total time=   5.8s\n",
            "[CV] END ..C=1, class_weight=balanced, gamma=0.1, kernel=rbf; total time=   2.3s\n",
            "[CV] END ..C=1, class_weight=balanced, gamma=0.1, kernel=rbf; total time=   2.3s\n",
            "[CV] END .C=1, class_weight=balanced, gamma=0.01, kernel=rbf; total time=   4.1s\n",
            "[CV] END .C=1, class_weight=balanced, gamma=0.01, kernel=rbf; total time=   6.5s\n",
            "[CV] END ...C=10, class_weight=balanced, gamma=1, kernel=rbf; total time=   4.6s\n",
            "[CV] END ...C=10, class_weight=balanced, gamma=1, kernel=rbf; total time=   6.1s\n",
            "[CV] END .C=10, class_weight=balanced, gamma=0.1, kernel=rbf; total time=   2.7s\n",
            "[CV] END .C=10, class_weight=balanced, gamma=0.1, kernel=rbf; total time=   4.0s\n",
            "[CV] END C=10, class_weight=balanced, gamma=0.01, kernel=rbf; total time=   6.9s\n",
            "[CV] END C=10, class_weight=balanced, gamma=0.01, kernel=rbf; total time=   2.4s\n"
          ]
        },
        {
          "output_type": "execute_result",
          "data": {
            "text/plain": [
              "GridSearchCV(cv=2, estimator=SVC(),\n",
              "             param_grid={'C': [0.1, 1, 10], 'class_weight': ['balanced'],\n",
              "                         'gamma': [1, 0.1, 0.01], 'kernel': ['rbf']},\n",
              "             verbose=2)"
            ],
            "text/html": [
              "<style>#sk-container-id-6 {\n",
              "  /* Definition of color scheme common for light and dark mode */\n",
              "  --sklearn-color-text: black;\n",
              "  --sklearn-color-line: gray;\n",
              "  /* Definition of color scheme for unfitted estimators */\n",
              "  --sklearn-color-unfitted-level-0: #fff5e6;\n",
              "  --sklearn-color-unfitted-level-1: #f6e4d2;\n",
              "  --sklearn-color-unfitted-level-2: #ffe0b3;\n",
              "  --sklearn-color-unfitted-level-3: chocolate;\n",
              "  /* Definition of color scheme for fitted estimators */\n",
              "  --sklearn-color-fitted-level-0: #f0f8ff;\n",
              "  --sklearn-color-fitted-level-1: #d4ebff;\n",
              "  --sklearn-color-fitted-level-2: #b3dbfd;\n",
              "  --sklearn-color-fitted-level-3: cornflowerblue;\n",
              "\n",
              "  /* Specific color for light theme */\n",
              "  --sklearn-color-text-on-default-background: var(--sg-text-color, var(--theme-code-foreground, var(--jp-content-font-color1, black)));\n",
              "  --sklearn-color-background: var(--sg-background-color, var(--theme-background, var(--jp-layout-color0, white)));\n",
              "  --sklearn-color-border-box: var(--sg-text-color, var(--theme-code-foreground, var(--jp-content-font-color1, black)));\n",
              "  --sklearn-color-icon: #696969;\n",
              "\n",
              "  @media (prefers-color-scheme: dark) {\n",
              "    /* Redefinition of color scheme for dark theme */\n",
              "    --sklearn-color-text-on-default-background: var(--sg-text-color, var(--theme-code-foreground, var(--jp-content-font-color1, white)));\n",
              "    --sklearn-color-background: var(--sg-background-color, var(--theme-background, var(--jp-layout-color0, #111)));\n",
              "    --sklearn-color-border-box: var(--sg-text-color, var(--theme-code-foreground, var(--jp-content-font-color1, white)));\n",
              "    --sklearn-color-icon: #878787;\n",
              "  }\n",
              "}\n",
              "\n",
              "#sk-container-id-6 {\n",
              "  color: var(--sklearn-color-text);\n",
              "}\n",
              "\n",
              "#sk-container-id-6 pre {\n",
              "  padding: 0;\n",
              "}\n",
              "\n",
              "#sk-container-id-6 input.sk-hidden--visually {\n",
              "  border: 0;\n",
              "  clip: rect(1px 1px 1px 1px);\n",
              "  clip: rect(1px, 1px, 1px, 1px);\n",
              "  height: 1px;\n",
              "  margin: -1px;\n",
              "  overflow: hidden;\n",
              "  padding: 0;\n",
              "  position: absolute;\n",
              "  width: 1px;\n",
              "}\n",
              "\n",
              "#sk-container-id-6 div.sk-dashed-wrapped {\n",
              "  border: 1px dashed var(--sklearn-color-line);\n",
              "  margin: 0 0.4em 0.5em 0.4em;\n",
              "  box-sizing: border-box;\n",
              "  padding-bottom: 0.4em;\n",
              "  background-color: var(--sklearn-color-background);\n",
              "}\n",
              "\n",
              "#sk-container-id-6 div.sk-container {\n",
              "  /* jupyter's `normalize.less` sets `[hidden] { display: none; }`\n",
              "     but bootstrap.min.css set `[hidden] { display: none !important; }`\n",
              "     so we also need the `!important` here to be able to override the\n",
              "     default hidden behavior on the sphinx rendered scikit-learn.org.\n",
              "     See: https://github.com/scikit-learn/scikit-learn/issues/21755 */\n",
              "  display: inline-block !important;\n",
              "  position: relative;\n",
              "}\n",
              "\n",
              "#sk-container-id-6 div.sk-text-repr-fallback {\n",
              "  display: none;\n",
              "}\n",
              "\n",
              "div.sk-parallel-item,\n",
              "div.sk-serial,\n",
              "div.sk-item {\n",
              "  /* draw centered vertical line to link estimators */\n",
              "  background-image: linear-gradient(var(--sklearn-color-text-on-default-background), var(--sklearn-color-text-on-default-background));\n",
              "  background-size: 2px 100%;\n",
              "  background-repeat: no-repeat;\n",
              "  background-position: center center;\n",
              "}\n",
              "\n",
              "/* Parallel-specific style estimator block */\n",
              "\n",
              "#sk-container-id-6 div.sk-parallel-item::after {\n",
              "  content: \"\";\n",
              "  width: 100%;\n",
              "  border-bottom: 2px solid var(--sklearn-color-text-on-default-background);\n",
              "  flex-grow: 1;\n",
              "}\n",
              "\n",
              "#sk-container-id-6 div.sk-parallel {\n",
              "  display: flex;\n",
              "  align-items: stretch;\n",
              "  justify-content: center;\n",
              "  background-color: var(--sklearn-color-background);\n",
              "  position: relative;\n",
              "}\n",
              "\n",
              "#sk-container-id-6 div.sk-parallel-item {\n",
              "  display: flex;\n",
              "  flex-direction: column;\n",
              "}\n",
              "\n",
              "#sk-container-id-6 div.sk-parallel-item:first-child::after {\n",
              "  align-self: flex-end;\n",
              "  width: 50%;\n",
              "}\n",
              "\n",
              "#sk-container-id-6 div.sk-parallel-item:last-child::after {\n",
              "  align-self: flex-start;\n",
              "  width: 50%;\n",
              "}\n",
              "\n",
              "#sk-container-id-6 div.sk-parallel-item:only-child::after {\n",
              "  width: 0;\n",
              "}\n",
              "\n",
              "/* Serial-specific style estimator block */\n",
              "\n",
              "#sk-container-id-6 div.sk-serial {\n",
              "  display: flex;\n",
              "  flex-direction: column;\n",
              "  align-items: center;\n",
              "  background-color: var(--sklearn-color-background);\n",
              "  padding-right: 1em;\n",
              "  padding-left: 1em;\n",
              "}\n",
              "\n",
              "\n",
              "/* Toggleable style: style used for estimator/Pipeline/ColumnTransformer box that is\n",
              "clickable and can be expanded/collapsed.\n",
              "- Pipeline and ColumnTransformer use this feature and define the default style\n",
              "- Estimators will overwrite some part of the style using the `sk-estimator` class\n",
              "*/\n",
              "\n",
              "/* Pipeline and ColumnTransformer style (default) */\n",
              "\n",
              "#sk-container-id-6 div.sk-toggleable {\n",
              "  /* Default theme specific background. It is overwritten whether we have a\n",
              "  specific estimator or a Pipeline/ColumnTransformer */\n",
              "  background-color: var(--sklearn-color-background);\n",
              "}\n",
              "\n",
              "/* Toggleable label */\n",
              "#sk-container-id-6 label.sk-toggleable__label {\n",
              "  cursor: pointer;\n",
              "  display: block;\n",
              "  width: 100%;\n",
              "  margin-bottom: 0;\n",
              "  padding: 0.5em;\n",
              "  box-sizing: border-box;\n",
              "  text-align: center;\n",
              "}\n",
              "\n",
              "#sk-container-id-6 label.sk-toggleable__label-arrow:before {\n",
              "  /* Arrow on the left of the label */\n",
              "  content: \"▸\";\n",
              "  float: left;\n",
              "  margin-right: 0.25em;\n",
              "  color: var(--sklearn-color-icon);\n",
              "}\n",
              "\n",
              "#sk-container-id-6 label.sk-toggleable__label-arrow:hover:before {\n",
              "  color: var(--sklearn-color-text);\n",
              "}\n",
              "\n",
              "/* Toggleable content - dropdown */\n",
              "\n",
              "#sk-container-id-6 div.sk-toggleable__content {\n",
              "  max-height: 0;\n",
              "  max-width: 0;\n",
              "  overflow: hidden;\n",
              "  text-align: left;\n",
              "  /* unfitted */\n",
              "  background-color: var(--sklearn-color-unfitted-level-0);\n",
              "}\n",
              "\n",
              "#sk-container-id-6 div.sk-toggleable__content.fitted {\n",
              "  /* fitted */\n",
              "  background-color: var(--sklearn-color-fitted-level-0);\n",
              "}\n",
              "\n",
              "#sk-container-id-6 div.sk-toggleable__content pre {\n",
              "  margin: 0.2em;\n",
              "  border-radius: 0.25em;\n",
              "  color: var(--sklearn-color-text);\n",
              "  /* unfitted */\n",
              "  background-color: var(--sklearn-color-unfitted-level-0);\n",
              "}\n",
              "\n",
              "#sk-container-id-6 div.sk-toggleable__content.fitted pre {\n",
              "  /* unfitted */\n",
              "  background-color: var(--sklearn-color-fitted-level-0);\n",
              "}\n",
              "\n",
              "#sk-container-id-6 input.sk-toggleable__control:checked~div.sk-toggleable__content {\n",
              "  /* Expand drop-down */\n",
              "  max-height: 200px;\n",
              "  max-width: 100%;\n",
              "  overflow: auto;\n",
              "}\n",
              "\n",
              "#sk-container-id-6 input.sk-toggleable__control:checked~label.sk-toggleable__label-arrow:before {\n",
              "  content: \"▾\";\n",
              "}\n",
              "\n",
              "/* Pipeline/ColumnTransformer-specific style */\n",
              "\n",
              "#sk-container-id-6 div.sk-label input.sk-toggleable__control:checked~label.sk-toggleable__label {\n",
              "  color: var(--sklearn-color-text);\n",
              "  background-color: var(--sklearn-color-unfitted-level-2);\n",
              "}\n",
              "\n",
              "#sk-container-id-6 div.sk-label.fitted input.sk-toggleable__control:checked~label.sk-toggleable__label {\n",
              "  background-color: var(--sklearn-color-fitted-level-2);\n",
              "}\n",
              "\n",
              "/* Estimator-specific style */\n",
              "\n",
              "/* Colorize estimator box */\n",
              "#sk-container-id-6 div.sk-estimator input.sk-toggleable__control:checked~label.sk-toggleable__label {\n",
              "  /* unfitted */\n",
              "  background-color: var(--sklearn-color-unfitted-level-2);\n",
              "}\n",
              "\n",
              "#sk-container-id-6 div.sk-estimator.fitted input.sk-toggleable__control:checked~label.sk-toggleable__label {\n",
              "  /* fitted */\n",
              "  background-color: var(--sklearn-color-fitted-level-2);\n",
              "}\n",
              "\n",
              "#sk-container-id-6 div.sk-label label.sk-toggleable__label,\n",
              "#sk-container-id-6 div.sk-label label {\n",
              "  /* The background is the default theme color */\n",
              "  color: var(--sklearn-color-text-on-default-background);\n",
              "}\n",
              "\n",
              "/* On hover, darken the color of the background */\n",
              "#sk-container-id-6 div.sk-label:hover label.sk-toggleable__label {\n",
              "  color: var(--sklearn-color-text);\n",
              "  background-color: var(--sklearn-color-unfitted-level-2);\n",
              "}\n",
              "\n",
              "/* Label box, darken color on hover, fitted */\n",
              "#sk-container-id-6 div.sk-label.fitted:hover label.sk-toggleable__label.fitted {\n",
              "  color: var(--sklearn-color-text);\n",
              "  background-color: var(--sklearn-color-fitted-level-2);\n",
              "}\n",
              "\n",
              "/* Estimator label */\n",
              "\n",
              "#sk-container-id-6 div.sk-label label {\n",
              "  font-family: monospace;\n",
              "  font-weight: bold;\n",
              "  display: inline-block;\n",
              "  line-height: 1.2em;\n",
              "}\n",
              "\n",
              "#sk-container-id-6 div.sk-label-container {\n",
              "  text-align: center;\n",
              "}\n",
              "\n",
              "/* Estimator-specific */\n",
              "#sk-container-id-6 div.sk-estimator {\n",
              "  font-family: monospace;\n",
              "  border: 1px dotted var(--sklearn-color-border-box);\n",
              "  border-radius: 0.25em;\n",
              "  box-sizing: border-box;\n",
              "  margin-bottom: 0.5em;\n",
              "  /* unfitted */\n",
              "  background-color: var(--sklearn-color-unfitted-level-0);\n",
              "}\n",
              "\n",
              "#sk-container-id-6 div.sk-estimator.fitted {\n",
              "  /* fitted */\n",
              "  background-color: var(--sklearn-color-fitted-level-0);\n",
              "}\n",
              "\n",
              "/* on hover */\n",
              "#sk-container-id-6 div.sk-estimator:hover {\n",
              "  /* unfitted */\n",
              "  background-color: var(--sklearn-color-unfitted-level-2);\n",
              "}\n",
              "\n",
              "#sk-container-id-6 div.sk-estimator.fitted:hover {\n",
              "  /* fitted */\n",
              "  background-color: var(--sklearn-color-fitted-level-2);\n",
              "}\n",
              "\n",
              "/* Specification for estimator info (e.g. \"i\" and \"?\") */\n",
              "\n",
              "/* Common style for \"i\" and \"?\" */\n",
              "\n",
              ".sk-estimator-doc-link,\n",
              "a:link.sk-estimator-doc-link,\n",
              "a:visited.sk-estimator-doc-link {\n",
              "  float: right;\n",
              "  font-size: smaller;\n",
              "  line-height: 1em;\n",
              "  font-family: monospace;\n",
              "  background-color: var(--sklearn-color-background);\n",
              "  border-radius: 1em;\n",
              "  height: 1em;\n",
              "  width: 1em;\n",
              "  text-decoration: none !important;\n",
              "  margin-left: 1ex;\n",
              "  /* unfitted */\n",
              "  border: var(--sklearn-color-unfitted-level-1) 1pt solid;\n",
              "  color: var(--sklearn-color-unfitted-level-1);\n",
              "}\n",
              "\n",
              ".sk-estimator-doc-link.fitted,\n",
              "a:link.sk-estimator-doc-link.fitted,\n",
              "a:visited.sk-estimator-doc-link.fitted {\n",
              "  /* fitted */\n",
              "  border: var(--sklearn-color-fitted-level-1) 1pt solid;\n",
              "  color: var(--sklearn-color-fitted-level-1);\n",
              "}\n",
              "\n",
              "/* On hover */\n",
              "div.sk-estimator:hover .sk-estimator-doc-link:hover,\n",
              ".sk-estimator-doc-link:hover,\n",
              "div.sk-label-container:hover .sk-estimator-doc-link:hover,\n",
              ".sk-estimator-doc-link:hover {\n",
              "  /* unfitted */\n",
              "  background-color: var(--sklearn-color-unfitted-level-3);\n",
              "  color: var(--sklearn-color-background);\n",
              "  text-decoration: none;\n",
              "}\n",
              "\n",
              "div.sk-estimator.fitted:hover .sk-estimator-doc-link.fitted:hover,\n",
              ".sk-estimator-doc-link.fitted:hover,\n",
              "div.sk-label-container:hover .sk-estimator-doc-link.fitted:hover,\n",
              ".sk-estimator-doc-link.fitted:hover {\n",
              "  /* fitted */\n",
              "  background-color: var(--sklearn-color-fitted-level-3);\n",
              "  color: var(--sklearn-color-background);\n",
              "  text-decoration: none;\n",
              "}\n",
              "\n",
              "/* Span, style for the box shown on hovering the info icon */\n",
              ".sk-estimator-doc-link span {\n",
              "  display: none;\n",
              "  z-index: 9999;\n",
              "  position: relative;\n",
              "  font-weight: normal;\n",
              "  right: .2ex;\n",
              "  padding: .5ex;\n",
              "  margin: .5ex;\n",
              "  width: min-content;\n",
              "  min-width: 20ex;\n",
              "  max-width: 50ex;\n",
              "  color: var(--sklearn-color-text);\n",
              "  box-shadow: 2pt 2pt 4pt #999;\n",
              "  /* unfitted */\n",
              "  background: var(--sklearn-color-unfitted-level-0);\n",
              "  border: .5pt solid var(--sklearn-color-unfitted-level-3);\n",
              "}\n",
              "\n",
              ".sk-estimator-doc-link.fitted span {\n",
              "  /* fitted */\n",
              "  background: var(--sklearn-color-fitted-level-0);\n",
              "  border: var(--sklearn-color-fitted-level-3);\n",
              "}\n",
              "\n",
              ".sk-estimator-doc-link:hover span {\n",
              "  display: block;\n",
              "}\n",
              "\n",
              "/* \"?\"-specific style due to the `<a>` HTML tag */\n",
              "\n",
              "#sk-container-id-6 a.estimator_doc_link {\n",
              "  float: right;\n",
              "  font-size: 1rem;\n",
              "  line-height: 1em;\n",
              "  font-family: monospace;\n",
              "  background-color: var(--sklearn-color-background);\n",
              "  border-radius: 1rem;\n",
              "  height: 1rem;\n",
              "  width: 1rem;\n",
              "  text-decoration: none;\n",
              "  /* unfitted */\n",
              "  color: var(--sklearn-color-unfitted-level-1);\n",
              "  border: var(--sklearn-color-unfitted-level-1) 1pt solid;\n",
              "}\n",
              "\n",
              "#sk-container-id-6 a.estimator_doc_link.fitted {\n",
              "  /* fitted */\n",
              "  border: var(--sklearn-color-fitted-level-1) 1pt solid;\n",
              "  color: var(--sklearn-color-fitted-level-1);\n",
              "}\n",
              "\n",
              "/* On hover */\n",
              "#sk-container-id-6 a.estimator_doc_link:hover {\n",
              "  /* unfitted */\n",
              "  background-color: var(--sklearn-color-unfitted-level-3);\n",
              "  color: var(--sklearn-color-background);\n",
              "  text-decoration: none;\n",
              "}\n",
              "\n",
              "#sk-container-id-6 a.estimator_doc_link.fitted:hover {\n",
              "  /* fitted */\n",
              "  background-color: var(--sklearn-color-fitted-level-3);\n",
              "}\n",
              "</style><div id=\"sk-container-id-6\" class=\"sk-top-container\"><div class=\"sk-text-repr-fallback\"><pre>GridSearchCV(cv=2, estimator=SVC(),\n",
              "             param_grid={&#x27;C&#x27;: [0.1, 1, 10], &#x27;class_weight&#x27;: [&#x27;balanced&#x27;],\n",
              "                         &#x27;gamma&#x27;: [1, 0.1, 0.01], &#x27;kernel&#x27;: [&#x27;rbf&#x27;]},\n",
              "             verbose=2)</pre><b>In a Jupyter environment, please rerun this cell to show the HTML representation or trust the notebook. <br />On GitHub, the HTML representation is unable to render, please try loading this page with nbviewer.org.</b></div><div class=\"sk-container\" hidden><div class=\"sk-item sk-dashed-wrapped\"><div class=\"sk-label-container\"><div class=\"sk-label fitted sk-toggleable\"><input class=\"sk-toggleable__control sk-hidden--visually\" id=\"sk-estimator-id-10\" type=\"checkbox\" ><label for=\"sk-estimator-id-10\" class=\"sk-toggleable__label fitted sk-toggleable__label-arrow fitted\">&nbsp;&nbsp;GridSearchCV<a class=\"sk-estimator-doc-link fitted\" rel=\"noreferrer\" target=\"_blank\" href=\"https://scikit-learn.org/1.5/modules/generated/sklearn.model_selection.GridSearchCV.html\">?<span>Documentation for GridSearchCV</span></a><span class=\"sk-estimator-doc-link fitted\">i<span>Fitted</span></span></label><div class=\"sk-toggleable__content fitted\"><pre>GridSearchCV(cv=2, estimator=SVC(),\n",
              "             param_grid={&#x27;C&#x27;: [0.1, 1, 10], &#x27;class_weight&#x27;: [&#x27;balanced&#x27;],\n",
              "                         &#x27;gamma&#x27;: [1, 0.1, 0.01], &#x27;kernel&#x27;: [&#x27;rbf&#x27;]},\n",
              "             verbose=2)</pre></div> </div></div><div class=\"sk-parallel\"><div class=\"sk-parallel-item\"><div class=\"sk-item\"><div class=\"sk-label-container\"><div class=\"sk-label fitted sk-toggleable\"><input class=\"sk-toggleable__control sk-hidden--visually\" id=\"sk-estimator-id-11\" type=\"checkbox\" ><label for=\"sk-estimator-id-11\" class=\"sk-toggleable__label fitted sk-toggleable__label-arrow fitted\">best_estimator_: SVC</label><div class=\"sk-toggleable__content fitted\"><pre>SVC(C=10, class_weight=&#x27;balanced&#x27;, gamma=1)</pre></div> </div></div><div class=\"sk-serial\"><div class=\"sk-item\"><div class=\"sk-estimator fitted sk-toggleable\"><input class=\"sk-toggleable__control sk-hidden--visually\" id=\"sk-estimator-id-12\" type=\"checkbox\" ><label for=\"sk-estimator-id-12\" class=\"sk-toggleable__label fitted sk-toggleable__label-arrow fitted\">&nbsp;SVC<a class=\"sk-estimator-doc-link fitted\" rel=\"noreferrer\" target=\"_blank\" href=\"https://scikit-learn.org/1.5/modules/generated/sklearn.svm.SVC.html\">?<span>Documentation for SVC</span></a></label><div class=\"sk-toggleable__content fitted\"><pre>SVC(C=10, class_weight=&#x27;balanced&#x27;, gamma=1)</pre></div> </div></div></div></div></div></div></div></div></div>"
            ]
          },
          "metadata": {},
          "execution_count": 86
        }
      ]
    },
    {
      "cell_type": "code",
      "source": [
        "print(grid_ros.best_estimator_)"
      ],
      "metadata": {
        "colab": {
          "base_uri": "https://localhost:8080/"
        },
        "id": "e739Hnvd4Js7",
        "outputId": "368ca341-e16b-4524-be76-577d166b279c"
      },
      "execution_count": null,
      "outputs": [
        {
          "output_type": "stream",
          "name": "stdout",
          "text": [
            "SVC(C=10, class_weight='balanced', gamma=1)\n"
          ]
        }
      ]
    },
    {
      "cell_type": "code",
      "source": [
        "grid_predictions_ros = grid_ros.predict(X_test_ros)"
      ],
      "metadata": {
        "id": "DndcFOcb4Rn-"
      },
      "execution_count": null,
      "outputs": []
    },
    {
      "cell_type": "code",
      "source": [
        "confusion_matrix(y_test_ros, grid_predictions_ros)"
      ],
      "metadata": {
        "colab": {
          "base_uri": "https://localhost:8080/"
        },
        "id": "FfqCtHS14Zu9",
        "outputId": "005f6261-cce3-4a2c-e332-3f7372719369"
      },
      "execution_count": null,
      "outputs": [
        {
          "output_type": "execute_result",
          "data": {
            "text/plain": [
              "array([[2047,  332],\n",
              "       [  68, 2331]])"
            ]
          },
          "metadata": {},
          "execution_count": 89
        }
      ]
    },
    {
      "cell_type": "code",
      "source": [
        "print(classification_report(y_test_ros, grid_predictions_ros))"
      ],
      "metadata": {
        "colab": {
          "base_uri": "https://localhost:8080/"
        },
        "id": "i18qIYbo4g2k",
        "outputId": "385ca829-d647-4619-b76a-1dbb085e437a"
      },
      "execution_count": null,
      "outputs": [
        {
          "output_type": "stream",
          "name": "stdout",
          "text": [
            "              precision    recall  f1-score   support\n",
            "\n",
            "           0       0.97      0.86      0.91      2379\n",
            "           1       0.88      0.97      0.92      2399\n",
            "\n",
            "    accuracy                           0.92      4778\n",
            "   macro avg       0.92      0.92      0.92      4778\n",
            "weighted avg       0.92      0.92      0.92      4778\n",
            "\n"
          ]
        }
      ]
    },
    {
      "cell_type": "markdown",
      "source": [
        "##Explanation"
      ],
      "metadata": {
        "id": "KJBohH2aVYWn"
      }
    },
    {
      "cell_type": "markdown",
      "source": [
        "Applying Support Vector Machine on Random Undersampling Data\n",
        "\n",
        "Description-\n",
        "This section covers the application of a Support Vector Machine (SVM) model on a randomly undersampled dataset. The key steps involved are:\n",
        "1. Fitting the SVM model on the undersampled training data.\n",
        "2. Predicting on the test data.\n",
        "3. Evaluating the model's performance using a confusion matrix and classification report.\n",
        "4. Fit the SVM model on the undersampled training data.\n",
        "5. Predict on the test data.\n",
        "6. Store the predicted y-values.\n",
        "7. Compare the predicted and actual y-values to calculate model accuracy.\n",
        "8. Create a confusion matrix and classification report.\n",
        "9. The overall accuracy of the undersampled model is 73%, lower than the previous models (84-80%).\n",
        "9. However, the accuracy for the class of interest (people who are leaving the bank) is much higher, with a recall of 71% and precision of 73%.\n",
        "10. This model is much better than the previous models or the raw data undersampling.\n",
        "11. Use grid search to further tune the SVM model.\n",
        "12. The best model has the following hyperparameters:\n",
        "C = 1\n",
        "Class weight = balanced\n",
        "Gamma = 0.1\n",
        "\n",
        "13. Predict on the test data using the tuned SVM model.\n",
        "14. Compare the predicted and actual y-values.\n",
        "15. The accuracy of the tuned undersampled model is similar to the untuned undersampled model (around 73-74%).\n",
        "16. There is no significant difference in performance between random\n",
        "undersampling with or without hyperparameter tuning.\n",
        "\n",
        "\n",
        "\n",
        "Random Oversampling:\n",
        "\n",
        "1. Random oversampling is a technique where the underrepresented class is oversampled to balance the dataset.\n",
        "2. Fit the SVM model on the randomly oversampled training data.\n",
        "3. Predict on the randomly oversampled test data.\n",
        "4. The accuracy of the default random oversampling model is similar to the random undersampling models (around 73-74%).\n",
        "5. However, the random oversampling model performs much better than the raw data model.\n",
        "\n",
        "\n",
        "\n",
        "Tuning the Random Oversampling Model:\n",
        "\n",
        "1. Tune the random oversampling SVM model using grid search.\n",
        "2. Hyperparameters:\n",
        "\n",
        "C = 1\n",
        "Class weight = balanced\n",
        "Gamma = 0.1\n",
        "\n",
        "3. The tuned random oversampling model has the highest overall accuracy at 92%.\n",
        "4. The recall for the class of interest is also very high at 97%.\n",
        "\n",
        "Comparison of Models:\n",
        "\n",
        "![{64951989-B253-4A11-B1D6-D9D2DCC4CC89}.png](data:image/png;base64,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)\n",
        "\n",
        "1. The tuned random oversampling model outperforms all other models in terms of overall accuracy and recall for the class of interest.\n",
        "\n",
        "2. Data preprocessing, feature engineering, and hyperparameter tuning are crucial for improving model performance.\n",
        "\n",
        "\n",
        "\n",
        "Key Takeaways -\n",
        "\n",
        "1. Random undersampling and oversampling can help address class imbalance issues.\n",
        "2. Hyperparameter tuning can further improve model performance.\n",
        "3. Data preprocessing and feature engineering are critical steps before modeling.\n",
        "4. The tuned random oversampling SVM model achieved the highest accuracy and recall for the class of interest."
      ],
      "metadata": {
        "id": "pWGwTArlVUAi"
      }
    }
  ]
}